{
 "cells": [
  {
   "cell_type": "code",
   "execution_count": 30,
   "metadata": {},
   "outputs": [],
   "source": [
    "import pandas as pd\n",
    "from constants import *\n",
    "from helpers import normalise_number_data, normalise_word_data\n",
    "from sklearn.model_selection import train_test_split\n",
    "import numpy as np\n",
    "from sklearn import preprocessing"
   ]
  },
  {
   "cell_type": "code",
   "execution_count": 31,
   "metadata": {},
   "outputs": [],
   "source": [
    "google_products = pd.read_csv(GOOGLE_SMALL_PATH)\n",
    "amazon_products = pd.read_csv(AMAZON_SMALL_PATH)"
   ]
  },
  {
   "cell_type": "code",
   "execution_count": 32,
   "metadata": {},
   "outputs": [],
   "source": [
    "google_products['price'] = normalise_number_data(google_products['price'])\n",
    "amazon_products['price'] = normalise_number_data(amazon_products['price'])"
   ]
  },
  {
   "cell_type": "code",
   "execution_count": 33,
   "metadata": {},
   "outputs": [],
   "source": [
    "google_products[['name']]\n",
    "google_word_columns = ['name', 'description', 'manufacturer']\n",
    "amazon_word_columns = ['title', 'description', 'manufacturer']"
   ]
  },
  {
   "cell_type": "code",
   "execution_count": 34,
   "metadata": {},
   "outputs": [],
   "source": [
    "google_products[google_word_columns] = normalise_word_data(google_products[google_word_columns].astype(str))\n",
    "amazon_products[amazon_word_columns] = normalise_word_data(amazon_products[amazon_word_columns].astype(str))"
   ]
  },
  {
   "cell_type": "code",
   "execution_count": 35,
   "metadata": {},
   "outputs": [],
   "source": [
    "yeast_data = pd.read_csv(YEAST_PATH)"
   ]
  },
  {
   "cell_type": "code",
   "execution_count": 36,
   "metadata": {},
   "outputs": [],
   "source": [
    "yeast_data['Class'] = yeast_data.Class.replace(to_replace=yeast_data.Class.unique(), value=[0, 1])\n"
   ]
  },
  {
   "cell_type": "code",
   "execution_count": 37,
   "metadata": {},
   "outputs": [],
   "source": [
    "from sklearn.impute import SimpleImputer    "
   ]
  },
  {
   "cell_type": "code",
   "execution_count": 38,
   "metadata": {},
   "outputs": [],
   "source": [
    "mean_imputer = SimpleImputer(missing_values=np.nan, strategy='mean')\n",
    "median_imputer = SimpleImputer(missing_values=np.nan, strategy='median')"
   ]
  },
  {
   "cell_type": "code",
   "execution_count": 39,
   "metadata": {},
   "outputs": [],
   "source": [
    "X_mean = pd.DataFrame(mean_imputer.fit_transform(yeast_data.drop('Class', axis=1)))\n",
    "X_median = pd.DataFrame(median_imputer.fit_transform(yeast_data.drop('Class', axis=1)))\n",
    "Y = yeast_data['Class']"
   ]
  },
  {
   "cell_type": "code",
   "execution_count": 40,
   "metadata": {},
   "outputs": [
    {
     "data": {
      "text/html": [
       "<div>\n",
       "<style scoped>\n",
       "    .dataframe tbody tr th:only-of-type {\n",
       "        vertical-align: middle;\n",
       "    }\n",
       "\n",
       "    .dataframe tbody tr th {\n",
       "        vertical-align: top;\n",
       "    }\n",
       "\n",
       "    .dataframe thead th {\n",
       "        text-align: right;\n",
       "    }\n",
       "</style>\n",
       "<table border=\"1\" class=\"dataframe\">\n",
       "  <thead>\n",
       "    <tr style=\"text-align: right;\">\n",
       "      <th></th>\n",
       "      <th>0</th>\n",
       "      <th>1</th>\n",
       "      <th>2</th>\n",
       "      <th>3</th>\n",
       "      <th>4</th>\n",
       "      <th>5</th>\n",
       "      <th>6</th>\n",
       "      <th>7</th>\n",
       "      <th>8</th>\n",
       "    </tr>\n",
       "  </thead>\n",
       "  <tbody>\n",
       "    <tr>\n",
       "      <th>count</th>\n",
       "      <td>1484.000000</td>\n",
       "      <td>1484.000000</td>\n",
       "      <td>1484.000000</td>\n",
       "      <td>1484.000000</td>\n",
       "      <td>1484.000000</td>\n",
       "      <td>1484.000000</td>\n",
       "      <td>1484.000000</td>\n",
       "      <td>1484.000000</td>\n",
       "      <td>1484.000000</td>\n",
       "    </tr>\n",
       "    <tr>\n",
       "      <th>mean</th>\n",
       "      <td>742.500000</td>\n",
       "      <td>0.499349</td>\n",
       "      <td>0.499876</td>\n",
       "      <td>0.505848</td>\n",
       "      <td>0.264379</td>\n",
       "      <td>0.506921</td>\n",
       "      <td>0.007500</td>\n",
       "      <td>0.503816</td>\n",
       "      <td>0.279816</td>\n",
       "    </tr>\n",
       "    <tr>\n",
       "      <th>std</th>\n",
       "      <td>428.538213</td>\n",
       "      <td>0.131357</td>\n",
       "      <td>0.121945</td>\n",
       "      <td>0.199837</td>\n",
       "      <td>0.150286</td>\n",
       "      <td>0.091573</td>\n",
       "      <td>0.075683</td>\n",
       "      <td>0.153481</td>\n",
       "      <td>0.151736</td>\n",
       "    </tr>\n",
       "    <tr>\n",
       "      <th>min</th>\n",
       "      <td>1.000000</td>\n",
       "      <td>0.110000</td>\n",
       "      <td>0.130000</td>\n",
       "      <td>0.210000</td>\n",
       "      <td>0.000000</td>\n",
       "      <td>0.500000</td>\n",
       "      <td>0.000000</td>\n",
       "      <td>0.000000</td>\n",
       "      <td>0.000000</td>\n",
       "    </tr>\n",
       "    <tr>\n",
       "      <th>25%</th>\n",
       "      <td>371.750000</td>\n",
       "      <td>0.410000</td>\n",
       "      <td>0.420000</td>\n",
       "      <td>0.460000</td>\n",
       "      <td>0.170000</td>\n",
       "      <td>0.500000</td>\n",
       "      <td>0.000000</td>\n",
       "      <td>0.480000</td>\n",
       "      <td>0.220000</td>\n",
       "    </tr>\n",
       "    <tr>\n",
       "      <th>50%</th>\n",
       "      <td>742.500000</td>\n",
       "      <td>0.499349</td>\n",
       "      <td>0.490000</td>\n",
       "      <td>0.510000</td>\n",
       "      <td>0.230000</td>\n",
       "      <td>0.500000</td>\n",
       "      <td>0.000000</td>\n",
       "      <td>0.510000</td>\n",
       "      <td>0.220000</td>\n",
       "    </tr>\n",
       "    <tr>\n",
       "      <th>75%</th>\n",
       "      <td>1113.250000</td>\n",
       "      <td>0.562500</td>\n",
       "      <td>0.570000</td>\n",
       "      <td>0.550000</td>\n",
       "      <td>0.300000</td>\n",
       "      <td>0.500000</td>\n",
       "      <td>0.000000</td>\n",
       "      <td>0.530000</td>\n",
       "      <td>0.290000</td>\n",
       "    </tr>\n",
       "    <tr>\n",
       "      <th>max</th>\n",
       "      <td>1484.000000</td>\n",
       "      <td>1.000000</td>\n",
       "      <td>1.000000</td>\n",
       "      <td>7.501819</td>\n",
       "      <td>3.000728</td>\n",
       "      <td>3.500849</td>\n",
       "      <td>0.830000</td>\n",
       "      <td>6.001456</td>\n",
       "      <td>4.501092</td>\n",
       "    </tr>\n",
       "  </tbody>\n",
       "</table>\n",
       "</div>"
      ],
      "text/plain": [
       "                 0            1            2            3            4  \\\n",
       "count  1484.000000  1484.000000  1484.000000  1484.000000  1484.000000   \n",
       "mean    742.500000     0.499349     0.499876     0.505848     0.264379   \n",
       "std     428.538213     0.131357     0.121945     0.199837     0.150286   \n",
       "min       1.000000     0.110000     0.130000     0.210000     0.000000   \n",
       "25%     371.750000     0.410000     0.420000     0.460000     0.170000   \n",
       "50%     742.500000     0.499349     0.490000     0.510000     0.230000   \n",
       "75%    1113.250000     0.562500     0.570000     0.550000     0.300000   \n",
       "max    1484.000000     1.000000     1.000000     7.501819     3.000728   \n",
       "\n",
       "                 5            6            7            8  \n",
       "count  1484.000000  1484.000000  1484.000000  1484.000000  \n",
       "mean      0.506921     0.007500     0.503816     0.279816  \n",
       "std       0.091573     0.075683     0.153481     0.151736  \n",
       "min       0.500000     0.000000     0.000000     0.000000  \n",
       "25%       0.500000     0.000000     0.480000     0.220000  \n",
       "50%       0.500000     0.000000     0.510000     0.220000  \n",
       "75%       0.500000     0.000000     0.530000     0.290000  \n",
       "max       3.500849     0.830000     6.001456     4.501092  "
      ]
     },
     "execution_count": 40,
     "metadata": {},
     "output_type": "execute_result"
    }
   ],
   "source": [
    "X_mean.describe()"
   ]
  },
  {
   "cell_type": "code",
   "execution_count": 41,
   "metadata": {},
   "outputs": [
    {
     "data": {
      "text/html": [
       "<div>\n",
       "<style scoped>\n",
       "    .dataframe tbody tr th:only-of-type {\n",
       "        vertical-align: middle;\n",
       "    }\n",
       "\n",
       "    .dataframe tbody tr th {\n",
       "        vertical-align: top;\n",
       "    }\n",
       "\n",
       "    .dataframe thead th {\n",
       "        text-align: right;\n",
       "    }\n",
       "</style>\n",
       "<table border=\"1\" class=\"dataframe\">\n",
       "  <thead>\n",
       "    <tr style=\"text-align: right;\">\n",
       "      <th></th>\n",
       "      <th>0</th>\n",
       "      <th>1</th>\n",
       "      <th>2</th>\n",
       "      <th>3</th>\n",
       "      <th>4</th>\n",
       "      <th>5</th>\n",
       "      <th>6</th>\n",
       "      <th>7</th>\n",
       "      <th>8</th>\n",
       "    </tr>\n",
       "  </thead>\n",
       "  <tbody>\n",
       "    <tr>\n",
       "      <th>count</th>\n",
       "      <td>1484.000000</td>\n",
       "      <td>1484.000000</td>\n",
       "      <td>1484.000000</td>\n",
       "      <td>1484.000000</td>\n",
       "      <td>1484.000000</td>\n",
       "      <td>1484.000000</td>\n",
       "      <td>1484.000000</td>\n",
       "      <td>1484.000000</td>\n",
       "      <td>1484.000000</td>\n",
       "    </tr>\n",
       "    <tr>\n",
       "      <th>mean</th>\n",
       "      <td>742.500000</td>\n",
       "      <td>0.497628</td>\n",
       "      <td>0.499643</td>\n",
       "      <td>0.506167</td>\n",
       "      <td>0.260432</td>\n",
       "      <td>0.506739</td>\n",
       "      <td>0.007500</td>\n",
       "      <td>0.504199</td>\n",
       "      <td>0.276712</td>\n",
       "    </tr>\n",
       "    <tr>\n",
       "      <th>std</th>\n",
       "      <td>428.538213</td>\n",
       "      <td>0.131472</td>\n",
       "      <td>0.121954</td>\n",
       "      <td>0.199840</td>\n",
       "      <td>0.150817</td>\n",
       "      <td>0.091580</td>\n",
       "      <td>0.075683</td>\n",
       "      <td>0.153488</td>\n",
       "      <td>0.152315</td>\n",
       "    </tr>\n",
       "    <tr>\n",
       "      <th>min</th>\n",
       "      <td>1.000000</td>\n",
       "      <td>0.110000</td>\n",
       "      <td>0.130000</td>\n",
       "      <td>0.210000</td>\n",
       "      <td>0.000000</td>\n",
       "      <td>0.500000</td>\n",
       "      <td>0.000000</td>\n",
       "      <td>0.000000</td>\n",
       "      <td>0.000000</td>\n",
       "    </tr>\n",
       "    <tr>\n",
       "      <th>25%</th>\n",
       "      <td>371.750000</td>\n",
       "      <td>0.410000</td>\n",
       "      <td>0.420000</td>\n",
       "      <td>0.460000</td>\n",
       "      <td>0.170000</td>\n",
       "      <td>0.500000</td>\n",
       "      <td>0.000000</td>\n",
       "      <td>0.480000</td>\n",
       "      <td>0.220000</td>\n",
       "    </tr>\n",
       "    <tr>\n",
       "      <th>50%</th>\n",
       "      <td>742.500000</td>\n",
       "      <td>0.480000</td>\n",
       "      <td>0.490000</td>\n",
       "      <td>0.510000</td>\n",
       "      <td>0.220000</td>\n",
       "      <td>0.500000</td>\n",
       "      <td>0.000000</td>\n",
       "      <td>0.510000</td>\n",
       "      <td>0.220000</td>\n",
       "    </tr>\n",
       "    <tr>\n",
       "      <th>75%</th>\n",
       "      <td>1113.250000</td>\n",
       "      <td>0.562500</td>\n",
       "      <td>0.570000</td>\n",
       "      <td>0.550000</td>\n",
       "      <td>0.300000</td>\n",
       "      <td>0.500000</td>\n",
       "      <td>0.000000</td>\n",
       "      <td>0.530000</td>\n",
       "      <td>0.290000</td>\n",
       "    </tr>\n",
       "    <tr>\n",
       "      <th>max</th>\n",
       "      <td>1484.000000</td>\n",
       "      <td>1.000000</td>\n",
       "      <td>1.000000</td>\n",
       "      <td>7.501819</td>\n",
       "      <td>3.000728</td>\n",
       "      <td>3.500849</td>\n",
       "      <td>0.830000</td>\n",
       "      <td>6.001456</td>\n",
       "      <td>4.501092</td>\n",
       "    </tr>\n",
       "  </tbody>\n",
       "</table>\n",
       "</div>"
      ],
      "text/plain": [
       "                 0            1            2            3            4  \\\n",
       "count  1484.000000  1484.000000  1484.000000  1484.000000  1484.000000   \n",
       "mean    742.500000     0.497628     0.499643     0.506167     0.260432   \n",
       "std     428.538213     0.131472     0.121954     0.199840     0.150817   \n",
       "min       1.000000     0.110000     0.130000     0.210000     0.000000   \n",
       "25%     371.750000     0.410000     0.420000     0.460000     0.170000   \n",
       "50%     742.500000     0.480000     0.490000     0.510000     0.220000   \n",
       "75%    1113.250000     0.562500     0.570000     0.550000     0.300000   \n",
       "max    1484.000000     1.000000     1.000000     7.501819     3.000728   \n",
       "\n",
       "                 5            6            7            8  \n",
       "count  1484.000000  1484.000000  1484.000000  1484.000000  \n",
       "mean      0.506739     0.007500     0.504199     0.276712  \n",
       "std       0.091580     0.075683     0.153488     0.152315  \n",
       "min       0.500000     0.000000     0.000000     0.000000  \n",
       "25%       0.500000     0.000000     0.480000     0.220000  \n",
       "50%       0.500000     0.000000     0.510000     0.220000  \n",
       "75%       0.500000     0.000000     0.530000     0.290000  \n",
       "max       3.500849     0.830000     6.001456     4.501092  "
      ]
     },
     "execution_count": 41,
     "metadata": {},
     "output_type": "execute_result"
    }
   ],
   "source": [
    "X_median.describe()"
   ]
  },
  {
   "cell_type": "code",
   "execution_count": 42,
   "metadata": {},
   "outputs": [],
   "source": [
    "from sklearn.preprocessing import StandardScaler, normalize\n",
    "stdscl = StandardScaler(with_mean=True, with_std=True)"
   ]
  },
  {
   "cell_type": "code",
   "execution_count": 43,
   "metadata": {},
   "outputs": [],
   "source": [
    "X_std = pd.DataFrame(stdscl.fit_transform(X_median))\n",
    "X_norm = pd.DataFrame(normalize(X_median))"
   ]
  },
  {
   "cell_type": "code",
   "execution_count": 44,
   "metadata": {},
   "outputs": [
    {
     "data": {
      "text/html": [
       "<div>\n",
       "<style scoped>\n",
       "    .dataframe tbody tr th:only-of-type {\n",
       "        vertical-align: middle;\n",
       "    }\n",
       "\n",
       "    .dataframe tbody tr th {\n",
       "        vertical-align: top;\n",
       "    }\n",
       "\n",
       "    .dataframe thead th {\n",
       "        text-align: right;\n",
       "    }\n",
       "</style>\n",
       "<table border=\"1\" class=\"dataframe\">\n",
       "  <thead>\n",
       "    <tr style=\"text-align: right;\">\n",
       "      <th></th>\n",
       "      <th>0</th>\n",
       "      <th>1</th>\n",
       "      <th>2</th>\n",
       "      <th>3</th>\n",
       "      <th>4</th>\n",
       "      <th>5</th>\n",
       "      <th>6</th>\n",
       "      <th>7</th>\n",
       "      <th>8</th>\n",
       "    </tr>\n",
       "  </thead>\n",
       "  <tbody>\n",
       "    <tr>\n",
       "      <th>count</th>\n",
       "      <td>1.484000e+03</td>\n",
       "      <td>1.484000e+03</td>\n",
       "      <td>1.484000e+03</td>\n",
       "      <td>1.484000e+03</td>\n",
       "      <td>1.484000e+03</td>\n",
       "      <td>1.484000e+03</td>\n",
       "      <td>1.484000e+03</td>\n",
       "      <td>1.484000e+03</td>\n",
       "      <td>1.484000e+03</td>\n",
       "    </tr>\n",
       "    <tr>\n",
       "      <th>mean</th>\n",
       "      <td>-4.174558e-17</td>\n",
       "      <td>5.850367e-16</td>\n",
       "      <td>-1.911469e-16</td>\n",
       "      <td>2.817827e-16</td>\n",
       "      <td>1.802990e-17</td>\n",
       "      <td>3.727738e-16</td>\n",
       "      <td>4.263399e-16</td>\n",
       "      <td>-1.979175e-16</td>\n",
       "      <td>-4.642139e-16</td>\n",
       "    </tr>\n",
       "    <tr>\n",
       "      <th>std</th>\n",
       "      <td>1.000337e+00</td>\n",
       "      <td>1.000337e+00</td>\n",
       "      <td>1.000337e+00</td>\n",
       "      <td>1.000337e+00</td>\n",
       "      <td>1.000337e+00</td>\n",
       "      <td>1.000337e+00</td>\n",
       "      <td>1.000337e+00</td>\n",
       "      <td>1.000337e+00</td>\n",
       "      <td>1.000337e+00</td>\n",
       "    </tr>\n",
       "    <tr>\n",
       "      <th>min</th>\n",
       "      <td>-1.730884e+00</td>\n",
       "      <td>-2.949354e+00</td>\n",
       "      <td>-3.032012e+00</td>\n",
       "      <td>-1.482523e+00</td>\n",
       "      <td>-1.727390e+00</td>\n",
       "      <td>-7.361222e-02</td>\n",
       "      <td>-9.913140e-02</td>\n",
       "      <td>-3.286049e+00</td>\n",
       "      <td>-1.817324e+00</td>\n",
       "    </tr>\n",
       "    <tr>\n",
       "      <th>25%</th>\n",
       "      <td>-8.654420e-01</td>\n",
       "      <td>-6.667373e-01</td>\n",
       "      <td>-6.532740e-01</td>\n",
       "      <td>-2.310980e-01</td>\n",
       "      <td>-5.998152e-01</td>\n",
       "      <td>-7.361222e-02</td>\n",
       "      <td>-9.913140e-02</td>\n",
       "      <td>-1.577143e-01</td>\n",
       "      <td>-3.724614e-01</td>\n",
       "    </tr>\n",
       "    <tr>\n",
       "      <th>50%</th>\n",
       "      <td>0.000000e+00</td>\n",
       "      <td>-1.341268e-01</td>\n",
       "      <td>-7.909596e-02</td>\n",
       "      <td>1.918687e-02</td>\n",
       "      <td>-2.681755e-01</td>\n",
       "      <td>-7.361222e-02</td>\n",
       "      <td>-9.913140e-02</td>\n",
       "      <td>3.780662e-02</td>\n",
       "      <td>-3.724614e-01</td>\n",
       "    </tr>\n",
       "    <tr>\n",
       "      <th>75%</th>\n",
       "      <td>8.654420e-01</td>\n",
       "      <td>4.935928e-01</td>\n",
       "      <td>5.771075e-01</td>\n",
       "      <td>2.194148e-01</td>\n",
       "      <td>2.624480e-01</td>\n",
       "      <td>-7.361222e-02</td>\n",
       "      <td>-9.913140e-02</td>\n",
       "      <td>1.681539e-01</td>\n",
       "      <td>8.726755e-02</td>\n",
       "    </tr>\n",
       "    <tr>\n",
       "      <th>max</th>\n",
       "      <td>1.730884e+00</td>\n",
       "      <td>3.822409e+00</td>\n",
       "      <td>4.104201e+00</td>\n",
       "      <td>3.501812e+01</td>\n",
       "      <td>1.817582e+01</td>\n",
       "      <td>3.270504e+01</td>\n",
       "      <td>1.087141e+01</td>\n",
       "      <td>3.582762e+01</td>\n",
       "      <td>2.774385e+01</td>\n",
       "    </tr>\n",
       "  </tbody>\n",
       "</table>\n",
       "</div>"
      ],
      "text/plain": [
       "                  0             1             2             3             4  \\\n",
       "count  1.484000e+03  1.484000e+03  1.484000e+03  1.484000e+03  1.484000e+03   \n",
       "mean  -4.174558e-17  5.850367e-16 -1.911469e-16  2.817827e-16  1.802990e-17   \n",
       "std    1.000337e+00  1.000337e+00  1.000337e+00  1.000337e+00  1.000337e+00   \n",
       "min   -1.730884e+00 -2.949354e+00 -3.032012e+00 -1.482523e+00 -1.727390e+00   \n",
       "25%   -8.654420e-01 -6.667373e-01 -6.532740e-01 -2.310980e-01 -5.998152e-01   \n",
       "50%    0.000000e+00 -1.341268e-01 -7.909596e-02  1.918687e-02 -2.681755e-01   \n",
       "75%    8.654420e-01  4.935928e-01  5.771075e-01  2.194148e-01  2.624480e-01   \n",
       "max    1.730884e+00  3.822409e+00  4.104201e+00  3.501812e+01  1.817582e+01   \n",
       "\n",
       "                  5             6             7             8  \n",
       "count  1.484000e+03  1.484000e+03  1.484000e+03  1.484000e+03  \n",
       "mean   3.727738e-16  4.263399e-16 -1.979175e-16 -4.642139e-16  \n",
       "std    1.000337e+00  1.000337e+00  1.000337e+00  1.000337e+00  \n",
       "min   -7.361222e-02 -9.913140e-02 -3.286049e+00 -1.817324e+00  \n",
       "25%   -7.361222e-02 -9.913140e-02 -1.577143e-01 -3.724614e-01  \n",
       "50%   -7.361222e-02 -9.913140e-02  3.780662e-02 -3.724614e-01  \n",
       "75%   -7.361222e-02 -9.913140e-02  1.681539e-01  8.726755e-02  \n",
       "max    3.270504e+01  1.087141e+01  3.582762e+01  2.774385e+01  "
      ]
     },
     "execution_count": 44,
     "metadata": {},
     "output_type": "execute_result"
    }
   ],
   "source": [
    "X_std.describe()"
   ]
  },
  {
   "cell_type": "code",
   "execution_count": 45,
   "metadata": {},
   "outputs": [
    {
     "data": {
      "text/html": [
       "<div>\n",
       "<style scoped>\n",
       "    .dataframe tbody tr th:only-of-type {\n",
       "        vertical-align: middle;\n",
       "    }\n",
       "\n",
       "    .dataframe tbody tr th {\n",
       "        vertical-align: top;\n",
       "    }\n",
       "\n",
       "    .dataframe thead th {\n",
       "        text-align: right;\n",
       "    }\n",
       "</style>\n",
       "<table border=\"1\" class=\"dataframe\">\n",
       "  <thead>\n",
       "    <tr style=\"text-align: right;\">\n",
       "      <th></th>\n",
       "      <th>0</th>\n",
       "      <th>1</th>\n",
       "      <th>2</th>\n",
       "      <th>3</th>\n",
       "      <th>4</th>\n",
       "      <th>5</th>\n",
       "      <th>6</th>\n",
       "      <th>7</th>\n",
       "      <th>8</th>\n",
       "    </tr>\n",
       "  </thead>\n",
       "  <tbody>\n",
       "    <tr>\n",
       "      <th>count</th>\n",
       "      <td>1484.000000</td>\n",
       "      <td>1484.000000</td>\n",
       "      <td>1484.000000</td>\n",
       "      <td>1484.000000</td>\n",
       "      <td>1484.000000</td>\n",
       "      <td>1484.000000</td>\n",
       "      <td>1484.000000</td>\n",
       "      <td>1484.000000</td>\n",
       "      <td>1484.000000</td>\n",
       "    </tr>\n",
       "    <tr>\n",
       "      <th>mean</th>\n",
       "      <td>0.999462</td>\n",
       "      <td>0.002552</td>\n",
       "      <td>0.002574</td>\n",
       "      <td>0.002529</td>\n",
       "      <td>0.001280</td>\n",
       "      <td>0.002500</td>\n",
       "      <td>0.000079</td>\n",
       "      <td>0.002537</td>\n",
       "      <td>0.001256</td>\n",
       "    </tr>\n",
       "    <tr>\n",
       "      <th>std</th>\n",
       "      <td>0.010533</td>\n",
       "      <td>0.013511</td>\n",
       "      <td>0.014612</td>\n",
       "      <td>0.012290</td>\n",
       "      <td>0.005868</td>\n",
       "      <td>0.012421</td>\n",
       "      <td>0.002144</td>\n",
       "      <td>0.012575</td>\n",
       "      <td>0.005638</td>\n",
       "    </tr>\n",
       "    <tr>\n",
       "      <th>min</th>\n",
       "      <td>0.635629</td>\n",
       "      <td>0.000140</td>\n",
       "      <td>0.000112</td>\n",
       "      <td>0.000177</td>\n",
       "      <td>0.000000</td>\n",
       "      <td>0.000337</td>\n",
       "      <td>0.000000</td>\n",
       "      <td>0.000000</td>\n",
       "      <td>0.000000</td>\n",
       "    </tr>\n",
       "    <tr>\n",
       "      <th>25%</th>\n",
       "      <td>0.999995</td>\n",
       "      <td>0.000435</td>\n",
       "      <td>0.000441</td>\n",
       "      <td>0.000454</td>\n",
       "      <td>0.000193</td>\n",
       "      <td>0.000449</td>\n",
       "      <td>0.000000</td>\n",
       "      <td>0.000442</td>\n",
       "      <td>0.000232</td>\n",
       "    </tr>\n",
       "    <tr>\n",
       "      <th>50%</th>\n",
       "      <td>0.999999</td>\n",
       "      <td>0.000669</td>\n",
       "      <td>0.000666</td>\n",
       "      <td>0.000681</td>\n",
       "      <td>0.000342</td>\n",
       "      <td>0.000679</td>\n",
       "      <td>0.000000</td>\n",
       "      <td>0.000682</td>\n",
       "      <td>0.000378</td>\n",
       "    </tr>\n",
       "    <tr>\n",
       "      <th>75%</th>\n",
       "      <td>0.999999</td>\n",
       "      <td>0.001314</td>\n",
       "      <td>0.001318</td>\n",
       "      <td>0.001354</td>\n",
       "      <td>0.000699</td>\n",
       "      <td>0.001371</td>\n",
       "      <td>0.000000</td>\n",
       "      <td>0.001378</td>\n",
       "      <td>0.000739</td>\n",
       "    </tr>\n",
       "    <tr>\n",
       "      <th>max</th>\n",
       "      <td>1.000000</td>\n",
       "      <td>0.368665</td>\n",
       "      <td>0.387734</td>\n",
       "      <td>0.298746</td>\n",
       "      <td>0.114957</td>\n",
       "      <td>0.317814</td>\n",
       "      <td>0.081594</td>\n",
       "      <td>0.305102</td>\n",
       "      <td>0.139838</td>\n",
       "    </tr>\n",
       "  </tbody>\n",
       "</table>\n",
       "</div>"
      ],
      "text/plain": [
       "                 0            1            2            3            4  \\\n",
       "count  1484.000000  1484.000000  1484.000000  1484.000000  1484.000000   \n",
       "mean      0.999462     0.002552     0.002574     0.002529     0.001280   \n",
       "std       0.010533     0.013511     0.014612     0.012290     0.005868   \n",
       "min       0.635629     0.000140     0.000112     0.000177     0.000000   \n",
       "25%       0.999995     0.000435     0.000441     0.000454     0.000193   \n",
       "50%       0.999999     0.000669     0.000666     0.000681     0.000342   \n",
       "75%       0.999999     0.001314     0.001318     0.001354     0.000699   \n",
       "max       1.000000     0.368665     0.387734     0.298746     0.114957   \n",
       "\n",
       "                 5            6            7            8  \n",
       "count  1484.000000  1484.000000  1484.000000  1484.000000  \n",
       "mean      0.002500     0.000079     0.002537     0.001256  \n",
       "std       0.012421     0.002144     0.012575     0.005638  \n",
       "min       0.000337     0.000000     0.000000     0.000000  \n",
       "25%       0.000449     0.000000     0.000442     0.000232  \n",
       "50%       0.000679     0.000000     0.000682     0.000378  \n",
       "75%       0.001371     0.000000     0.001378     0.000739  \n",
       "max       0.317814     0.081594     0.305102     0.139838  "
      ]
     },
     "execution_count": 45,
     "metadata": {},
     "output_type": "execute_result"
    }
   ],
   "source": [
    "X_norm.describe()"
   ]
  },
  {
   "cell_type": "code",
   "execution_count": 46,
   "metadata": {},
   "outputs": [],
   "source": [
    "from sklearn.neighbors import KNeighborsClassifier\n",
    "from sklearn.tree import DecisionTreeClassifier"
   ]
  },
  {
   "cell_type": "code",
   "execution_count": 131,
   "metadata": {},
   "outputs": [],
   "source": [
    "knn = KNeighborsClassifier(n_neighbors=5)\n",
    "knn_10n = KNeighborsClassifier(n_neighbors=10)\n",
    "dtc = DecisionTreeClassifier()"
   ]
  },
  {
   "cell_type": "code",
   "execution_count": 132,
   "metadata": {},
   "outputs": [],
   "source": [
    "X_norm['label'] = Y\n",
    "X_norm = X_norm.sample(frac=1).reset_index(drop=True)"
   ]
  },
  {
   "cell_type": "code",
   "execution_count": 133,
   "metadata": {},
   "outputs": [],
   "source": [
    "X_train_with_labels = X_norm[0:1000]\n",
    "X_test_with_labels = X_norm[1000:]"
   ]
  },
  {
   "cell_type": "code",
   "execution_count": 134,
   "metadata": {},
   "outputs": [],
   "source": [
    "Y_train = X_train_with_labels['label']\n",
    "X_train = X_train_with_labels.drop('label', axis=1)\n",
    "Y_test = X_test_with_labels['label']\n",
    "X_test = X_test_with_labels.drop('label', axis=1)"
   ]
  },
  {
   "cell_type": "code",
   "execution_count": 135,
   "metadata": {},
   "outputs": [],
   "source": [
    "knn.fit(X_train, Y_train)\n",
    "knn_10n.fit(X_train, Y_train)\n",
    "y_pred = knn.predict(X_test)\n",
    "y_10n_pred = knn_10n.predict(X_test)"
   ]
  },
  {
   "cell_type": "code",
   "execution_count": 136,
   "metadata": {},
   "outputs": [],
   "source": [
    "from sklearn.metrics import precision_score\n",
    "score = precision_score(Y_test, y_pred)"
   ]
  },
  {
   "cell_type": "code",
   "execution_count": 137,
   "metadata": {},
   "outputs": [
    {
     "data": {
      "text/plain": [
       "0.3333333333333333"
      ]
     },
     "execution_count": 137,
     "metadata": {},
     "output_type": "execute_result"
    }
   ],
   "source": [
    "score"
   ]
  },
  {
   "cell_type": "code",
   "execution_count": 145,
   "metadata": {},
   "outputs": [],
   "source": [
    "score = precision_score(Y_test, y_10n_pred)"
   ]
  },
  {
   "cell_type": "code",
   "execution_count": 146,
   "metadata": {},
   "outputs": [
    {
     "data": {
      "text/plain": [
       "0.4166666666666667"
      ]
     },
     "execution_count": 146,
     "metadata": {},
     "output_type": "execute_result"
    }
   ],
   "source": [
    "score"
   ]
  },
  {
   "cell_type": "code",
   "execution_count": 153,
   "metadata": {},
   "outputs": [
    {
     "data": {
      "text/plain": [
       "DecisionTreeClassifier(class_weight=None, criterion='gini', max_depth=None,\n",
       "                       max_features=None, max_leaf_nodes=None,\n",
       "                       min_impurity_decrease=0.0, min_impurity_split=None,\n",
       "                       min_samples_leaf=1, min_samples_split=2,\n",
       "                       min_weight_fraction_leaf=0.0, presort=False,\n",
       "                       random_state=None, splitter='best')"
      ]
     },
     "execution_count": 153,
     "metadata": {},
     "output_type": "execute_result"
    }
   ],
   "source": [
    "dtc.fit(X_train, Y_train)"
   ]
  },
  {
   "cell_type": "code",
   "execution_count": 154,
   "metadata": {},
   "outputs": [],
   "source": [
    "y_pred = dtc.predict(X_test)"
   ]
  },
  {
   "cell_type": "code",
   "execution_count": 155,
   "metadata": {},
   "outputs": [
    {
     "data": {
      "text/plain": [
       "0.2893081761006289"
      ]
     },
     "execution_count": 155,
     "metadata": {},
     "output_type": "execute_result"
    }
   ],
   "source": [
    "precision_score(Y_test, y_pred)"
   ]
  },
  {
   "cell_type": "code",
   "execution_count": 156,
   "metadata": {},
   "outputs": [],
   "source": [
    "y_pred_temp = dtc.predict(X_train)"
   ]
  },
  {
   "cell_type": "code",
   "execution_count": 157,
   "metadata": {},
   "outputs": [
    {
     "data": {
      "text/plain": [
       "1.0"
      ]
     },
     "execution_count": 157,
     "metadata": {},
     "output_type": "execute_result"
    }
   ],
   "source": [
    "precision_score(Y_train, y_pred_temp)"
   ]
  },
  {
   "cell_type": "code",
   "execution_count": null,
   "metadata": {},
   "outputs": [],
   "source": []
  },
  {
   "cell_type": "code",
   "execution_count": null,
   "metadata": {},
   "outputs": [],
   "source": []
  }
 ],
 "metadata": {
  "kernelspec": {
   "display_name": "Python 3",
   "language": "python",
   "name": "python3"
  },
  "language_info": {
   "codemirror_mode": {
    "name": "ipython",
    "version": 3
   },
   "file_extension": ".py",
   "mimetype": "text/x-python",
   "name": "python",
   "nbconvert_exporter": "python",
   "pygments_lexer": "ipython3",
   "version": "3.7.3"
  }
 },
 "nbformat": 4,
 "nbformat_minor": 2
}
