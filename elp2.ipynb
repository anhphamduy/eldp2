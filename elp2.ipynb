{
 "cells": [
  {
   "cell_type": "code",
   "execution_count": 1,
   "metadata": {},
   "outputs": [],
   "source": [
    "import pandas as pd\n",
    "from constants import *\n",
    "from helpers import normalise_number_data, normalise_word_data\n",
    "import numpy as np\n",
    "from sklearn import preprocessing"
   ]
  },
  {
   "cell_type": "code",
   "execution_count": 2,
   "metadata": {},
   "outputs": [],
   "source": [
    "google_products = pd.read_csv(GOOGLE_SMALL_PATH)\n",
    "amazon_products = pd.read_csv(AMAZON_SMALL_PATH)"
   ]
  },
  {
   "cell_type": "code",
   "execution_count": 3,
   "metadata": {},
   "outputs": [],
   "source": [
    "google_products['price'] = normalise_number_data(google_products['price'])\n",
    "amazon_products['price'] = normalise_number_data(amazon_products['price'])"
   ]
  },
  {
   "cell_type": "code",
   "execution_count": 4,
   "metadata": {},
   "outputs": [],
   "source": [
    "google_products[['name']]\n",
    "google_word_columns = ['name', 'description', 'manufacturer']\n",
    "amazon_word_columns = ['title', 'description', 'manufacturer']"
   ]
  },
  {
   "cell_type": "code",
   "execution_count": 5,
   "metadata": {},
   "outputs": [],
   "source": [
    "google_products[google_word_columns] = normalise_word_data(google_products[google_word_columns].astype(str))\n",
    "amazon_products[amazon_word_columns] = normalise_word_data(amazon_products[amazon_word_columns].astype(str))"
   ]
  },
  {
   "cell_type": "markdown",
   "metadata": {},
   "source": [
    "## Part 2\n",
    "### Pre-processing discussion\n",
    "\n",
    "    "
   ]
  },
  {
   "cell_type": "code",
   "execution_count": 6,
   "metadata": {},
   "outputs": [],
   "source": [
    "yeast_data = pd.read_csv(YEAST_PATH)\n",
    "yeast_data['Class'] = yeast_data.Class.replace(to_replace=yeast_data.Class.unique(), value=[0, 1])"
   ]
  },
  {
   "cell_type": "code",
   "execution_count": 8,
   "metadata": {},
   "outputs": [],
   "source": [
    "from sklearn.impute import SimpleImputer    "
   ]
  },
  {
   "cell_type": "code",
   "execution_count": 9,
   "metadata": {},
   "outputs": [],
   "source": [
    "mean_imputer = SimpleImputer(missing_values=np.nan, strategy='mean')\n",
    "median_imputer = SimpleImputer(missing_values=np.nan, strategy='median')"
   ]
  },
  {
   "cell_type": "code",
   "execution_count": 10,
   "metadata": {},
   "outputs": [],
   "source": [
    "from sklearn.model_selection import train_test_split\n",
    "X_train, X_test, y_train, y_test = train_test_split(yeast_data.drop(['Class', 'Sample', 'pox'], axis=1), yeast_data['Class'], test_size=0.33)\n",
    "X_train_mean = pd.DataFrame(mean_imputer.fit_transform(X_train))\n",
    "X_train_median = pd.DataFrame(median_imputer.fit_transform(X_train))\n",
    "\n",
    "\n",
    "X_test_mean = pd.DataFrame(mean_imputer.fit_transform(X_test))\n",
    "X_test_median = pd.DataFrame(median_imputer.fit_transform(X_test))\n",
    "\n",
    "#Y = yeast_data['Class']"
   ]
  },
  {
   "cell_type": "code",
   "execution_count": 11,
   "metadata": {},
   "outputs": [
    {
     "data": {
      "text/html": [
       "<div>\n",
       "<style scoped>\n",
       "    .dataframe tbody tr th:only-of-type {\n",
       "        vertical-align: middle;\n",
       "    }\n",
       "\n",
       "    .dataframe tbody tr th {\n",
       "        vertical-align: top;\n",
       "    }\n",
       "\n",
       "    .dataframe thead th {\n",
       "        text-align: right;\n",
       "    }\n",
       "</style>\n",
       "<table border=\"1\" class=\"dataframe\">\n",
       "  <thead>\n",
       "    <tr style=\"text-align: right;\">\n",
       "      <th></th>\n",
       "      <th>0</th>\n",
       "      <th>1</th>\n",
       "      <th>2</th>\n",
       "      <th>3</th>\n",
       "      <th>4</th>\n",
       "      <th>5</th>\n",
       "      <th>6</th>\n",
       "    </tr>\n",
       "  </thead>\n",
       "  <tbody>\n",
       "    <tr>\n",
       "      <th>count</th>\n",
       "      <td>994.000000</td>\n",
       "      <td>994.000000</td>\n",
       "      <td>994.000000</td>\n",
       "      <td>994.000000</td>\n",
       "      <td>994.000000</td>\n",
       "      <td>994.000000</td>\n",
       "      <td>994.000000</td>\n",
       "    </tr>\n",
       "    <tr>\n",
       "      <th>mean</th>\n",
       "      <td>0.498940</td>\n",
       "      <td>0.500619</td>\n",
       "      <td>0.505062</td>\n",
       "      <td>0.267864</td>\n",
       "      <td>0.507262</td>\n",
       "      <td>0.507307</td>\n",
       "      <td>0.275412</td>\n",
       "    </tr>\n",
       "    <tr>\n",
       "      <th>std</th>\n",
       "      <td>0.130114</td>\n",
       "      <td>0.124254</td>\n",
       "      <td>0.237004</td>\n",
       "      <td>0.158757</td>\n",
       "      <td>0.105031</td>\n",
       "      <td>0.183179</td>\n",
       "      <td>0.102681</td>\n",
       "    </tr>\n",
       "    <tr>\n",
       "      <th>min</th>\n",
       "      <td>0.110000</td>\n",
       "      <td>0.130000</td>\n",
       "      <td>0.220000</td>\n",
       "      <td>0.000000</td>\n",
       "      <td>0.500000</td>\n",
       "      <td>0.000000</td>\n",
       "      <td>0.000000</td>\n",
       "    </tr>\n",
       "    <tr>\n",
       "      <th>25%</th>\n",
       "      <td>0.410000</td>\n",
       "      <td>0.420000</td>\n",
       "      <td>0.460000</td>\n",
       "      <td>0.170000</td>\n",
       "      <td>0.500000</td>\n",
       "      <td>0.480000</td>\n",
       "      <td>0.220000</td>\n",
       "    </tr>\n",
       "    <tr>\n",
       "      <th>50%</th>\n",
       "      <td>0.498940</td>\n",
       "      <td>0.490000</td>\n",
       "      <td>0.505062</td>\n",
       "      <td>0.230000</td>\n",
       "      <td>0.500000</td>\n",
       "      <td>0.510000</td>\n",
       "      <td>0.220000</td>\n",
       "    </tr>\n",
       "    <tr>\n",
       "      <th>75%</th>\n",
       "      <td>0.570000</td>\n",
       "      <td>0.570000</td>\n",
       "      <td>0.550000</td>\n",
       "      <td>0.320000</td>\n",
       "      <td>0.500000</td>\n",
       "      <td>0.530000</td>\n",
       "      <td>0.290000</td>\n",
       "    </tr>\n",
       "    <tr>\n",
       "      <th>max</th>\n",
       "      <td>1.000000</td>\n",
       "      <td>1.000000</td>\n",
       "      <td>7.501819</td>\n",
       "      <td>3.000728</td>\n",
       "      <td>3.500849</td>\n",
       "      <td>6.001456</td>\n",
       "      <td>1.000000</td>\n",
       "    </tr>\n",
       "  </tbody>\n",
       "</table>\n",
       "</div>"
      ],
      "text/plain": [
       "                0           1           2           3           4           5  \\\n",
       "count  994.000000  994.000000  994.000000  994.000000  994.000000  994.000000   \n",
       "mean     0.498940    0.500619    0.505062    0.267864    0.507262    0.507307   \n",
       "std      0.130114    0.124254    0.237004    0.158757    0.105031    0.183179   \n",
       "min      0.110000    0.130000    0.220000    0.000000    0.500000    0.000000   \n",
       "25%      0.410000    0.420000    0.460000    0.170000    0.500000    0.480000   \n",
       "50%      0.498940    0.490000    0.505062    0.230000    0.500000    0.510000   \n",
       "75%      0.570000    0.570000    0.550000    0.320000    0.500000    0.530000   \n",
       "max      1.000000    1.000000    7.501819    3.000728    3.500849    6.001456   \n",
       "\n",
       "                6  \n",
       "count  994.000000  \n",
       "mean     0.275412  \n",
       "std      0.102681  \n",
       "min      0.000000  \n",
       "25%      0.220000  \n",
       "50%      0.220000  \n",
       "75%      0.290000  \n",
       "max      1.000000  "
      ]
     },
     "execution_count": 11,
     "metadata": {},
     "output_type": "execute_result"
    }
   ],
   "source": [
    "X_train_mean.describe()"
   ]
  },
  {
   "cell_type": "code",
   "execution_count": 12,
   "metadata": {},
   "outputs": [
    {
     "data": {
      "text/html": [
       "<div>\n",
       "<style scoped>\n",
       "    .dataframe tbody tr th:only-of-type {\n",
       "        vertical-align: middle;\n",
       "    }\n",
       "\n",
       "    .dataframe tbody tr th {\n",
       "        vertical-align: top;\n",
       "    }\n",
       "\n",
       "    .dataframe thead th {\n",
       "        text-align: right;\n",
       "    }\n",
       "</style>\n",
       "<table border=\"1\" class=\"dataframe\">\n",
       "  <thead>\n",
       "    <tr style=\"text-align: right;\">\n",
       "      <th></th>\n",
       "      <th>0</th>\n",
       "      <th>1</th>\n",
       "      <th>2</th>\n",
       "      <th>3</th>\n",
       "      <th>4</th>\n",
       "      <th>5</th>\n",
       "      <th>6</th>\n",
       "    </tr>\n",
       "  </thead>\n",
       "  <tbody>\n",
       "    <tr>\n",
       "      <th>count</th>\n",
       "      <td>994.000000</td>\n",
       "      <td>994.000000</td>\n",
       "      <td>994.000000</td>\n",
       "      <td>994.000000</td>\n",
       "      <td>994.000000</td>\n",
       "      <td>994.000000</td>\n",
       "      <td>994.000000</td>\n",
       "    </tr>\n",
       "    <tr>\n",
       "      <th>mean</th>\n",
       "      <td>0.498149</td>\n",
       "      <td>0.500362</td>\n",
       "      <td>0.505424</td>\n",
       "      <td>0.263723</td>\n",
       "      <td>0.507043</td>\n",
       "      <td>0.507496</td>\n",
       "      <td>0.272736</td>\n",
       "    </tr>\n",
       "    <tr>\n",
       "      <th>std</th>\n",
       "      <td>0.130139</td>\n",
       "      <td>0.124265</td>\n",
       "      <td>0.237007</td>\n",
       "      <td>0.159326</td>\n",
       "      <td>0.105038</td>\n",
       "      <td>0.183181</td>\n",
       "      <td>0.103366</td>\n",
       "    </tr>\n",
       "    <tr>\n",
       "      <th>min</th>\n",
       "      <td>0.110000</td>\n",
       "      <td>0.130000</td>\n",
       "      <td>0.220000</td>\n",
       "      <td>0.000000</td>\n",
       "      <td>0.500000</td>\n",
       "      <td>0.000000</td>\n",
       "      <td>0.000000</td>\n",
       "    </tr>\n",
       "    <tr>\n",
       "      <th>25%</th>\n",
       "      <td>0.410000</td>\n",
       "      <td>0.420000</td>\n",
       "      <td>0.460000</td>\n",
       "      <td>0.170000</td>\n",
       "      <td>0.500000</td>\n",
       "      <td>0.480000</td>\n",
       "      <td>0.220000</td>\n",
       "    </tr>\n",
       "    <tr>\n",
       "      <th>50%</th>\n",
       "      <td>0.490000</td>\n",
       "      <td>0.490000</td>\n",
       "      <td>0.510000</td>\n",
       "      <td>0.220000</td>\n",
       "      <td>0.500000</td>\n",
       "      <td>0.510000</td>\n",
       "      <td>0.220000</td>\n",
       "    </tr>\n",
       "    <tr>\n",
       "      <th>75%</th>\n",
       "      <td>0.570000</td>\n",
       "      <td>0.570000</td>\n",
       "      <td>0.550000</td>\n",
       "      <td>0.320000</td>\n",
       "      <td>0.500000</td>\n",
       "      <td>0.530000</td>\n",
       "      <td>0.290000</td>\n",
       "    </tr>\n",
       "    <tr>\n",
       "      <th>max</th>\n",
       "      <td>1.000000</td>\n",
       "      <td>1.000000</td>\n",
       "      <td>7.501819</td>\n",
       "      <td>3.000728</td>\n",
       "      <td>3.500849</td>\n",
       "      <td>6.001456</td>\n",
       "      <td>1.000000</td>\n",
       "    </tr>\n",
       "  </tbody>\n",
       "</table>\n",
       "</div>"
      ],
      "text/plain": [
       "                0           1           2           3           4           5  \\\n",
       "count  994.000000  994.000000  994.000000  994.000000  994.000000  994.000000   \n",
       "mean     0.498149    0.500362    0.505424    0.263723    0.507043    0.507496   \n",
       "std      0.130139    0.124265    0.237007    0.159326    0.105038    0.183181   \n",
       "min      0.110000    0.130000    0.220000    0.000000    0.500000    0.000000   \n",
       "25%      0.410000    0.420000    0.460000    0.170000    0.500000    0.480000   \n",
       "50%      0.490000    0.490000    0.510000    0.220000    0.500000    0.510000   \n",
       "75%      0.570000    0.570000    0.550000    0.320000    0.500000    0.530000   \n",
       "max      1.000000    1.000000    7.501819    3.000728    3.500849    6.001456   \n",
       "\n",
       "                6  \n",
       "count  994.000000  \n",
       "mean     0.272736  \n",
       "std      0.103366  \n",
       "min      0.000000  \n",
       "25%      0.220000  \n",
       "50%      0.220000  \n",
       "75%      0.290000  \n",
       "max      1.000000  "
      ]
     },
     "execution_count": 12,
     "metadata": {},
     "output_type": "execute_result"
    }
   ],
   "source": [
    "X_train_median.describe()"
   ]
  },
  {
   "cell_type": "code",
   "execution_count": 13,
   "metadata": {},
   "outputs": [],
   "source": [
    "from sklearn.preprocessing import StandardScaler, normalize\n",
    "stdscl = StandardScaler(with_mean=True, with_std=True)"
   ]
  },
  {
   "cell_type": "code",
   "execution_count": 14,
   "metadata": {},
   "outputs": [],
   "source": [
    "X_train_std = pd.DataFrame(stdscl.fit_transform(X_train_median))\n",
    "X_train_norm = pd.DataFrame(normalize(X_train_median))\n",
    "\n",
    "X_test_std = pd.DataFrame(stdscl.fit_transform(X_test_median))\n",
    "X_test_norm = pd.DataFrame(normalize(X_test_median))"
   ]
  },
  {
   "cell_type": "code",
   "execution_count": 15,
   "metadata": {},
   "outputs": [
    {
     "data": {
      "text/html": [
       "<div>\n",
       "<style scoped>\n",
       "    .dataframe tbody tr th:only-of-type {\n",
       "        vertical-align: middle;\n",
       "    }\n",
       "\n",
       "    .dataframe tbody tr th {\n",
       "        vertical-align: top;\n",
       "    }\n",
       "\n",
       "    .dataframe thead th {\n",
       "        text-align: right;\n",
       "    }\n",
       "</style>\n",
       "<table border=\"1\" class=\"dataframe\">\n",
       "  <thead>\n",
       "    <tr style=\"text-align: right;\">\n",
       "      <th></th>\n",
       "      <th>0</th>\n",
       "      <th>1</th>\n",
       "      <th>2</th>\n",
       "      <th>3</th>\n",
       "      <th>4</th>\n",
       "      <th>5</th>\n",
       "      <th>6</th>\n",
       "    </tr>\n",
       "  </thead>\n",
       "  <tbody>\n",
       "    <tr>\n",
       "      <th>count</th>\n",
       "      <td>9.940000e+02</td>\n",
       "      <td>9.940000e+02</td>\n",
       "      <td>9.940000e+02</td>\n",
       "      <td>9.940000e+02</td>\n",
       "      <td>9.940000e+02</td>\n",
       "      <td>9.940000e+02</td>\n",
       "      <td>9.940000e+02</td>\n",
       "    </tr>\n",
       "    <tr>\n",
       "      <th>mean</th>\n",
       "      <td>-2.055141e-16</td>\n",
       "      <td>-6.433486e-17</td>\n",
       "      <td>-1.465405e-16</td>\n",
       "      <td>2.716361e-16</td>\n",
       "      <td>5.647171e-16</td>\n",
       "      <td>1.429663e-17</td>\n",
       "      <td>-4.342603e-16</td>\n",
       "    </tr>\n",
       "    <tr>\n",
       "      <th>std</th>\n",
       "      <td>1.000503e+00</td>\n",
       "      <td>1.000503e+00</td>\n",
       "      <td>1.000503e+00</td>\n",
       "      <td>1.000503e+00</td>\n",
       "      <td>1.000503e+00</td>\n",
       "      <td>1.000503e+00</td>\n",
       "      <td>1.000503e+00</td>\n",
       "    </tr>\n",
       "    <tr>\n",
       "      <th>min</th>\n",
       "      <td>-2.984074e+00</td>\n",
       "      <td>-2.981925e+00</td>\n",
       "      <td>-1.204893e+00</td>\n",
       "      <td>-1.656071e+00</td>\n",
       "      <td>-6.708659e-02</td>\n",
       "      <td>-2.771865e+00</td>\n",
       "      <td>-2.639876e+00</td>\n",
       "    </tr>\n",
       "    <tr>\n",
       "      <th>25%</th>\n",
       "      <td>-6.776854e-01</td>\n",
       "      <td>-6.470261e-01</td>\n",
       "      <td>-1.917548e-01</td>\n",
       "      <td>-5.885418e-01</td>\n",
       "      <td>-6.708659e-02</td>\n",
       "      <td>-1.501811e-01</td>\n",
       "      <td>-5.104475e-01</td>\n",
       "    </tr>\n",
       "    <tr>\n",
       "      <th>50%</th>\n",
       "      <td>-6.264839e-02</td>\n",
       "      <td>-8.342976e-02</td>\n",
       "      <td>1.931562e-02</td>\n",
       "      <td>-2.745626e-01</td>\n",
       "      <td>-6.708659e-02</td>\n",
       "      <td>1.367408e-02</td>\n",
       "      <td>-5.104475e-01</td>\n",
       "    </tr>\n",
       "    <tr>\n",
       "      <th>75%</th>\n",
       "      <td>5.523886e-01</td>\n",
       "      <td>5.606804e-01</td>\n",
       "      <td>1.881719e-01</td>\n",
       "      <td>3.533957e-01</td>\n",
       "      <td>-6.708659e-02</td>\n",
       "      <td>1.229109e-01</td>\n",
       "      <td>1.670980e-01</td>\n",
       "    </tr>\n",
       "    <tr>\n",
       "      <th>max</th>\n",
       "      <td>3.858213e+00</td>\n",
       "      <td>4.022772e+00</td>\n",
       "      <td>2.953464e+01</td>\n",
       "      <td>1.718725e+01</td>\n",
       "      <td>2.851642e+01</td>\n",
       "      <td>3.000713e+01</td>\n",
       "      <td>7.039346e+00</td>\n",
       "    </tr>\n",
       "  </tbody>\n",
       "</table>\n",
       "</div>"
      ],
      "text/plain": [
       "                  0             1             2             3             4  \\\n",
       "count  9.940000e+02  9.940000e+02  9.940000e+02  9.940000e+02  9.940000e+02   \n",
       "mean  -2.055141e-16 -6.433486e-17 -1.465405e-16  2.716361e-16  5.647171e-16   \n",
       "std    1.000503e+00  1.000503e+00  1.000503e+00  1.000503e+00  1.000503e+00   \n",
       "min   -2.984074e+00 -2.981925e+00 -1.204893e+00 -1.656071e+00 -6.708659e-02   \n",
       "25%   -6.776854e-01 -6.470261e-01 -1.917548e-01 -5.885418e-01 -6.708659e-02   \n",
       "50%   -6.264839e-02 -8.342976e-02  1.931562e-02 -2.745626e-01 -6.708659e-02   \n",
       "75%    5.523886e-01  5.606804e-01  1.881719e-01  3.533957e-01 -6.708659e-02   \n",
       "max    3.858213e+00  4.022772e+00  2.953464e+01  1.718725e+01  2.851642e+01   \n",
       "\n",
       "                  5             6  \n",
       "count  9.940000e+02  9.940000e+02  \n",
       "mean   1.429663e-17 -4.342603e-16  \n",
       "std    1.000503e+00  1.000503e+00  \n",
       "min   -2.771865e+00 -2.639876e+00  \n",
       "25%   -1.501811e-01 -5.104475e-01  \n",
       "50%    1.367408e-02 -5.104475e-01  \n",
       "75%    1.229109e-01  1.670980e-01  \n",
       "max    3.000713e+01  7.039346e+00  "
      ]
     },
     "execution_count": 15,
     "metadata": {},
     "output_type": "execute_result"
    }
   ],
   "source": [
    "X_train_std.describe()"
   ]
  },
  {
   "cell_type": "code",
   "execution_count": 16,
   "metadata": {},
   "outputs": [
    {
     "data": {
      "text/html": [
       "<div>\n",
       "<style scoped>\n",
       "    .dataframe tbody tr th:only-of-type {\n",
       "        vertical-align: middle;\n",
       "    }\n",
       "\n",
       "    .dataframe tbody tr th {\n",
       "        vertical-align: top;\n",
       "    }\n",
       "\n",
       "    .dataframe thead th {\n",
       "        text-align: right;\n",
       "    }\n",
       "</style>\n",
       "<table border=\"1\" class=\"dataframe\">\n",
       "  <thead>\n",
       "    <tr style=\"text-align: right;\">\n",
       "      <th></th>\n",
       "      <th>0</th>\n",
       "      <th>1</th>\n",
       "      <th>2</th>\n",
       "      <th>3</th>\n",
       "      <th>4</th>\n",
       "      <th>5</th>\n",
       "      <th>6</th>\n",
       "    </tr>\n",
       "  </thead>\n",
       "  <tbody>\n",
       "    <tr>\n",
       "      <th>count</th>\n",
       "      <td>994.000000</td>\n",
       "      <td>994.000000</td>\n",
       "      <td>994.000000</td>\n",
       "      <td>994.000000</td>\n",
       "      <td>994.000000</td>\n",
       "      <td>994.000000</td>\n",
       "      <td>994.000000</td>\n",
       "    </tr>\n",
       "    <tr>\n",
       "      <th>mean</th>\n",
       "      <td>0.408440</td>\n",
       "      <td>0.411101</td>\n",
       "      <td>0.415262</td>\n",
       "      <td>0.213979</td>\n",
       "      <td>0.420288</td>\n",
       "      <td>0.418645</td>\n",
       "      <td>0.226218</td>\n",
       "    </tr>\n",
       "    <tr>\n",
       "      <th>std</th>\n",
       "      <td>0.084622</td>\n",
       "      <td>0.083253</td>\n",
       "      <td>0.076702</td>\n",
       "      <td>0.100574</td>\n",
       "      <td>0.050155</td>\n",
       "      <td>0.060064</td>\n",
       "      <td>0.081806</td>\n",
       "    </tr>\n",
       "    <tr>\n",
       "      <th>min</th>\n",
       "      <td>0.052470</td>\n",
       "      <td>0.044185</td>\n",
       "      <td>0.095172</td>\n",
       "      <td>0.000000</td>\n",
       "      <td>0.066121</td>\n",
       "      <td>0.000000</td>\n",
       "      <td>0.000000</td>\n",
       "    </tr>\n",
       "    <tr>\n",
       "      <th>25%</th>\n",
       "      <td>0.357206</td>\n",
       "      <td>0.362892</td>\n",
       "      <td>0.369348</td>\n",
       "      <td>0.145701</td>\n",
       "      <td>0.394579</td>\n",
       "      <td>0.392799</td>\n",
       "      <td>0.180006</td>\n",
       "    </tr>\n",
       "    <tr>\n",
       "      <th>50%</th>\n",
       "      <td>0.411131</td>\n",
       "      <td>0.411390</td>\n",
       "      <td>0.421949</td>\n",
       "      <td>0.187087</td>\n",
       "      <td>0.419798</td>\n",
       "      <td>0.423167</td>\n",
       "      <td>0.199572</td>\n",
       "    </tr>\n",
       "    <tr>\n",
       "      <th>75%</th>\n",
       "      <td>0.461947</td>\n",
       "      <td>0.461191</td>\n",
       "      <td>0.465177</td>\n",
       "      <td>0.256069</td>\n",
       "      <td>0.444348</td>\n",
       "      <td>0.451608</td>\n",
       "      <td>0.247084</td>\n",
       "    </tr>\n",
       "    <tr>\n",
       "      <th>max</th>\n",
       "      <td>0.653539</td>\n",
       "      <td>0.700569</td>\n",
       "      <td>0.992055</td>\n",
       "      <td>0.949385</td>\n",
       "      <td>0.966781</td>\n",
       "      <td>0.984776</td>\n",
       "      <td>0.665396</td>\n",
       "    </tr>\n",
       "  </tbody>\n",
       "</table>\n",
       "</div>"
      ],
      "text/plain": [
       "                0           1           2           3           4           5  \\\n",
       "count  994.000000  994.000000  994.000000  994.000000  994.000000  994.000000   \n",
       "mean     0.408440    0.411101    0.415262    0.213979    0.420288    0.418645   \n",
       "std      0.084622    0.083253    0.076702    0.100574    0.050155    0.060064   \n",
       "min      0.052470    0.044185    0.095172    0.000000    0.066121    0.000000   \n",
       "25%      0.357206    0.362892    0.369348    0.145701    0.394579    0.392799   \n",
       "50%      0.411131    0.411390    0.421949    0.187087    0.419798    0.423167   \n",
       "75%      0.461947    0.461191    0.465177    0.256069    0.444348    0.451608   \n",
       "max      0.653539    0.700569    0.992055    0.949385    0.966781    0.984776   \n",
       "\n",
       "                6  \n",
       "count  994.000000  \n",
       "mean     0.226218  \n",
       "std      0.081806  \n",
       "min      0.000000  \n",
       "25%      0.180006  \n",
       "50%      0.199572  \n",
       "75%      0.247084  \n",
       "max      0.665396  "
      ]
     },
     "execution_count": 16,
     "metadata": {},
     "output_type": "execute_result"
    }
   ],
   "source": [
    "X_train_norm.describe()"
   ]
  },
  {
   "cell_type": "code",
   "execution_count": 17,
   "metadata": {},
   "outputs": [],
   "source": [
    "from sklearn.neighbors import KNeighborsClassifier\n",
    "from sklearn.tree import DecisionTreeClassifier"
   ]
  },
  {
   "cell_type": "code",
   "execution_count": 18,
   "metadata": {},
   "outputs": [],
   "source": [
    "knn_10 = KNeighborsClassifier(n_neighbors=10)\n",
    "knn = KNeighborsClassifier(n_neighbors=5)\n",
    "dtc = DecisionTreeClassifier()"
   ]
  },
  {
   "cell_type": "code",
   "execution_count": 19,
   "metadata": {},
   "outputs": [],
   "source": [
    "X_train = X_train_norm\n",
    "X_test = X_test_norm"
   ]
  },
  {
   "cell_type": "code",
   "execution_count": 20,
   "metadata": {},
   "outputs": [],
   "source": [
    "knn.fit(X_train, y_train)\n",
    "score_train_knn = knn.score(X_train, y_train)\n",
    "score_test_knn = knn.score(X_test, y_test)\n",
    "\n",
    "\n",
    "\n",
    "knn_10.fit(X_train, y_train)\n",
    "score_train_knn_10 = knn_10.score(X_train, y_train)\n",
    "score_test_knn_10 = knn_10.score(X_test, y_test)"
   ]
  },
  {
   "cell_type": "code",
   "execution_count": 21,
   "metadata": {},
   "outputs": [
    {
     "name": "stdout",
     "output_type": "stream",
     "text": [
      "0.7816901408450704    training k = 5\n",
      "0.7061224489795919    test k = 5\n",
      "0.7535211267605634    training k = 10\n",
      "0.7163265306122449    test k = 10\n"
     ]
    }
   ],
   "source": [
    "print(score_train_knn, \"   training k = 5\")\n",
    "print(score_test_knn, \"   test k = 5\")\n",
    "\n",
    "\n",
    "print(score_train_knn_10, \"   training k = 10\")\n",
    "print(score_test_knn_10, \"   test k = 10\")\n",
    "\n"
   ]
  },
  {
   "cell_type": "code",
   "execution_count": 22,
   "metadata": {},
   "outputs": [],
   "source": [
    "from sklearn.preprocessing import KBinsDiscretizer\n",
    "enc = KBinsDiscretizer(n_bins=5, encode='onehot')\n",
    "\n",
    "\n",
    "X_binned = enc.fit_transform(X_train)\n",
    "X_binned_test = enc.fit_transform(X_test)"
   ]
  },
  {
   "cell_type": "code",
   "execution_count": 23,
   "metadata": {},
   "outputs": [],
   "source": [
    "dtc.fit(X_binned, y_train)\n",
    "score_dtc = dtc.score(X_binned, y_train)\n",
    "score_test_dtc = dtc.score(X_binned_test, y_test)"
   ]
  },
  {
   "cell_type": "code",
   "execution_count": 24,
   "metadata": {},
   "outputs": [
    {
     "name": "stdout",
     "output_type": "stream",
     "text": [
      "0.9818913480885312    training dtc\n",
      "0.6428571428571429    test dtc\n"
     ]
    }
   ],
   "source": [
    "print(score_dtc, \"   training dtc\")\n",
    "print(score_test_dtc, \"   test dtc\")"
   ]
  },
  {
   "cell_type": "code",
   "execution_count": 25,
   "metadata": {},
   "outputs": [],
   "source": [
    "def pair_interaction_featurize(X):\n",
    "    features_multiplied = pd.DataFrame()\n",
    "    for i in X:\n",
    "        for j in X:\n",
    "            if int(j) > int(i):\n",
    "                col1 = pd.Series(X[i])\n",
    "                col2 = pd.Series(X[j])\n",
    "                col1 = col1.mul(col2)\n",
    "                features_multiplied[int(str(i) + str(j))] = col1 \n",
    "    generated_features = pd.concat([features_multiplied, X], axis=1)\n",
    "    return features_multiplied\n",
    "\n",
    "         \n",
    "X_train_interaction_pair = pair_interaction_featurize(X_train)\n",
    "X_test_interaction_pair = pair_interaction_featurize(X_test)"
   ]
  },
  {
   "cell_type": "code",
   "execution_count": 26,
   "metadata": {},
   "outputs": [],
   "source": [
    "from sklearn.feature_selection import mutual_info_classif\n",
    "\n",
    "enc_mi = KBinsDiscretizer(n_bins=5, encode = \"ordinal\")\n",
    "X_binned_mi = enc_mi.fit_transform(X_train_interaction_pair)\n",
    "X_binned_test_mi = enc_mi.fit_transform(X_test_interaction_pair)\n",
    "\n",
    "mutual_info_classifier = mutual_info_classif(X_binned_mi, y_train)\n",
    "\n",
    "\n",
    "entropy_with_index = sorted([(index, el) for index, el in zip(mutual_info_classifier, X_train_interaction_pair.columns)], key=lambda x: x[0], reverse=True)\n"
   ]
  },
  {
   "cell_type": "code",
   "execution_count": 27,
   "metadata": {},
   "outputs": [],
   "source": [
    "scores_train = []\n",
    "scores_test = []\n",
    "for i in range(1, len(entropy_with_index)):\n",
    "    columns = [i[1] for i in entropy_with_index[0:i]]\n",
    "    knn.fit(X_train_interaction_pair[columns], y_train)\n",
    "    score_train  = knn.score(X_train_interaction_pair[columns], y_train)\n",
    "    score_test  = knn.score(X_test_interaction_pair[columns], y_test)\n",
    "    scores_train.append(score_train)\n",
    "    scores_test.append(score_test)\n",
    "import matplotlib.pyplot as plt"
   ]
  },
  {
   "cell_type": "code",
   "execution_count": 28,
   "metadata": {},
   "outputs": [
    {
     "name": "stdout",
     "output_type": "stream",
     "text": [
      "0.7937625754527163 training score\n",
      "0.7061224489795919 test score\n"
     ]
    },
    {
     "data": {
      "image/png": "[encoded data removed]",
      "text/plain": [
       "<Figure size 432x288 with 1 Axes>"
      ]
     },
     "metadata": {
      "needs_background": "light"
     },
     "output_type": "display_data"
    }
   ],
   "source": [
    "range_n = range(1, len(entropy_with_index))    \n",
    "op = plt.plot(range_n, scores_train)\n",
    "plt.setp(op,'marker', 'x')\n",
    "plt.xlabel(\"Value for n\")\n",
    "plt.xticks(range_n)\n",
    "plt.ylabel(\"Score\")\n",
    "print(max(scores_train), \"training score\")\n",
    "print(max(scores_test), \"test score\")\n",
    "plt.show()"
   ]
  },
  {
   "cell_type": "code",
   "execution_count": 29,
   "metadata": {},
   "outputs": [],
   "source": [
    "def kmeans_interaction_featurize(X, X_binned):\n",
    "    kmeans = []\n",
    "    KMEANS_RANGE = 16\n",
    "    generated_features_kmeans = pd.DataFrame()\n",
    "    for i in range(2, KMEANS_RANGE):\n",
    "        kmeans.append(KMeans(n_clusters=i, random_state = 0).fit(X))\n",
    "        generated_features_kmeans[int(str(1) + str(i))] = kmeans[i-2].predict(X)\n",
    "    generated_features_kmeans = pd.concat([generated_features_kmeans, X_binned], axis=1)\n",
    "    return generated_features_kmeans"
   ]
  },
  {
   "cell_type": "code",
   "execution_count": 30,
   "metadata": {},
   "outputs": [],
   "source": [
    "from sklearn.cluster import KMeans\n",
    "X_binned_kmeans = enc_mi.fit_transform(X_train)\n",
    "X_binned_test_kmeans = enc_mi.fit_transform(X_test)"
   ]
  },
  {
   "cell_type": "code",
   "execution_count": 42,
   "metadata": {},
   "outputs": [],
   "source": [
    "enc_mi = KBinsDiscretizer(n_bins=15, encode = \"ordinal\")\n",
    "X_binned_mi = pd.DataFrame(enc_mi.fit_transform(X_train))\n",
    "X_binned_test_mi = pd.DataFrame(enc_mi.fit_transform(X_test))"
   ]
  },
  {
   "cell_type": "code",
   "execution_count": 43,
   "metadata": {},
   "outputs": [],
   "source": [
    "X_train_kmeans = kmeans_interaction_featurize(X_train, X_binned_mi)\n",
    "X_test_kmeans = kmeans_interaction_featurize(X_test, X_binned_test_mi)"
   ]
  },
  {
   "cell_type": "code",
   "execution_count": 44,
   "metadata": {},
   "outputs": [
    {
     "data": {
      "text/plain": [
       "[(0.08103175855854361, 113),\n",
       " (0.07906709365597897, 19),\n",
       " (0.06598019678168732, 111),\n",
       " (0.06256994107002489, 115),\n",
       " (0.06088067399057073, 2),\n",
       " (0.058014771855377845, 6),\n",
       " (0.05322159772524149, 114),\n",
       " (0.05194195079000341, 112),\n",
       " (0.0491195750458977, 18),\n",
       " (0.044106210933727796, 17),\n",
       " (0.035172478116613615, 4),\n",
       " (0.0336888896552916, 3),\n",
       " (0.029130879348433503, 12),\n",
       " (0.028758445810396882, 0),\n",
       " (0.028675541578442987, 110),\n",
       " (0.02833388775819068, 16),\n",
       " (0.025540072830117833, 15),\n",
       " (0.020101283615319154, 13),\n",
       " (0.017574552537650723, 5),\n",
       " (0.007659362610506593, 14),\n",
       " (0.0032781640354366814, 1)]"
      ]
     },
     "execution_count": 44,
     "metadata": {},
     "output_type": "execute_result"
    }
   ],
   "source": [
    "from sklearn.feature_selection import mutual_info_classif\n",
    "\n",
    "mutual_info_classifier = mutual_info_classif(X_train_kmeans, y_train)\n",
    "entropy_with_index = sorted([(index, el) for index, el in zip(mutual_info_classifier, X_train_kmeans.columns)], key=lambda x: x[0], reverse=True)\n",
    "\n",
    "entropy_with_index"
   ]
  },
  {
   "cell_type": "code",
   "execution_count": 45,
   "metadata": {},
   "outputs": [],
   "source": [
    "scores_train_kmeans = []\n",
    "scores_test_kmeans = []\n",
    "for i in range(1, len(entropy_with_index)):\n",
    "    columns = [i[1] for i in entropy_with_index[0:i]]\n",
    "    knn.fit(X_train_kmeans[columns], y_train)\n",
    "    score_train_kmeans  = knn.score(X_train_kmeans[columns], y_train)\n",
    "    score_test_kmeans  = knn.score(X_test_kmeans[columns], y_test)\n",
    "    scores_train_kmeans.append(score_train_kmeans)\n",
    "    scores_test_kmeans.append(score_test_kmeans)"
   ]
  },
  {
   "cell_type": "code",
   "execution_count": 46,
   "metadata": {},
   "outputs": [
    {
     "name": "stdout",
     "output_type": "stream",
     "text": [
      "0.8088531187122736 training score\n",
      "0.7122448979591837 test score\n"
     ]
    },
    {
     "data": {
      "image/png": "[encoded data removed]",
      "text/plain": [
       "<Figure size 432x288 with 1 Axes>"
      ]
     },
     "metadata": {
      "needs_background": "light"
     },
     "output_type": "display_data"
    }
   ],
   "source": [
    "import matplotlib.pyplot as plt\n",
    "range_n = range(1, len(entropy_with_index))    \n",
    "op = plt.plot(range_n, scores_train_kmeans)\n",
    "plt.setp(op,'marker', 'x')\n",
    "plt.xlabel(\"Value for n\")\n",
    "plt.xticks(range_n)\n",
    "plt.ylabel(\"Score\")\n",
    "print(max(scores_train_kmeans), \"training score\")\n",
    "print(max(scores_test_kmeans), \"test score\")\n",
    "plt.show()"
   ]
  },
  {
   "cell_type": "code",
   "execution_count": null,
   "metadata": {},
   "outputs": [],
   "source": []
  }
 ],
 "metadata": {
  "kernelspec": {
   "display_name": "Python 3",
   "language": "python",
   "name": "python3"
  },
  "language_info": {
   "codemirror_mode": {
    "name": "ipython",
    "version": 3
   },
   "file_extension": ".py",
   "mimetype": "text/x-python",
   "name": "python",
   "nbconvert_exporter": "python",
   "pygments_lexer": "ipython3",
   "version": "3.7.3"
  }
 },
 "nbformat": 4,
 "nbformat_minor": 2
}
