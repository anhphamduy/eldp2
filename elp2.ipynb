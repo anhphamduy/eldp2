{
 "cells": [
  {
   "cell_type": "code",
   "execution_count": 52,
   "metadata": {},
   "outputs": [],
   "source": [
    "import pandas as pd\n",
    "import numpy as np\n",
    "from sklearn import preprocessing\n",
    "import matplotlib.pyplot as plt\n",
    "import seaborn\n",
    "from sklearn.impute import SimpleImputer    \n",
    "from sklearn.preprocessing import StandardScaler, normalize\n",
    "from IPython.display import display"
   ]
  },
  {
   "cell_type": "code",
   "execution_count": 53,
   "metadata": {},
   "outputs": [],
   "source": [
    "np.random.seed(448)"
   ]
  },
  {
   "cell_type": "markdown",
   "metadata": {},
   "source": [
    "## Part 1\n",
    "\n",
    "### Data linkage without blocking\n",
    "\n",
    "After testing, it was decided that manufacturer and description should not be used in linkage as this lead to too much variance in results. \n",
    "\n",
    "A jaccard index, which is used to measure the overlap of two strings, was used to compare the strings in order to get a score based on the similarity of the titles, this was used as titles/names will usually be quite similar across platforms and the jaccard index will usually lead to accurate results while measuring short titles such as the ones in these datasets.\n",
    "\n",
    "to calculate the similarity of the prices, i took the minimum value of the two and divided that by the maximum value of the two, this leads to creating a (smaller than one) score based on how much smaller the first number is from the second.\n",
    "\n",
    "The final score was decided by summing the name score and half the price score. The reason half the price score was used was due to it being a less accurate representation of similarity (multiple items can have the same/similar price) in comparison to name which will very rarely have the same/similar values.\n",
    "\n",
    "The threshold for determining the scores was done through trial and error in order to get the best balance between precision and recall. We also only accounted for the idAmazon's with the highest final scores when comparing with our truth dataset as there can only be one true match for each id, this sufficienty improved the performance of our linkage.\n",
    "\n",
    "The performance shows us precision ~ 0.915 and recall ~ 0.908. These values both appear to be very good as we have a very high rate of correct linkage between our datasets while still covering a large amount of the true values. "
   ]
  },
  {
   "cell_type": "code",
   "execution_count": 8,
   "metadata": {},
   "outputs": [],
   "source": [
    "# read in all the needed files\n",
    "google_products = pd.read_csv('google_small.csv')\n",
    "amazon_products = pd.read_csv('amazon_small.csv')\n",
    "true = pd.read_csv('amazon_google_truth_small.csv').sort_values(by='idAmazon')"
   ]
  },
  {
   "cell_type": "code",
   "execution_count": 9,
   "metadata": {},
   "outputs": [],
   "source": [
    "def get_jaccard_sim(str1, str2):\n",
    "    \"\"\"\n",
    "    Get the Jaccard similarity score between two strings\n",
    "    \"\"\"\n",
    "    a = set(str1.split())\n",
    "    b = set(str2.split())\n",
    "    c = a.intersection(b)\n",
    "    return float(len(c)) / (len(a) + len(b) - len(c))"
   ]
  },
  {
   "cell_type": "code",
   "execution_count": 10,
   "metadata": {},
   "outputs": [],
   "source": [
    "# set a common column for merge\n",
    "google_products['key'] = 1\n",
    "amazon_products['key'] = 1"
   ]
  },
  {
   "cell_type": "code",
   "execution_count": 11,
   "metadata": {},
   "outputs": [],
   "source": [
    "# join the 2 dataframes\n",
    "joined = pd.merge(google_products, amazon_products, on='key').drop('key', axis=1)\n",
    "# calculate the scores for the names/titles using the jaccard index\n",
    "joined['name_score'] =joined.apply(lambda row: get_jaccard_sim(row['name'], row['title']), axis=1)\n",
    "# calculate the scores for the price similarities\n",
    "joined['price_score'] = joined.apply(lambda row: (min(row['price_x'], row['price_y'])/max(row['price_x'], row['price_y'])), axis=1)\n",
    "# calculate the final scores with the price weighted less as there is more chance of duplicates\n",
    "joined['final_score'] = joined['name_score'] + joined['price_score']/2"
   ]
  },
  {
   "cell_type": "code",
   "execution_count": 12,
   "metadata": {},
   "outputs": [],
   "source": [
    "# threshold determined through trial and error, only concerned with values above this threshold\n",
    "THRESHOLD = 0.54\n",
    "joined = joined[joined['final_score'] > THRESHOLD]\n",
    "# take only the largest score for each amazonID for comparison\n",
    "joined = joined.sort_values(by='final_score', ascending=False).drop_duplicates(['idAmazon'])\n",
    "# create new dataframes for faster calculations\n",
    "predicted = joined.loc[:, ['idAmazon', 'idGoogleBase']].sort_values(by='idAmazon')"
   ]
  },
  {
   "cell_type": "code",
   "execution_count": 13,
   "metadata": {},
   "outputs": [
    {
     "data": {
      "text/html": [
       "<div>\n",
       "<style scoped>\n",
       "    .dataframe tbody tr th:only-of-type {\n",
       "        vertical-align: middle;\n",
       "    }\n",
       "\n",
       "    .dataframe tbody tr th {\n",
       "        vertical-align: top;\n",
       "    }\n",
       "\n",
       "    .dataframe thead th {\n",
       "        text-align: right;\n",
       "    }\n",
       "</style>\n",
       "<table border=\"1\" class=\"dataframe\">\n",
       "  <thead>\n",
       "    <tr style=\"text-align: right;\">\n",
       "      <th></th>\n",
       "      <th>idAmazon</th>\n",
       "      <th>idGoogleBase</th>\n",
       "    </tr>\n",
       "  </thead>\n",
       "  <tbody>\n",
       "    <tr>\n",
       "      <td>0</td>\n",
       "      <td>1931102953</td>\n",
       "      <td>http://www.google.com/base/feeds/snippets/1272...</td>\n",
       "    </tr>\n",
       "    <tr>\n",
       "      <td>1</td>\n",
       "      <td>b00002s6sc</td>\n",
       "      <td>http://www.google.com/base/feeds/snippets/1049...</td>\n",
       "    </tr>\n",
       "    <tr>\n",
       "      <td>2</td>\n",
       "      <td>b00004nhn7</td>\n",
       "      <td>http://www.google.com/base/feeds/snippets/1843...</td>\n",
       "    </tr>\n",
       "    <tr>\n",
       "      <td>3</td>\n",
       "      <td>b000051sgq</td>\n",
       "      <td>http://www.google.com/base/feeds/snippets/1758...</td>\n",
       "    </tr>\n",
       "    <tr>\n",
       "      <td>4</td>\n",
       "      <td>b000067fk7</td>\n",
       "      <td>http://www.google.com/base/feeds/snippets/3785...</td>\n",
       "    </tr>\n",
       "  </tbody>\n",
       "</table>\n",
       "</div>"
      ],
      "text/plain": [
       "     idAmazon                                       idGoogleBase\n",
       "0  1931102953  http://www.google.com/base/feeds/snippets/1272...\n",
       "1  b00002s6sc  http://www.google.com/base/feeds/snippets/1049...\n",
       "2  b00004nhn7  http://www.google.com/base/feeds/snippets/1843...\n",
       "3  b000051sgq  http://www.google.com/base/feeds/snippets/1758...\n",
       "4  b000067fk7  http://www.google.com/base/feeds/snippets/3785..."
      ]
     },
     "execution_count": 13,
     "metadata": {},
     "output_type": "execute_result"
    }
   ],
   "source": [
    "# create a dataframe of tp values\n",
    "tp_values = []\n",
    "tp_df = predicted.merge(true, on=['idAmazon', 'idGoogleBase'])\n",
    "tp_df.head()"
   ]
  },
  {
   "cell_type": "code",
   "execution_count": 14,
   "metadata": {},
   "outputs": [
    {
     "name": "stdout",
     "output_type": "stream",
     "text": [
      "precision = 0.9147286821705426\n",
      "recall = 0.9076923076923077\n"
     ]
    }
   ],
   "source": [
    "# calculate precision and recall using tp, fp, fn\n",
    "tp = len(tp_df)\n",
    "fp = len(predicted) - tp\n",
    "fn = len(true) - tp\n",
    "precision = tp/(tp+fp)\n",
    "recall = tp/(tp+fn)\n",
    "print(f'precision = {precision}')\n",
    "print(f'recall = {recall}')"
   ]
  },
  {
   "cell_type": "markdown",
   "metadata": {},
   "source": [
    "## Data linkage with blocking\n",
    "It was decided to use a blocking method based on price ranges. This was decided by somewhat of a trial and error process, as well as deduction, I originally attempted to block with n-grams on title but this lead to having far too many blocks and turned out to be a poor way to block these datasets. The sizes of the price blocks were determined by prior knowledge of how items are generally priced and the largest block size was determined by calling .max() on the prices of both dataframes. I also decided to not impute the 0 values of price in the amazon.csv file to anything, this is because imputing it to the mean/median would be improper as we are solely blocking on price and there is large variance in prices.\n",
    "\n",
    "This blocking method seemed to work quite well, both the PC and RR are around 80% which is quite high. These results are not as good as the results produced from the measures in the naive-linkage implemented earlier but this is to be expected as blocking is generally a less precise method as it prioritises speed and security over results. If a naive linkage method was used here, it would be very slow as there are millions of possible combinations between the datasets, using blocking significantly sped up the process.\n",
    "\n",
    "pair completeness measures the coverage of our values from within the truth dataset, with our value being ~80%, we have quite a good recall considering that blocking was used this could potentially be increased further by adding a second conjunction to the blocking scheme. Reduction ratio is a measure of the effectiveness of data reduction, here we also have a value of ~80% which means that we have a high ratio of data ingested to data matched.\n"
   ]
  },
  {
   "cell_type": "code",
   "execution_count": 15,
   "metadata": {},
   "outputs": [],
   "source": [
    "# create dataframes from datasets\n",
    "google_products = pd.read_csv('google.csv')\n",
    "amazon_products = pd.read_csv('amazon.csv')\n",
    "true = pd.read_csv('amazon_google_truth.csv')\n",
    "true = true.rename(columns={'idGoogleBase':'id'})"
   ]
  },
  {
   "cell_type": "code",
   "execution_count": 16,
   "metadata": {},
   "outputs": [
    {
     "data": {
      "text/plain": [
       "101515.55"
      ]
     },
     "execution_count": 16,
     "metadata": {},
     "output_type": "execute_result"
    }
   ],
   "source": [
    "# preprocess price data\n",
    "# assume prices are in gbp already so no need to apply exchange rate\n",
    "google_products['price'] = google_products['price'].str.replace('gbp', '')\n",
    "amazon_products['price'] = amazon_products['price'].replace('gbp', '')\n",
    "google_products['price'] = pd.to_numeric(google_products['price'])\n",
    "amazon_products['price'] = pd.to_numeric(amazon_products['price'])\n",
    "amazon_products['price'].max()"
   ]
  },
  {
   "cell_type": "code",
   "execution_count": 17,
   "metadata": {},
   "outputs": [],
   "source": [
    "# create blocks and labels for price and allocate each id to a block\n",
    "blocks = [0, 20, 50, 100, 200, 500, 1000, 2000, 5000, 10000, 100000, 1000000]\n",
    "labels = list(range(1,12))\n",
    "amazon_products['bin'] = pd.cut(amazon_products.price, bins=blocks, include_lowest=True, labels=labels)\n",
    "google_products['bin'] = pd.cut(google_products.price, bins=blocks, include_lowest=True, labels=labels)"
   ]
  },
  {
   "cell_type": "code",
   "execution_count": 18,
   "metadata": {},
   "outputs": [
    {
     "data": {
      "text/html": [
       "<div>\n",
       "<style scoped>\n",
       "    .dataframe tbody tr th:only-of-type {\n",
       "        vertical-align: middle;\n",
       "    }\n",
       "\n",
       "    .dataframe tbody tr th {\n",
       "        vertical-align: top;\n",
       "    }\n",
       "\n",
       "    .dataframe thead th {\n",
       "        text-align: right;\n",
       "    }\n",
       "</style>\n",
       "<table border=\"1\" class=\"dataframe\">\n",
       "  <thead>\n",
       "    <tr style=\"text-align: right;\">\n",
       "      <th></th>\n",
       "      <th>id</th>\n",
       "      <th>idAmazon</th>\n",
       "    </tr>\n",
       "  </thead>\n",
       "  <tbody>\n",
       "    <tr>\n",
       "      <td>0</td>\n",
       "      <td>http://www.google.com/base/feeds/snippets/1056...</td>\n",
       "      <td>b000aoz7hw</td>\n",
       "    </tr>\n",
       "    <tr>\n",
       "      <td>1</td>\n",
       "      <td>http://www.google.com/base/feeds/snippets/1290...</td>\n",
       "      <td>b000hcl5sm</td>\n",
       "    </tr>\n",
       "    <tr>\n",
       "      <td>2</td>\n",
       "      <td>http://www.google.com/base/feeds/snippets/1823...</td>\n",
       "      <td>b000jx1kgq</td>\n",
       "    </tr>\n",
       "    <tr>\n",
       "      <td>3</td>\n",
       "      <td>http://www.google.com/base/feeds/snippets/1826...</td>\n",
       "      <td>b000h25yr0</td>\n",
       "    </tr>\n",
       "    <tr>\n",
       "      <td>4</td>\n",
       "      <td>http://www.google.com/base/feeds/snippets/1825...</td>\n",
       "      <td>b0009yegpc</td>\n",
       "    </tr>\n",
       "  </tbody>\n",
       "</table>\n",
       "</div>"
      ],
      "text/plain": [
       "                                                  id    idAmazon\n",
       "0  http://www.google.com/base/feeds/snippets/1056...  b000aoz7hw\n",
       "1  http://www.google.com/base/feeds/snippets/1290...  b000hcl5sm\n",
       "2  http://www.google.com/base/feeds/snippets/1823...  b000jx1kgq\n",
       "3  http://www.google.com/base/feeds/snippets/1826...  b000h25yr0\n",
       "4  http://www.google.com/base/feeds/snippets/1825...  b0009yegpc"
      ]
     },
     "execution_count": 18,
     "metadata": {},
     "output_type": "execute_result"
    }
   ],
   "source": [
    "# create a common column to merge on\n",
    "google_products['key'] = 1\n",
    "amazon_products['key'] = 1\n",
    "\n",
    "matches = []\n",
    "fp = 0\n",
    "\n",
    "# find matches within the ground truth and each block\n",
    "for i in labels:\n",
    "    amazon = amazon_products.loc[amazon_products['bin'] == i]\n",
    "    google = google_products.loc[google_products['bin'] == i]\n",
    "    joined = pd.merge(google, amazon, on='key').drop('key', axis=1).loc[:, ['id', 'idAmazon']]\n",
    "    df = joined.merge(true, on=['idAmazon', 'id'])\n",
    "    fp += (len(joined) - len(df))\n",
    "    matches.append(df)\n",
    "                \n",
    "matches = pd.concat(matches)\n",
    "matches.head()"
   ]
  },
  {
   "cell_type": "code",
   "execution_count": 19,
   "metadata": {},
   "outputs": [
    {
     "name": "stdout",
     "output_type": "stream",
     "text": [
      "Pair completeness = 0.7876923076923077\n",
      "Reduction ratio = 0.8019180184478734\n"
     ]
    }
   ],
   "source": [
    "# calculate PC and RR\n",
    "tp = len(matches)\n",
    "fn = len(true) - tp\n",
    "PC = tp/(tp+fn)\n",
    "n = len(amazon_products)*len(google_products)\n",
    "RR = 1-(tp+fp)/n\n",
    "print(f'Pair completeness = {PC}')\n",
    "print(f'Reduction ratio = {RR}')"
   ]
  },
  {
   "cell_type": "markdown",
   "metadata": {},
   "source": [
    "## Part 2\n",
    "\n",
    "Since the column `Sample` is just an incremntal ID of the observation, we have not included it in the analysis. When including the column `pox` the bin width would be very small. As this is not practical when compared to the other columns (which require wider bin widths and more bins), we have excluded the column from any further analysis.\n",
    "\n",
    "### Pre-processing discussion\n",
    "From the distribution of the original dataset it is apparent that the majority of the data lies within range with a width of `0.1`. As a result, choosing median imputation would be favourable since outliers would not have as much affect with this strategy as opposed to mean imputation.\n",
    "\n",
    "### Comparing Classification Algorithms\n",
    "\n",
    "The aim is to find the classifying method that performs the best on the test data without either overfitting or underfitting on the training data.\n",
    "\n",
    "To achieve this goal we initially normalised the data by fitting the data to a standard noraml distribution. Then the results were used to train three different clissifying model:\n",
    "\n",
    "- KNN with 5 neighbours\n",
    "- KNN with 10 neighbours\n",
    "- decision tree classifier\n",
    "\n",
    "The classifier used at each stage was thr normal unmodified classifier offered by the library. This helped ensure consistency for the k_means classifiers as no other parameter but the number of neighbours was changed.\n",
    "\n",
    "Accuracies on training data:\n",
    "- 0.8098591549295775 for KNN with 5 neigbhours\n",
    "- 0.772635814889336 for KNN with 10 neighbours\n",
    "- 0.9849094567404426 for decision tree classifier\n",
    "\n",
    "Accuracies on test data:\n",
    "- 0.6816326530612244 for KNN with 5 neighbours\n",
    "- 0.6693877551020408 for KNN with 10 neighbours\n",
    "- 0.6714285714285714 for decision tree classifier\n",
    "\n",
    "\n",
    "The score for the dtc obtained on the training data suggests that the classifier is overly fitted to the training data. This implies that there is a high chance of the claddifier performing exceptionally on the test data but failing to predict feasible values on test data which it was not fitted to. The consequence of this is apparent on the results demonstrated above. The decision tree classifier performed well on the training data with a score of 0.98 whereas the test data only scored 0.67 which is clearly much lower than the training score.\n",
    "\n",
    "After multiple trials, it became evident that the results for the score were in the neighberhood of 0.67 and all of the classification methods seem to have achieved the same score of 0.67. Therefore, there is no clear advantage to any of the algorithms if all the parameters are set to their default settings from the parent library.\n",
    "\n",
    "## Feature Engineering\n",
    "\n",
    "\n"
   ]
  },
  {
   "cell_type": "code",
   "execution_count": 20,
   "metadata": {},
   "outputs": [],
   "source": [
    "# all the constants for part 2\n",
    "OPTIMAL_BIN_VALUE = 9"
   ]
  },
  {
   "cell_type": "code",
   "execution_count": 23,
   "metadata": {
    "scrolled": true
   },
   "outputs": [],
   "source": [
    "yeast_data = pd.read_csv('all_yeast.csv')\n",
    "yeast_data['Class'] = yeast_data.Class.replace(to_replace=yeast_data.Class.unique(), value=[0, 1])"
   ]
  },
  {
   "cell_type": "code",
   "execution_count": 24,
   "metadata": {},
   "outputs": [],
   "source": [
    "mean_imputer = SimpleImputer(missing_values=np.nan, strategy='mean')\n",
    "median_imputer = SimpleImputer(missing_values=np.nan, strategy='median')"
   ]
  },
  {
   "cell_type": "code",
   "execution_count": 25,
   "metadata": {},
   "outputs": [],
   "source": [
    "from sklearn.model_selection import train_test_split\n",
    "X_train, X_test, y_train, y_test = train_test_split(yeast_data.drop(['Class', 'pox', 'Sample'], axis=1), yeast_data['Class'], test_size=0.33)\n",
    "X_train_mean = pd.DataFrame(mean_imputer.fit_transform(X_train))\n",
    "X_train_median = pd.DataFrame(median_imputer.fit_transform(X_train))\n",
    "\n",
    "\n",
    "X_test_mean = pd.DataFrame(mean_imputer.fit_transform(X_test))\n",
    "X_test_median = pd.DataFrame(median_imputer.fit_transform(X_test))"
   ]
  },
  {
   "cell_type": "code",
   "execution_count": 26,
   "metadata": {},
   "outputs": [
    {
     "data": {
      "text/html": [
       "<div>\n",
       "<style scoped>\n",
       "    .dataframe tbody tr th:only-of-type {\n",
       "        vertical-align: middle;\n",
       "    }\n",
       "\n",
       "    .dataframe tbody tr th {\n",
       "        vertical-align: top;\n",
       "    }\n",
       "\n",
       "    .dataframe thead th {\n",
       "        text-align: right;\n",
       "    }\n",
       "</style>\n",
       "<table border=\"1\" class=\"dataframe\">\n",
       "  <thead>\n",
       "    <tr style=\"text-align: right;\">\n",
       "      <th></th>\n",
       "      <th>0</th>\n",
       "      <th>1</th>\n",
       "      <th>2</th>\n",
       "      <th>3</th>\n",
       "      <th>4</th>\n",
       "      <th>5</th>\n",
       "      <th>6</th>\n",
       "    </tr>\n",
       "  </thead>\n",
       "  <tbody>\n",
       "    <tr>\n",
       "      <td>count</td>\n",
       "      <td>994.000000</td>\n",
       "      <td>994.000000</td>\n",
       "      <td>994.000000</td>\n",
       "      <td>994.000000</td>\n",
       "      <td>994.000000</td>\n",
       "      <td>994.000000</td>\n",
       "      <td>994.000000</td>\n",
       "    </tr>\n",
       "    <tr>\n",
       "      <td>mean</td>\n",
       "      <td>0.497065</td>\n",
       "      <td>0.499804</td>\n",
       "      <td>0.498758</td>\n",
       "      <td>0.263763</td>\n",
       "      <td>0.509279</td>\n",
       "      <td>0.506622</td>\n",
       "      <td>0.275350</td>\n",
       "    </tr>\n",
       "    <tr>\n",
       "      <td>std</td>\n",
       "      <td>0.132575</td>\n",
       "      <td>0.123718</td>\n",
       "      <td>0.080742</td>\n",
       "      <td>0.155979</td>\n",
       "      <td>0.109570</td>\n",
       "      <td>0.182452</td>\n",
       "      <td>0.104874</td>\n",
       "    </tr>\n",
       "    <tr>\n",
       "      <td>min</td>\n",
       "      <td>0.110000</td>\n",
       "      <td>0.130000</td>\n",
       "      <td>0.210000</td>\n",
       "      <td>0.000000</td>\n",
       "      <td>0.500000</td>\n",
       "      <td>0.140000</td>\n",
       "      <td>0.000000</td>\n",
       "    </tr>\n",
       "    <tr>\n",
       "      <td>25%</td>\n",
       "      <td>0.410000</td>\n",
       "      <td>0.420000</td>\n",
       "      <td>0.470000</td>\n",
       "      <td>0.170000</td>\n",
       "      <td>0.500000</td>\n",
       "      <td>0.480000</td>\n",
       "      <td>0.220000</td>\n",
       "    </tr>\n",
       "    <tr>\n",
       "      <td>50%</td>\n",
       "      <td>0.497065</td>\n",
       "      <td>0.490000</td>\n",
       "      <td>0.500000</td>\n",
       "      <td>0.230000</td>\n",
       "      <td>0.500000</td>\n",
       "      <td>0.510000</td>\n",
       "      <td>0.220000</td>\n",
       "    </tr>\n",
       "    <tr>\n",
       "      <td>75%</td>\n",
       "      <td>0.560000</td>\n",
       "      <td>0.570000</td>\n",
       "      <td>0.550000</td>\n",
       "      <td>0.300000</td>\n",
       "      <td>0.500000</td>\n",
       "      <td>0.530000</td>\n",
       "      <td>0.280000</td>\n",
       "    </tr>\n",
       "    <tr>\n",
       "      <td>max</td>\n",
       "      <td>1.000000</td>\n",
       "      <td>1.000000</td>\n",
       "      <td>0.790000</td>\n",
       "      <td>3.000728</td>\n",
       "      <td>3.500849</td>\n",
       "      <td>6.001456</td>\n",
       "      <td>1.000000</td>\n",
       "    </tr>\n",
       "  </tbody>\n",
       "</table>\n",
       "</div>"
      ],
      "text/plain": [
       "                0           1           2           3           4           5  \\\n",
       "count  994.000000  994.000000  994.000000  994.000000  994.000000  994.000000   \n",
       "mean     0.497065    0.499804    0.498758    0.263763    0.509279    0.506622   \n",
       "std      0.132575    0.123718    0.080742    0.155979    0.109570    0.182452   \n",
       "min      0.110000    0.130000    0.210000    0.000000    0.500000    0.140000   \n",
       "25%      0.410000    0.420000    0.470000    0.170000    0.500000    0.480000   \n",
       "50%      0.497065    0.490000    0.500000    0.230000    0.500000    0.510000   \n",
       "75%      0.560000    0.570000    0.550000    0.300000    0.500000    0.530000   \n",
       "max      1.000000    1.000000    0.790000    3.000728    3.500849    6.001456   \n",
       "\n",
       "                6  \n",
       "count  994.000000  \n",
       "mean     0.275350  \n",
       "std      0.104874  \n",
       "min      0.000000  \n",
       "25%      0.220000  \n",
       "50%      0.220000  \n",
       "75%      0.280000  \n",
       "max      1.000000  "
      ]
     },
     "execution_count": 26,
     "metadata": {},
     "output_type": "execute_result"
    }
   ],
   "source": [
    "X_train_mean.describe()"
   ]
  },
  {
   "cell_type": "code",
   "execution_count": 27,
   "metadata": {},
   "outputs": [
    {
     "data": {
      "text/html": [
       "<div>\n",
       "<style scoped>\n",
       "    .dataframe tbody tr th:only-of-type {\n",
       "        vertical-align: middle;\n",
       "    }\n",
       "\n",
       "    .dataframe tbody tr th {\n",
       "        vertical-align: top;\n",
       "    }\n",
       "\n",
       "    .dataframe thead th {\n",
       "        text-align: right;\n",
       "    }\n",
       "</style>\n",
       "<table border=\"1\" class=\"dataframe\">\n",
       "  <thead>\n",
       "    <tr style=\"text-align: right;\">\n",
       "      <th></th>\n",
       "      <th>0</th>\n",
       "      <th>1</th>\n",
       "      <th>2</th>\n",
       "      <th>3</th>\n",
       "      <th>4</th>\n",
       "      <th>5</th>\n",
       "      <th>6</th>\n",
       "    </tr>\n",
       "  </thead>\n",
       "  <tbody>\n",
       "    <tr>\n",
       "      <td>count</td>\n",
       "      <td>994.000000</td>\n",
       "      <td>994.000000</td>\n",
       "      <td>994.000000</td>\n",
       "      <td>994.000000</td>\n",
       "      <td>994.000000</td>\n",
       "      <td>994.000000</td>\n",
       "      <td>994.000000</td>\n",
       "    </tr>\n",
       "    <tr>\n",
       "      <td>mean</td>\n",
       "      <td>0.495503</td>\n",
       "      <td>0.499577</td>\n",
       "      <td>0.499708</td>\n",
       "      <td>0.259669</td>\n",
       "      <td>0.509055</td>\n",
       "      <td>0.506812</td>\n",
       "      <td>0.272565</td>\n",
       "    </tr>\n",
       "    <tr>\n",
       "      <td>std</td>\n",
       "      <td>0.132667</td>\n",
       "      <td>0.123727</td>\n",
       "      <td>0.080803</td>\n",
       "      <td>0.156499</td>\n",
       "      <td>0.109579</td>\n",
       "      <td>0.182454</td>\n",
       "      <td>0.105570</td>\n",
       "    </tr>\n",
       "    <tr>\n",
       "      <td>min</td>\n",
       "      <td>0.110000</td>\n",
       "      <td>0.130000</td>\n",
       "      <td>0.210000</td>\n",
       "      <td>0.000000</td>\n",
       "      <td>0.500000</td>\n",
       "      <td>0.140000</td>\n",
       "      <td>0.000000</td>\n",
       "    </tr>\n",
       "    <tr>\n",
       "      <td>25%</td>\n",
       "      <td>0.410000</td>\n",
       "      <td>0.420000</td>\n",
       "      <td>0.470000</td>\n",
       "      <td>0.170000</td>\n",
       "      <td>0.500000</td>\n",
       "      <td>0.480000</td>\n",
       "      <td>0.220000</td>\n",
       "    </tr>\n",
       "    <tr>\n",
       "      <td>50%</td>\n",
       "      <td>0.480000</td>\n",
       "      <td>0.490000</td>\n",
       "      <td>0.510000</td>\n",
       "      <td>0.220000</td>\n",
       "      <td>0.500000</td>\n",
       "      <td>0.510000</td>\n",
       "      <td>0.220000</td>\n",
       "    </tr>\n",
       "    <tr>\n",
       "      <td>75%</td>\n",
       "      <td>0.560000</td>\n",
       "      <td>0.570000</td>\n",
       "      <td>0.550000</td>\n",
       "      <td>0.300000</td>\n",
       "      <td>0.500000</td>\n",
       "      <td>0.530000</td>\n",
       "      <td>0.280000</td>\n",
       "    </tr>\n",
       "    <tr>\n",
       "      <td>max</td>\n",
       "      <td>1.000000</td>\n",
       "      <td>1.000000</td>\n",
       "      <td>0.790000</td>\n",
       "      <td>3.000728</td>\n",
       "      <td>3.500849</td>\n",
       "      <td>6.001456</td>\n",
       "      <td>1.000000</td>\n",
       "    </tr>\n",
       "  </tbody>\n",
       "</table>\n",
       "</div>"
      ],
      "text/plain": [
       "                0           1           2           3           4           5  \\\n",
       "count  994.000000  994.000000  994.000000  994.000000  994.000000  994.000000   \n",
       "mean     0.495503    0.499577    0.499708    0.259669    0.509055    0.506812   \n",
       "std      0.132667    0.123727    0.080803    0.156499    0.109579    0.182454   \n",
       "min      0.110000    0.130000    0.210000    0.000000    0.500000    0.140000   \n",
       "25%      0.410000    0.420000    0.470000    0.170000    0.500000    0.480000   \n",
       "50%      0.480000    0.490000    0.510000    0.220000    0.500000    0.510000   \n",
       "75%      0.560000    0.570000    0.550000    0.300000    0.500000    0.530000   \n",
       "max      1.000000    1.000000    0.790000    3.000728    3.500849    6.001456   \n",
       "\n",
       "                6  \n",
       "count  994.000000  \n",
       "mean     0.272565  \n",
       "std      0.105570  \n",
       "min      0.000000  \n",
       "25%      0.220000  \n",
       "50%      0.220000  \n",
       "75%      0.280000  \n",
       "max      1.000000  "
      ]
     },
     "execution_count": 27,
     "metadata": {},
     "output_type": "execute_result"
    }
   ],
   "source": [
    "X_train_median.describe()"
   ]
  },
  {
   "cell_type": "code",
   "execution_count": 28,
   "metadata": {},
   "outputs": [],
   "source": [
    "stdscl = StandardScaler(with_mean=True, with_std=True)"
   ]
  },
  {
   "cell_type": "code",
   "execution_count": 29,
   "metadata": {},
   "outputs": [],
   "source": [
    "X_train_std = pd.DataFrame(stdscl.fit_transform(X_train_median))\n",
    "X_train_norm = pd.DataFrame(normalize(X_train_median))\n",
    "\n",
    "X_test_std = pd.DataFrame(stdscl.fit_transform(X_test_median))\n",
    "X_test_norm = pd.DataFrame(normalize(X_test_median))"
   ]
  },
  {
   "cell_type": "code",
   "execution_count": 30,
   "metadata": {},
   "outputs": [
    {
     "data": {
      "text/html": [
       "<div>\n",
       "<style scoped>\n",
       "    .dataframe tbody tr th:only-of-type {\n",
       "        vertical-align: middle;\n",
       "    }\n",
       "\n",
       "    .dataframe tbody tr th {\n",
       "        vertical-align: top;\n",
       "    }\n",
       "\n",
       "    .dataframe thead th {\n",
       "        text-align: right;\n",
       "    }\n",
       "</style>\n",
       "<table border=\"1\" class=\"dataframe\">\n",
       "  <thead>\n",
       "    <tr style=\"text-align: right;\">\n",
       "      <th></th>\n",
       "      <th>0</th>\n",
       "      <th>1</th>\n",
       "      <th>2</th>\n",
       "      <th>3</th>\n",
       "      <th>4</th>\n",
       "      <th>5</th>\n",
       "      <th>6</th>\n",
       "    </tr>\n",
       "  </thead>\n",
       "  <tbody>\n",
       "    <tr>\n",
       "      <td>count</td>\n",
       "      <td>9.940000e+02</td>\n",
       "      <td>9.940000e+02</td>\n",
       "      <td>9.940000e+02</td>\n",
       "      <td>9.940000e+02</td>\n",
       "      <td>9.940000e+02</td>\n",
       "      <td>9.940000e+02</td>\n",
       "      <td>9.940000e+02</td>\n",
       "    </tr>\n",
       "    <tr>\n",
       "      <td>mean</td>\n",
       "      <td>-1.992593e-16</td>\n",
       "      <td>-3.413321e-16</td>\n",
       "      <td>-6.683677e-16</td>\n",
       "      <td>-7.148317e-17</td>\n",
       "      <td>4.378344e-16</td>\n",
       "      <td>5.146788e-16</td>\n",
       "      <td>-5.128918e-16</td>\n",
       "    </tr>\n",
       "    <tr>\n",
       "      <td>std</td>\n",
       "      <td>1.000503e+00</td>\n",
       "      <td>1.000503e+00</td>\n",
       "      <td>1.000503e+00</td>\n",
       "      <td>1.000503e+00</td>\n",
       "      <td>1.000503e+00</td>\n",
       "      <td>1.000503e+00</td>\n",
       "      <td>1.000503e+00</td>\n",
       "    </tr>\n",
       "    <tr>\n",
       "      <td>min</td>\n",
       "      <td>-2.907268e+00</td>\n",
       "      <td>-2.988542e+00</td>\n",
       "      <td>-3.587171e+00</td>\n",
       "      <td>-1.660068e+00</td>\n",
       "      <td>-8.267739e-02</td>\n",
       "      <td>-2.011451e+00</td>\n",
       "      <td>-2.583151e+00</td>\n",
       "    </tr>\n",
       "    <tr>\n",
       "      <td>25%</td>\n",
       "      <td>-6.448203e-01</td>\n",
       "      <td>-6.434933e-01</td>\n",
       "      <td>-3.678479e-01</td>\n",
       "      <td>-5.732543e-01</td>\n",
       "      <td>-8.267739e-02</td>\n",
       "      <td>-1.470280e-01</td>\n",
       "      <td>-4.981716e-01</td>\n",
       "    </tr>\n",
       "    <tr>\n",
       "      <td>50%</td>\n",
       "      <td>-1.169159e-01</td>\n",
       "      <td>-7.744698e-02</td>\n",
       "      <td>1.274326e-01</td>\n",
       "      <td>-2.536031e-01</td>\n",
       "      <td>-8.267739e-02</td>\n",
       "      <td>1.747990e-02</td>\n",
       "      <td>-4.981716e-01</td>\n",
       "    </tr>\n",
       "    <tr>\n",
       "      <td>75%</td>\n",
       "      <td>4.864035e-01</td>\n",
       "      <td>5.694631e-01</td>\n",
       "      <td>6.227131e-01</td>\n",
       "      <td>2.578387e-01</td>\n",
       "      <td>-8.267739e-02</td>\n",
       "      <td>1.271518e-01</td>\n",
       "      <td>7.045910e-02</td>\n",
       "    </tr>\n",
       "    <tr>\n",
       "      <td>max</td>\n",
       "      <td>3.804660e+00</td>\n",
       "      <td>4.046605e+00</td>\n",
       "      <td>3.594396e+00</td>\n",
       "      <td>1.752365e+01</td>\n",
       "      <td>2.731627e+01</td>\n",
       "      <td>3.013041e+01</td>\n",
       "      <td>6.894028e+00</td>\n",
       "    </tr>\n",
       "  </tbody>\n",
       "</table>\n",
       "</div>"
      ],
      "text/plain": [
       "                  0             1             2             3             4  \\\n",
       "count  9.940000e+02  9.940000e+02  9.940000e+02  9.940000e+02  9.940000e+02   \n",
       "mean  -1.992593e-16 -3.413321e-16 -6.683677e-16 -7.148317e-17  4.378344e-16   \n",
       "std    1.000503e+00  1.000503e+00  1.000503e+00  1.000503e+00  1.000503e+00   \n",
       "min   -2.907268e+00 -2.988542e+00 -3.587171e+00 -1.660068e+00 -8.267739e-02   \n",
       "25%   -6.448203e-01 -6.434933e-01 -3.678479e-01 -5.732543e-01 -8.267739e-02   \n",
       "50%   -1.169159e-01 -7.744698e-02  1.274326e-01 -2.536031e-01 -8.267739e-02   \n",
       "75%    4.864035e-01  5.694631e-01  6.227131e-01  2.578387e-01 -8.267739e-02   \n",
       "max    3.804660e+00  4.046605e+00  3.594396e+00  1.752365e+01  2.731627e+01   \n",
       "\n",
       "                  5             6  \n",
       "count  9.940000e+02  9.940000e+02  \n",
       "mean   5.146788e-16 -5.128918e-16  \n",
       "std    1.000503e+00  1.000503e+00  \n",
       "min   -2.011451e+00 -2.583151e+00  \n",
       "25%   -1.470280e-01 -4.981716e-01  \n",
       "50%    1.747990e-02 -4.981716e-01  \n",
       "75%    1.271518e-01  7.045910e-02  \n",
       "max    3.013041e+01  6.894028e+00  "
      ]
     },
     "execution_count": 30,
     "metadata": {},
     "output_type": "execute_result"
    }
   ],
   "source": [
    "X_train_std.describe()"
   ]
  },
  {
   "cell_type": "code",
   "execution_count": 31,
   "metadata": {},
   "outputs": [
    {
     "data": {
      "text/html": [
       "<div>\n",
       "<style scoped>\n",
       "    .dataframe tbody tr th:only-of-type {\n",
       "        vertical-align: middle;\n",
       "    }\n",
       "\n",
       "    .dataframe tbody tr th {\n",
       "        vertical-align: top;\n",
       "    }\n",
       "\n",
       "    .dataframe thead th {\n",
       "        text-align: right;\n",
       "    }\n",
       "</style>\n",
       "<table border=\"1\" class=\"dataframe\">\n",
       "  <thead>\n",
       "    <tr style=\"text-align: right;\">\n",
       "      <th></th>\n",
       "      <th>0</th>\n",
       "      <th>1</th>\n",
       "      <th>2</th>\n",
       "      <th>3</th>\n",
       "      <th>4</th>\n",
       "      <th>5</th>\n",
       "      <th>6</th>\n",
       "    </tr>\n",
       "  </thead>\n",
       "  <tbody>\n",
       "    <tr>\n",
       "      <td>count</td>\n",
       "      <td>994.000000</td>\n",
       "      <td>994.000000</td>\n",
       "      <td>994.000000</td>\n",
       "      <td>994.000000</td>\n",
       "      <td>994.000000</td>\n",
       "      <td>994.000000</td>\n",
       "      <td>994.000000</td>\n",
       "    </tr>\n",
       "    <tr>\n",
       "      <td>mean</td>\n",
       "      <td>0.406754</td>\n",
       "      <td>0.411189</td>\n",
       "      <td>0.416882</td>\n",
       "      <td>0.211212</td>\n",
       "      <td>0.422778</td>\n",
       "      <td>0.419086</td>\n",
       "      <td>0.226347</td>\n",
       "    </tr>\n",
       "    <tr>\n",
       "      <td>std</td>\n",
       "      <td>0.083601</td>\n",
       "      <td>0.080846</td>\n",
       "      <td>0.075656</td>\n",
       "      <td>0.098537</td>\n",
       "      <td>0.050995</td>\n",
       "      <td>0.057508</td>\n",
       "      <td>0.081494</td>\n",
       "    </tr>\n",
       "    <tr>\n",
       "      <td>min</td>\n",
       "      <td>0.052470</td>\n",
       "      <td>0.044185</td>\n",
       "      <td>0.095172</td>\n",
       "      <td>0.000000</td>\n",
       "      <td>0.082045</td>\n",
       "      <td>0.135317</td>\n",
       "      <td>0.000000</td>\n",
       "    </tr>\n",
       "    <tr>\n",
       "      <td>25%</td>\n",
       "      <td>0.355770</td>\n",
       "      <td>0.361875</td>\n",
       "      <td>0.371220</td>\n",
       "      <td>0.145633</td>\n",
       "      <td>0.394632</td>\n",
       "      <td>0.389207</td>\n",
       "      <td>0.179835</td>\n",
       "    </tr>\n",
       "    <tr>\n",
       "      <td>50%</td>\n",
       "      <td>0.406271</td>\n",
       "      <td>0.412508</td>\n",
       "      <td>0.424963</td>\n",
       "      <td>0.184441</td>\n",
       "      <td>0.420554</td>\n",
       "      <td>0.423383</td>\n",
       "      <td>0.200083</td>\n",
       "    </tr>\n",
       "    <tr>\n",
       "      <td>75%</td>\n",
       "      <td>0.456992</td>\n",
       "      <td>0.459549</td>\n",
       "      <td>0.468125</td>\n",
       "      <td>0.247616</td>\n",
       "      <td>0.446981</td>\n",
       "      <td>0.453539</td>\n",
       "      <td>0.246813</td>\n",
       "    </tr>\n",
       "    <tr>\n",
       "      <td>max</td>\n",
       "      <td>0.686168</td>\n",
       "      <td>0.700569</td>\n",
       "      <td>0.617031</td>\n",
       "      <td>0.949385</td>\n",
       "      <td>0.966781</td>\n",
       "      <td>0.984776</td>\n",
       "      <td>0.675441</td>\n",
       "    </tr>\n",
       "  </tbody>\n",
       "</table>\n",
       "</div>"
      ],
      "text/plain": [
       "                0           1           2           3           4           5  \\\n",
       "count  994.000000  994.000000  994.000000  994.000000  994.000000  994.000000   \n",
       "mean     0.406754    0.411189    0.416882    0.211212    0.422778    0.419086   \n",
       "std      0.083601    0.080846    0.075656    0.098537    0.050995    0.057508   \n",
       "min      0.052470    0.044185    0.095172    0.000000    0.082045    0.135317   \n",
       "25%      0.355770    0.361875    0.371220    0.145633    0.394632    0.389207   \n",
       "50%      0.406271    0.412508    0.424963    0.184441    0.420554    0.423383   \n",
       "75%      0.456992    0.459549    0.468125    0.247616    0.446981    0.453539   \n",
       "max      0.686168    0.700569    0.617031    0.949385    0.966781    0.984776   \n",
       "\n",
       "                6  \n",
       "count  994.000000  \n",
       "mean     0.226347  \n",
       "std      0.081494  \n",
       "min      0.000000  \n",
       "25%      0.179835  \n",
       "50%      0.200083  \n",
       "75%      0.246813  \n",
       "max      0.675441  "
      ]
     },
     "execution_count": 31,
     "metadata": {},
     "output_type": "execute_result"
    }
   ],
   "source": [
    "X_train_norm.describe()"
   ]
  },
  {
   "cell_type": "code",
   "execution_count": 32,
   "metadata": {},
   "outputs": [],
   "source": [
    "from sklearn.neighbors import KNeighborsClassifier\n",
    "from sklearn.tree import DecisionTreeClassifier"
   ]
  },
  {
   "cell_type": "code",
   "execution_count": 33,
   "metadata": {},
   "outputs": [],
   "source": [
    "knn_10 = KNeighborsClassifier(n_neighbors=10)\n",
    "knn = KNeighborsClassifier(n_neighbors=5)\n",
    "dtc = DecisionTreeClassifier(criterion='gini', max_depth=3)"
   ]
  },
  {
   "cell_type": "code",
   "execution_count": 34,
   "metadata": {},
   "outputs": [],
   "source": [
    "X_train = X_train_norm\n",
    "X_test = X_test_norm"
   ]
  },
  {
   "cell_type": "code",
   "execution_count": 35,
   "metadata": {},
   "outputs": [],
   "source": [
    "knn.fit(X_train, y_train)\n",
    "score_train_knn = knn.score(X_train, y_train)\n",
    "score_test_knn = knn.score(X_test, y_test)\n",
    "\n",
    "\n",
    "\n",
    "knn_10.fit(X_train, y_train)\n",
    "score_train_knn_10 = knn_10.score(X_train, y_train)\n",
    "score_test_knn_10 = knn_10.score(X_test, y_test)"
   ]
  },
  {
   "cell_type": "code",
   "execution_count": 36,
   "metadata": {},
   "outputs": [
    {
     "name": "stdout",
     "output_type": "stream",
     "text": [
      "0.7927565392354124    training k = 5\n",
      "0.6755102040816326    test k = 5\n",
      "0.7756539235412475    training k = 10\n",
      "0.6938775510204082    test k = 10\n"
     ]
    }
   ],
   "source": [
    "print(score_train_knn, \"   training k = 5\")\n",
    "print(score_test_knn, \"   test k = 5\")\n",
    "\n",
    "\n",
    "print(score_train_knn_10, \"   training k = 10\")\n",
    "print(score_test_knn_10, \"   test k = 10\")"
   ]
  },
  {
   "cell_type": "code",
   "execution_count": 37,
   "metadata": {},
   "outputs": [],
   "source": [
    "from sklearn.preprocessing import KBinsDiscretizer\n",
    "def dtc_fitting(X_train, X_test, num_bins):\n",
    "    \"\"\"\n",
    "    Create bins then fit DTC\n",
    "    \"\"\"\n",
    "    \n",
    "    enc = KBinsDiscretizer(n_bins=num_bins, encode='ordinal')\n",
    "\n",
    "\n",
    "    X_binned = enc.fit_transform(X_train)\n",
    "    X_binned_test = enc.transform(X_test)\n",
    "\n",
    "    dtc.fit(X_binned, y_train)\n",
    "    score_dtc = dtc.score(X_binned, y_train)\n",
    "    score_test_dtc = dtc.score(X_binned_test, y_test)\n",
    "    return score_dtc, score_test_dtc"
   ]
  },
  {
   "cell_type": "code",
   "execution_count": 38,
   "metadata": {},
   "outputs": [
    {
     "name": "stdout",
     "output_type": "stream",
     "text": [
      "best score value for the training set is:  0.7263581488933601\n",
      "best score value for the test set is:  0.689795918367347\n"
     ]
    }
   ],
   "source": [
    "score_dtc, score_test_dtc = dtc_fitting(X_train, X_test, 9)\n",
    "print(\"best score value for the training set is: \", score_dtc)\n",
    "print(\"best score value for the test set is: \", score_test_dtc)"
   ]
  },
  {
   "cell_type": "code",
   "execution_count": 39,
   "metadata": {},
   "outputs": [],
   "source": [
    "def pair_interaction_featurize(X):\n",
    "    \"\"\"\n",
    "    Generate pair interaction features from a dataframe\n",
    "    \"\"\"\n",
    "    features_multiplied = pd.DataFrame()\n",
    "    for i in X:\n",
    "        for j in X:\n",
    "            if int(j) > int(i):\n",
    "                col1 = pd.Series(X[i])\n",
    "                col2 = pd.Series(X[j])\n",
    "                col1 = col1.mul(col2)\n",
    "                features_multiplied[int(str(i) + str(j))] = col1 \n",
    "    generated_features = pd.concat([features_multiplied, X], axis=1)\n",
    "    return features_multiplied\n",
    "\n",
    "         \n",
    "X_train_interaction_pair = pair_interaction_featurize(X_train)\n",
    "X_test_interaction_pair = pair_interaction_featurize(X_test)"
   ]
  },
  {
   "cell_type": "code",
   "execution_count": 40,
   "metadata": {},
   "outputs": [],
   "source": [
    "from sklearn.feature_selection import mutual_info_classif\n",
    "\n",
    "enc_mi = KBinsDiscretizer(n_bins = OPTIMAL_BIN_VALUE, encode = \"ordinal\")\n",
    "X_binned_mi = enc_mi.fit_transform(X_train_interaction_pair)\n",
    "X_binned_test_mi = enc_mi.fit_transform(X_test_interaction_pair)\n",
    "\n",
    "mutual_info_classifier = mutual_info_classif(X_binned_mi, y_train)\n",
    "\n",
    "entropy_with_index = sorted([(index, el) for index, el in zip(mutual_info_classifier, X_train_interaction_pair.columns)], key=lambda x: x[0], reverse=True)"
   ]
  },
  {
   "cell_type": "code",
   "execution_count": 41,
   "metadata": {},
   "outputs": [],
   "source": [
    "scores_train = []\n",
    "scores_test = []\n",
    "for i in range(1, len(entropy_with_index)):\n",
    "    columns = [i[1] for i in entropy_with_index[0:i]]\n",
    "    knn_10.fit(X_train_interaction_pair[columns], y_train)\n",
    "    score_train  = knn_10.score(X_train_interaction_pair[columns], y_train)\n",
    "    score_test  = knn_10.score(X_test_interaction_pair[columns], y_test)\n",
    "    scores_train.append(score_train)\n",
    "    scores_test.append(score_test)"
   ]
  },
  {
   "cell_type": "code",
   "execution_count": 42,
   "metadata": {},
   "outputs": [
    {
     "name": "stdout",
     "output_type": "stream",
     "text": [
      "0.7142857142857143 test score\n"
     ]
    },
    {
     "data": {
      "image/png": "[encoded data removed]",
      "text/plain": [
       "<Figure size 432x288 with 1 Axes>"
      ]
     },
     "metadata": {
      "needs_background": "light"
     },
     "output_type": "display_data"
    }
   ],
   "source": [
    "range_n = range(1, len(entropy_with_index))    \n",
    "op = plt.plot(range_n, scores_test)\n",
    "plt.setp(op,'marker', 'x')\n",
    "plt.xlabel(\"the nth first high entropy columns\")\n",
    "plt.xticks(range_n)\n",
    "plt.ylabel(\"Score\")\n",
    "print(max(scores_test), \"test score\")\n",
    "plt.show()"
   ]
  },
  {
   "cell_type": "code",
   "execution_count": 43,
   "metadata": {},
   "outputs": [],
   "source": [
    "def kmeans_interaction_featurize(X, X_binned):\n",
    "    kmeans = []\n",
    "    KMEANS_RANGE = 16\n",
    "    generated_features_kmeans = pd.DataFrame()\n",
    "    for i in range(2, KMEANS_RANGE):\n",
    "        kmeans.append(KMeans(n_clusters=i, random_state = 0).fit(X))\n",
    "        generated_features_kmeans[int(str(1) + str(i))] = kmeans[i-2].predict(X)\n",
    "    generated_features_kmeans = pd.concat([generated_features_kmeans, X_binned], axis=1)\n",
    "    return generated_features_kmeans"
   ]
  },
  {
   "cell_type": "code",
   "execution_count": 44,
   "metadata": {},
   "outputs": [],
   "source": [
    "from sklearn.cluster import KMeans\n",
    "X_binned_kmeans = enc_mi.fit_transform(X_train)\n",
    "X_binned_test_kmeans = enc_mi.fit_transform(X_test)"
   ]
  },
  {
   "cell_type": "code",
   "execution_count": 45,
   "metadata": {},
   "outputs": [],
   "source": [
    "enc_mi = KBinsDiscretizer(n_bins = OPTIMAL_BIN_VALUE, encode = \"ordinal\")\n",
    "X_binned_mi = pd.DataFrame(enc_mi.fit_transform(X_train))\n",
    "X_binned_test_mi = pd.DataFrame(enc_mi.fit_transform(X_test))"
   ]
  },
  {
   "cell_type": "code",
   "execution_count": 46,
   "metadata": {},
   "outputs": [],
   "source": [
    "X_train_kmeans = kmeans_interaction_featurize(X_train, X_binned_mi)\n",
    "X_test_kmeans = kmeans_interaction_featurize(X_test, X_binned_test_mi)"
   ]
  },
  {
   "cell_type": "code",
   "execution_count": 47,
   "metadata": {},
   "outputs": [
    {
     "data": {
      "text/plain": [
       "[(0.09147829900940185, 114),\n",
       " (0.08911601726359919, 115),\n",
       " (0.08795047818944846, 112),\n",
       " (0.0726095017529702, 110),\n",
       " (0.06745855781516186, 2),\n",
       " (0.06566997924889328, 17),\n",
       " (0.06211955740920261, 111),\n",
       " (0.060380780280446356, 113),\n",
       " (0.058830390141064504, 18),\n",
       " (0.04147411216344232, 4),\n",
       " (0.03859691325107928, 16),\n",
       " (0.03022645092854659, 19),\n",
       " (0.029400710053849366, 6),\n",
       " (0.02831805295485368, 15),\n",
       " (0.01595135614188692, 12),\n",
       " (0.013286933339639928, 5),\n",
       " (0.01094975552803601, 1),\n",
       " (0.009343603064364103, 0),\n",
       " (0.007641600809197735, 3),\n",
       " (0.0046348525316779465, 14),\n",
       " (0.0, 13)]"
      ]
     },
     "execution_count": 47,
     "metadata": {},
     "output_type": "execute_result"
    }
   ],
   "source": [
    "from sklearn.feature_selection import mutual_info_classif\n",
    "\n",
    "mutual_info_classifier = mutual_info_classif(X_train_kmeans, y_train)\n",
    "entropy_with_index = sorted([(index, el) for index, el in zip(mutual_info_classifier, X_train_kmeans.columns)], key=lambda x: x[0], reverse=True)\n",
    "\n",
    "entropy_with_index"
   ]
  },
  {
   "cell_type": "code",
   "execution_count": 48,
   "metadata": {},
   "outputs": [],
   "source": [
    "scores_train_kmeans = []\n",
    "scores_test_kmeans = []\n",
    "for i in range(1, len(entropy_with_index)):\n",
    "    columns = [i[1] for i in entropy_with_index[0:i]]\n",
    "    knn_10.fit(X_train_kmeans[columns], y_train)\n",
    "    score_train_kmeans  = knn_10.score(X_train_kmeans[columns], y_train)\n",
    "    score_test_kmeans  = knn_10.score(X_test_kmeans[columns], y_test)\n",
    "    scores_train_kmeans.append(score_train_kmeans)\n",
    "    scores_test_kmeans.append(score_test_kmeans)\n",
    "    "
   ]
  },
  {
   "cell_type": "code",
   "execution_count": 49,
   "metadata": {},
   "outputs": [
    {
     "name": "stdout",
     "output_type": "stream",
     "text": [
      "0.7122448979591837 test score\n"
     ]
    },
    {
     "data": {
      "image/png": "[encoded data removed]",
      "text/plain": [
       "<Figure size 432x288 with 1 Axes>"
      ]
     },
     "metadata": {
      "needs_background": "light"
     },
     "output_type": "display_data"
    }
   ],
   "source": [
    "import matplotlib.pyplot as plt\n",
    "range_n = range(1, len(entropy_with_index))    \n",
    "op = plt.plot(range_n, scores_test_kmeans)\n",
    "plt.setp(op,'marker', 'x')\n",
    "plt.xlabel(\"the nth first high entropy columns\")\n",
    "plt.xticks(range_n)\n",
    "plt.ylabel(\"Score\")\n",
    "print(max(scores_test_kmeans), \"test score\")\n",
    "plt.show()"
   ]
  },
  {
   "cell_type": "code",
   "execution_count": 50,
   "metadata": {},
   "outputs": [
    {
     "name": "stdout",
     "output_type": "stream",
     "text": [
      "0.6755102040816326  noraml knn 5\n",
      "0.6938775510204082  noraml knn 10\n",
      "0.7142857142857143  feature multiplied\n",
      "0.7122448979591837  feature kmeans\n"
     ]
    }
   ],
   "source": [
    "#test scores comparison\n",
    "print(score_test_knn, \" noraml knn 5\")\n",
    "print(score_test_knn_10, \" noraml knn 10\")\n",
    "print(max(scores_test), \" feature multiplied\")\n",
    "print(max(scores_test_kmeans), \" feature kmeans\")"
   ]
  },
  {
   "cell_type": "code",
   "execution_count": null,
   "metadata": {},
   "outputs": [],
   "source": []
  }
 ],
 "metadata": {
  "kernelspec": {
   "display_name": "Python 3",
   "language": "python",
   "name": "python3"
  },
  "language_info": {
   "codemirror_mode": {
    "name": "ipython",
    "version": 3
   },
   "file_extension": ".py",
   "mimetype": "text/x-python",
   "name": "python",
   "nbconvert_exporter": "python",
   "pygments_lexer": "ipython3",
   "version": "3.6.8"
  }
 },
 "nbformat": 4,
 "nbformat_minor": 2
}
