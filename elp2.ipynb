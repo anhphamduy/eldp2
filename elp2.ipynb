{
 "cells": [
  {
   "cell_type": "code",
   "execution_count": 1,
   "metadata": {},
   "outputs": [],
   "source": [
    "import pandas as pd\n",
    "from constants import *\n",
    "from helpers import normalise_number_data, normalise_word_data\n",
    "import numpy as np\n",
    "from sklearn import preprocessing"
   ]
  },
  {
   "cell_type": "code",
   "execution_count": 2,
   "metadata": {},
   "outputs": [],
   "source": [
    "google_products = pd.read_csv(GOOGLE_SMALL_PATH)\n",
    "amazon_products = pd.read_csv(AMAZON_SMALL_PATH)"
   ]
  },
  {
   "cell_type": "code",
   "execution_count": 3,
   "metadata": {},
   "outputs": [],
   "source": [
    "google_products['price'] = normalise_number_data(google_products['price'])\n",
    "amazon_products['price'] = normalise_number_data(amazon_products['price'])"
   ]
  },
  {
   "cell_type": "code",
   "execution_count": 4,
   "metadata": {},
   "outputs": [],
   "source": [
    "google_products[['name']]\n",
    "google_word_columns = ['name', 'description', 'manufacturer']\n",
    "amazon_word_columns = ['title', 'description', 'manufacturer']"
   ]
  },
  {
   "cell_type": "code",
   "execution_count": 5,
   "metadata": {},
   "outputs": [],
   "source": [
    "google_products[google_word_columns] = normalise_word_data(google_products[google_word_columns].astype(str))\n",
    "amazon_products[amazon_word_columns] = normalise_word_data(amazon_products[amazon_word_columns].astype(str))"
   ]
  },
  {
   "cell_type": "code",
   "execution_count": 6,
   "metadata": {},
   "outputs": [],
   "source": [
    "yeast_data = pd.read_csv(YEAST_PATH)"
   ]
  },
  {
   "cell_type": "code",
   "execution_count": 7,
   "metadata": {},
   "outputs": [],
   "source": [
    "yeast_data['Class'] = yeast_data.Class.replace(to_replace=yeast_data.Class.unique(), value=[0, 1])"
   ]
  },
  {
   "cell_type": "code",
   "execution_count": 8,
   "metadata": {},
   "outputs": [],
   "source": [
    "from sklearn.impute import SimpleImputer    "
   ]
  },
  {
   "cell_type": "code",
   "execution_count": 9,
   "metadata": {},
   "outputs": [],
   "source": [
    "mean_imputer = SimpleImputer(missing_values=np.nan, strategy='mean')\n",
    "median_imputer = SimpleImputer(missing_values=np.nan, strategy='median')"
   ]
  },
  {
   "cell_type": "code",
   "execution_count": null,
   "metadata": {},
   "outputs": [],
   "source": []
  },
  {
   "cell_type": "code",
   "execution_count": 10,
   "metadata": {},
   "outputs": [],
   "source": [
    "from sklearn.model_selection import train_test_split\n",
    "X_train, X_test, y_train, y_test = train_test_split(yeast_data.drop(['Class', 'Sample', 'pox'], axis=1), yeast_data['Class'], test_size=0.33)\n",
    "X_train_mean = pd.DataFrame(mean_imputer.fit_transform(X_train))\n",
    "X_train_median = pd.DataFrame(median_imputer.fit_transform(X_train))\n",
    "\n",
    "\n",
    "X_test_mean = pd.DataFrame(mean_imputer.fit_transform(X_test))\n",
    "X_test_median = pd.DataFrame(median_imputer.fit_transform(X_test))\n",
    "\n",
    "#Y = yeast_data['Class']"
   ]
  },
  {
   "cell_type": "code",
   "execution_count": 11,
   "metadata": {},
   "outputs": [
    {
     "data": {
      "text/html": [
       "<div>\n",
       "<style scoped>\n",
       "    .dataframe tbody tr th:only-of-type {\n",
       "        vertical-align: middle;\n",
       "    }\n",
       "\n",
       "    .dataframe tbody tr th {\n",
       "        vertical-align: top;\n",
       "    }\n",
       "\n",
       "    .dataframe thead th {\n",
       "        text-align: right;\n",
       "    }\n",
       "</style>\n",
       "<table border=\"1\" class=\"dataframe\">\n",
       "  <thead>\n",
       "    <tr style=\"text-align: right;\">\n",
       "      <th></th>\n",
       "      <th>0</th>\n",
       "      <th>1</th>\n",
       "      <th>2</th>\n",
       "      <th>3</th>\n",
       "      <th>4</th>\n",
       "      <th>5</th>\n",
       "      <th>6</th>\n",
       "    </tr>\n",
       "  </thead>\n",
       "  <tbody>\n",
       "    <tr>\n",
       "      <th>count</th>\n",
       "      <td>994.000000</td>\n",
       "      <td>994.000000</td>\n",
       "      <td>994.000000</td>\n",
       "      <td>994.000000</td>\n",
       "      <td>994.000000</td>\n",
       "      <td>994.000000</td>\n",
       "      <td>994.000000</td>\n",
       "    </tr>\n",
       "    <tr>\n",
       "      <th>mean</th>\n",
       "      <td>0.497558</td>\n",
       "      <td>0.501801</td>\n",
       "      <td>0.506640</td>\n",
       "      <td>0.264573</td>\n",
       "      <td>0.506751</td>\n",
       "      <td>0.505296</td>\n",
       "      <td>0.282668</td>\n",
       "    </tr>\n",
       "    <tr>\n",
       "      <th>std</th>\n",
       "      <td>0.132140</td>\n",
       "      <td>0.120146</td>\n",
       "      <td>0.237389</td>\n",
       "      <td>0.159379</td>\n",
       "      <td>0.103859</td>\n",
       "      <td>0.182649</td>\n",
       "      <td>0.170631</td>\n",
       "    </tr>\n",
       "    <tr>\n",
       "      <th>min</th>\n",
       "      <td>0.110000</td>\n",
       "      <td>0.140000</td>\n",
       "      <td>0.210000</td>\n",
       "      <td>0.000000</td>\n",
       "      <td>0.500000</td>\n",
       "      <td>0.130000</td>\n",
       "      <td>0.010000</td>\n",
       "    </tr>\n",
       "    <tr>\n",
       "      <th>25%</th>\n",
       "      <td>0.410000</td>\n",
       "      <td>0.430000</td>\n",
       "      <td>0.460000</td>\n",
       "      <td>0.170000</td>\n",
       "      <td>0.500000</td>\n",
       "      <td>0.480000</td>\n",
       "      <td>0.220000</td>\n",
       "    </tr>\n",
       "    <tr>\n",
       "      <th>50%</th>\n",
       "      <td>0.497558</td>\n",
       "      <td>0.500000</td>\n",
       "      <td>0.506640</td>\n",
       "      <td>0.230000</td>\n",
       "      <td>0.500000</td>\n",
       "      <td>0.510000</td>\n",
       "      <td>0.220000</td>\n",
       "    </tr>\n",
       "    <tr>\n",
       "      <th>75%</th>\n",
       "      <td>0.570000</td>\n",
       "      <td>0.570000</td>\n",
       "      <td>0.550000</td>\n",
       "      <td>0.300000</td>\n",
       "      <td>0.500000</td>\n",
       "      <td>0.530000</td>\n",
       "      <td>0.300000</td>\n",
       "    </tr>\n",
       "    <tr>\n",
       "      <th>max</th>\n",
       "      <td>0.940000</td>\n",
       "      <td>0.940000</td>\n",
       "      <td>7.501819</td>\n",
       "      <td>3.000728</td>\n",
       "      <td>3.500849</td>\n",
       "      <td>6.001456</td>\n",
       "      <td>4.501092</td>\n",
       "    </tr>\n",
       "  </tbody>\n",
       "</table>\n",
       "</div>"
      ],
      "text/plain": [
       "                0           1           2           3           4           5  \\\n",
       "count  994.000000  994.000000  994.000000  994.000000  994.000000  994.000000   \n",
       "mean     0.497558    0.501801    0.506640    0.264573    0.506751    0.505296   \n",
       "std      0.132140    0.120146    0.237389    0.159379    0.103859    0.182649   \n",
       "min      0.110000    0.140000    0.210000    0.000000    0.500000    0.130000   \n",
       "25%      0.410000    0.430000    0.460000    0.170000    0.500000    0.480000   \n",
       "50%      0.497558    0.500000    0.506640    0.230000    0.500000    0.510000   \n",
       "75%      0.570000    0.570000    0.550000    0.300000    0.500000    0.530000   \n",
       "max      0.940000    0.940000    7.501819    3.000728    3.500849    6.001456   \n",
       "\n",
       "                6  \n",
       "count  994.000000  \n",
       "mean     0.282668  \n",
       "std      0.170631  \n",
       "min      0.010000  \n",
       "25%      0.220000  \n",
       "50%      0.220000  \n",
       "75%      0.300000  \n",
       "max      4.501092  "
      ]
     },
     "execution_count": 11,
     "metadata": {},
     "output_type": "execute_result"
    }
   ],
   "source": [
    "X_train_mean.describe()"
   ]
  },
  {
   "cell_type": "code",
   "execution_count": 12,
   "metadata": {},
   "outputs": [
    {
     "data": {
      "text/html": [
       "<div>\n",
       "<style scoped>\n",
       "    .dataframe tbody tr th:only-of-type {\n",
       "        vertical-align: middle;\n",
       "    }\n",
       "\n",
       "    .dataframe tbody tr th {\n",
       "        vertical-align: top;\n",
       "    }\n",
       "\n",
       "    .dataframe thead th {\n",
       "        text-align: right;\n",
       "    }\n",
       "</style>\n",
       "<table border=\"1\" class=\"dataframe\">\n",
       "  <thead>\n",
       "    <tr style=\"text-align: right;\">\n",
       "      <th></th>\n",
       "      <th>0</th>\n",
       "      <th>1</th>\n",
       "      <th>2</th>\n",
       "      <th>3</th>\n",
       "      <th>4</th>\n",
       "      <th>5</th>\n",
       "      <th>6</th>\n",
       "    </tr>\n",
       "  </thead>\n",
       "  <tbody>\n",
       "    <tr>\n",
       "      <th>count</th>\n",
       "      <td>994.000000</td>\n",
       "      <td>994.000000</td>\n",
       "      <td>994.000000</td>\n",
       "      <td>994.000000</td>\n",
       "      <td>994.000000</td>\n",
       "      <td>994.000000</td>\n",
       "      <td>994.000000</td>\n",
       "    </tr>\n",
       "    <tr>\n",
       "      <th>mean</th>\n",
       "      <td>0.496127</td>\n",
       "      <td>0.501751</td>\n",
       "      <td>0.506903</td>\n",
       "      <td>0.260896</td>\n",
       "      <td>0.506540</td>\n",
       "      <td>0.505585</td>\n",
       "      <td>0.279579</td>\n",
       "    </tr>\n",
       "    <tr>\n",
       "      <th>std</th>\n",
       "      <td>0.132227</td>\n",
       "      <td>0.120147</td>\n",
       "      <td>0.237390</td>\n",
       "      <td>0.159850</td>\n",
       "      <td>0.103866</td>\n",
       "      <td>0.182652</td>\n",
       "      <td>0.171170</td>\n",
       "    </tr>\n",
       "    <tr>\n",
       "      <th>min</th>\n",
       "      <td>0.110000</td>\n",
       "      <td>0.140000</td>\n",
       "      <td>0.210000</td>\n",
       "      <td>0.000000</td>\n",
       "      <td>0.500000</td>\n",
       "      <td>0.130000</td>\n",
       "      <td>0.010000</td>\n",
       "    </tr>\n",
       "    <tr>\n",
       "      <th>25%</th>\n",
       "      <td>0.410000</td>\n",
       "      <td>0.430000</td>\n",
       "      <td>0.460000</td>\n",
       "      <td>0.170000</td>\n",
       "      <td>0.500000</td>\n",
       "      <td>0.480000</td>\n",
       "      <td>0.220000</td>\n",
       "    </tr>\n",
       "    <tr>\n",
       "      <th>50%</th>\n",
       "      <td>0.480000</td>\n",
       "      <td>0.500000</td>\n",
       "      <td>0.510000</td>\n",
       "      <td>0.220000</td>\n",
       "      <td>0.500000</td>\n",
       "      <td>0.510000</td>\n",
       "      <td>0.220000</td>\n",
       "    </tr>\n",
       "    <tr>\n",
       "      <th>75%</th>\n",
       "      <td>0.570000</td>\n",
       "      <td>0.570000</td>\n",
       "      <td>0.550000</td>\n",
       "      <td>0.300000</td>\n",
       "      <td>0.500000</td>\n",
       "      <td>0.530000</td>\n",
       "      <td>0.300000</td>\n",
       "    </tr>\n",
       "    <tr>\n",
       "      <th>max</th>\n",
       "      <td>0.940000</td>\n",
       "      <td>0.940000</td>\n",
       "      <td>7.501819</td>\n",
       "      <td>3.000728</td>\n",
       "      <td>3.500849</td>\n",
       "      <td>6.001456</td>\n",
       "      <td>4.501092</td>\n",
       "    </tr>\n",
       "  </tbody>\n",
       "</table>\n",
       "</div>"
      ],
      "text/plain": [
       "                0           1           2           3           4           5  \\\n",
       "count  994.000000  994.000000  994.000000  994.000000  994.000000  994.000000   \n",
       "mean     0.496127    0.501751    0.506903    0.260896    0.506540    0.505585   \n",
       "std      0.132227    0.120147    0.237390    0.159850    0.103866    0.182652   \n",
       "min      0.110000    0.140000    0.210000    0.000000    0.500000    0.130000   \n",
       "25%      0.410000    0.430000    0.460000    0.170000    0.500000    0.480000   \n",
       "50%      0.480000    0.500000    0.510000    0.220000    0.500000    0.510000   \n",
       "75%      0.570000    0.570000    0.550000    0.300000    0.500000    0.530000   \n",
       "max      0.940000    0.940000    7.501819    3.000728    3.500849    6.001456   \n",
       "\n",
       "                6  \n",
       "count  994.000000  \n",
       "mean     0.279579  \n",
       "std      0.171170  \n",
       "min      0.010000  \n",
       "25%      0.220000  \n",
       "50%      0.220000  \n",
       "75%      0.300000  \n",
       "max      4.501092  "
      ]
     },
     "execution_count": 12,
     "metadata": {},
     "output_type": "execute_result"
    }
   ],
   "source": [
    "X_train_median.describe()"
   ]
  },
  {
   "cell_type": "code",
   "execution_count": 13,
   "metadata": {},
   "outputs": [],
   "source": [
    "from sklearn.preprocessing import StandardScaler, normalize\n",
    "stdscl = StandardScaler(with_mean=True, with_std=True)"
   ]
  },
  {
   "cell_type": "code",
   "execution_count": 14,
   "metadata": {},
   "outputs": [],
   "source": [
    "X_train_std = pd.DataFrame(stdscl.fit_transform(X_train_median))\n",
    "X_train_norm = pd.DataFrame(normalize(X_train_median))\n",
    "\n",
    "X_test_std = pd.DataFrame(stdscl.fit_transform(X_test_median))\n",
    "X_test_norm = pd.DataFrame(normalize(X_test_median))"
   ]
  },
  {
   "cell_type": "code",
   "execution_count": 15,
   "metadata": {},
   "outputs": [
    {
     "data": {
      "text/html": [
       "<div>\n",
       "<style scoped>\n",
       "    .dataframe tbody tr th:only-of-type {\n",
       "        vertical-align: middle;\n",
       "    }\n",
       "\n",
       "    .dataframe tbody tr th {\n",
       "        vertical-align: top;\n",
       "    }\n",
       "\n",
       "    .dataframe thead th {\n",
       "        text-align: right;\n",
       "    }\n",
       "</style>\n",
       "<table border=\"1\" class=\"dataframe\">\n",
       "  <thead>\n",
       "    <tr style=\"text-align: right;\">\n",
       "      <th></th>\n",
       "      <th>0</th>\n",
       "      <th>1</th>\n",
       "      <th>2</th>\n",
       "      <th>3</th>\n",
       "      <th>4</th>\n",
       "      <th>5</th>\n",
       "      <th>6</th>\n",
       "    </tr>\n",
       "  </thead>\n",
       "  <tbody>\n",
       "    <tr>\n",
       "      <th>count</th>\n",
       "      <td>9.940000e+02</td>\n",
       "      <td>9.940000e+02</td>\n",
       "      <td>9.940000e+02</td>\n",
       "      <td>9.940000e+02</td>\n",
       "      <td>9.940000e+02</td>\n",
       "      <td>9.940000e+02</td>\n",
       "      <td>9.940000e+02</td>\n",
       "    </tr>\n",
       "    <tr>\n",
       "      <th>mean</th>\n",
       "      <td>3.574159e-16</td>\n",
       "      <td>1.072248e-16</td>\n",
       "      <td>2.627007e-16</td>\n",
       "      <td>-4.288990e-17</td>\n",
       "      <td>-1.715596e-16</td>\n",
       "      <td>-4.306861e-16</td>\n",
       "      <td>1.831756e-17</td>\n",
       "    </tr>\n",
       "    <tr>\n",
       "      <th>std</th>\n",
       "      <td>1.000503e+00</td>\n",
       "      <td>1.000503e+00</td>\n",
       "      <td>1.000503e+00</td>\n",
       "      <td>1.000503e+00</td>\n",
       "      <td>1.000503e+00</td>\n",
       "      <td>1.000503e+00</td>\n",
       "      <td>1.000503e+00</td>\n",
       "    </tr>\n",
       "    <tr>\n",
       "      <th>min</th>\n",
       "      <td>-2.921651e+00</td>\n",
       "      <td>-3.012425e+00</td>\n",
       "      <td>-1.251326e+00</td>\n",
       "      <td>-1.632948e+00</td>\n",
       "      <td>-6.299845e-02</td>\n",
       "      <td>-2.057320e+00</td>\n",
       "      <td>-1.575711e+00</td>\n",
       "    </tr>\n",
       "    <tr>\n",
       "      <th>25%</th>\n",
       "      <td>-6.516833e-01</td>\n",
       "      <td>-5.974920e-01</td>\n",
       "      <td>-1.976780e-01</td>\n",
       "      <td>-5.689185e-01</td>\n",
       "      <td>-6.299845e-02</td>\n",
       "      <td>-1.401453e-01</td>\n",
       "      <td>-3.482421e-01</td>\n",
       "    </tr>\n",
       "    <tr>\n",
       "      <th>50%</th>\n",
       "      <td>-1.220241e-01</td>\n",
       "      <td>-1.457706e-02</td>\n",
       "      <td>1.305158e-02</td>\n",
       "      <td>-2.559686e-01</td>\n",
       "      <td>-6.299845e-02</td>\n",
       "      <td>2.418397e-02</td>\n",
       "      <td>-3.482421e-01</td>\n",
       "    </tr>\n",
       "    <tr>\n",
       "      <th>75%</th>\n",
       "      <td>5.589663e-01</td>\n",
       "      <td>5.683379e-01</td>\n",
       "      <td>1.816352e-01</td>\n",
       "      <td>2.447512e-01</td>\n",
       "      <td>-6.299845e-02</td>\n",
       "      <td>1.337368e-01</td>\n",
       "      <td>1.193651e-01</td>\n",
       "    </tr>\n",
       "    <tr>\n",
       "      <th>max</th>\n",
       "      <td>3.358593e+00</td>\n",
       "      <td>3.649460e+00</td>\n",
       "      <td>2.948071e+01</td>\n",
       "      <td>1.714860e+01</td>\n",
       "      <td>2.884316e+01</td>\n",
       "      <td>3.010441e+01</td>\n",
       "      <td>2.467512e+01</td>\n",
       "    </tr>\n",
       "  </tbody>\n",
       "</table>\n",
       "</div>"
      ],
      "text/plain": [
       "                  0             1             2             3             4  \\\n",
       "count  9.940000e+02  9.940000e+02  9.940000e+02  9.940000e+02  9.940000e+02   \n",
       "mean   3.574159e-16  1.072248e-16  2.627007e-16 -4.288990e-17 -1.715596e-16   \n",
       "std    1.000503e+00  1.000503e+00  1.000503e+00  1.000503e+00  1.000503e+00   \n",
       "min   -2.921651e+00 -3.012425e+00 -1.251326e+00 -1.632948e+00 -6.299845e-02   \n",
       "25%   -6.516833e-01 -5.974920e-01 -1.976780e-01 -5.689185e-01 -6.299845e-02   \n",
       "50%   -1.220241e-01 -1.457706e-02  1.305158e-02 -2.559686e-01 -6.299845e-02   \n",
       "75%    5.589663e-01  5.683379e-01  1.816352e-01  2.447512e-01 -6.299845e-02   \n",
       "max    3.358593e+00  3.649460e+00  2.948071e+01  1.714860e+01  2.884316e+01   \n",
       "\n",
       "                  5             6  \n",
       "count  9.940000e+02  9.940000e+02  \n",
       "mean  -4.306861e-16  1.831756e-17  \n",
       "std    1.000503e+00  1.000503e+00  \n",
       "min   -2.057320e+00 -1.575711e+00  \n",
       "25%   -1.401453e-01 -3.482421e-01  \n",
       "50%    2.418397e-02 -3.482421e-01  \n",
       "75%    1.337368e-01  1.193651e-01  \n",
       "max    3.010441e+01  2.467512e+01  "
      ]
     },
     "execution_count": 15,
     "metadata": {},
     "output_type": "execute_result"
    }
   ],
   "source": [
    "X_train_std.describe()"
   ]
  },
  {
   "cell_type": "code",
   "execution_count": 16,
   "metadata": {},
   "outputs": [
    {
     "data": {
      "text/html": [
       "<div>\n",
       "<style scoped>\n",
       "    .dataframe tbody tr th:only-of-type {\n",
       "        vertical-align: middle;\n",
       "    }\n",
       "\n",
       "    .dataframe tbody tr th {\n",
       "        vertical-align: top;\n",
       "    }\n",
       "\n",
       "    .dataframe thead th {\n",
       "        text-align: right;\n",
       "    }\n",
       "</style>\n",
       "<table border=\"1\" class=\"dataframe\">\n",
       "  <thead>\n",
       "    <tr style=\"text-align: right;\">\n",
       "      <th></th>\n",
       "      <th>0</th>\n",
       "      <th>1</th>\n",
       "      <th>2</th>\n",
       "      <th>3</th>\n",
       "      <th>4</th>\n",
       "      <th>5</th>\n",
       "      <th>6</th>\n",
       "    </tr>\n",
       "  </thead>\n",
       "  <tbody>\n",
       "    <tr>\n",
       "      <th>count</th>\n",
       "      <td>994.000000</td>\n",
       "      <td>994.000000</td>\n",
       "      <td>994.000000</td>\n",
       "      <td>994.000000</td>\n",
       "      <td>994.000000</td>\n",
       "      <td>994.000000</td>\n",
       "      <td>994.000000</td>\n",
       "    </tr>\n",
       "    <tr>\n",
       "      <th>mean</th>\n",
       "      <td>0.406409</td>\n",
       "      <td>0.412393</td>\n",
       "      <td>0.416543</td>\n",
       "      <td>0.211238</td>\n",
       "      <td>0.419828</td>\n",
       "      <td>0.417001</td>\n",
       "      <td>0.228968</td>\n",
       "    </tr>\n",
       "    <tr>\n",
       "      <th>std</th>\n",
       "      <td>0.085816</td>\n",
       "      <td>0.081304</td>\n",
       "      <td>0.079611</td>\n",
       "      <td>0.100550</td>\n",
       "      <td>0.050607</td>\n",
       "      <td>0.059817</td>\n",
       "      <td>0.086859</td>\n",
       "    </tr>\n",
       "    <tr>\n",
       "      <th>min</th>\n",
       "      <td>0.052470</td>\n",
       "      <td>0.044185</td>\n",
       "      <td>0.095172</td>\n",
       "      <td>0.000000</td>\n",
       "      <td>0.066121</td>\n",
       "      <td>0.046285</td>\n",
       "      <td>0.006944</td>\n",
       "    </tr>\n",
       "    <tr>\n",
       "      <th>25%</th>\n",
       "      <td>0.351705</td>\n",
       "      <td>0.364275</td>\n",
       "      <td>0.369408</td>\n",
       "      <td>0.143810</td>\n",
       "      <td>0.394490</td>\n",
       "      <td>0.388574</td>\n",
       "      <td>0.180595</td>\n",
       "    </tr>\n",
       "    <tr>\n",
       "      <th>50%</th>\n",
       "      <td>0.406577</td>\n",
       "      <td>0.416478</td>\n",
       "      <td>0.424784</td>\n",
       "      <td>0.186430</td>\n",
       "      <td>0.420176</td>\n",
       "      <td>0.422068</td>\n",
       "      <td>0.200161</td>\n",
       "    </tr>\n",
       "    <tr>\n",
       "      <th>75%</th>\n",
       "      <td>0.459825</td>\n",
       "      <td>0.461760</td>\n",
       "      <td>0.466840</td>\n",
       "      <td>0.252348</td>\n",
       "      <td>0.445365</td>\n",
       "      <td>0.451369</td>\n",
       "      <td>0.252540</td>\n",
       "    </tr>\n",
       "    <tr>\n",
       "      <th>max</th>\n",
       "      <td>0.647807</td>\n",
       "      <td>0.696144</td>\n",
       "      <td>0.992055</td>\n",
       "      <td>0.949385</td>\n",
       "      <td>0.966781</td>\n",
       "      <td>0.984776</td>\n",
       "      <td>0.971999</td>\n",
       "    </tr>\n",
       "  </tbody>\n",
       "</table>\n",
       "</div>"
      ],
      "text/plain": [
       "                0           1           2           3           4           5  \\\n",
       "count  994.000000  994.000000  994.000000  994.000000  994.000000  994.000000   \n",
       "mean     0.406409    0.412393    0.416543    0.211238    0.419828    0.417001   \n",
       "std      0.085816    0.081304    0.079611    0.100550    0.050607    0.059817   \n",
       "min      0.052470    0.044185    0.095172    0.000000    0.066121    0.046285   \n",
       "25%      0.351705    0.364275    0.369408    0.143810    0.394490    0.388574   \n",
       "50%      0.406577    0.416478    0.424784    0.186430    0.420176    0.422068   \n",
       "75%      0.459825    0.461760    0.466840    0.252348    0.445365    0.451369   \n",
       "max      0.647807    0.696144    0.992055    0.949385    0.966781    0.984776   \n",
       "\n",
       "                6  \n",
       "count  994.000000  \n",
       "mean     0.228968  \n",
       "std      0.086859  \n",
       "min      0.006944  \n",
       "25%      0.180595  \n",
       "50%      0.200161  \n",
       "75%      0.252540  \n",
       "max      0.971999  "
      ]
     },
     "execution_count": 16,
     "metadata": {},
     "output_type": "execute_result"
    }
   ],
   "source": [
    "X_train_norm.describe()"
   ]
  },
  {
   "cell_type": "code",
   "execution_count": 17,
   "metadata": {},
   "outputs": [],
   "source": [
    "from sklearn.neighbors import KNeighborsClassifier\n",
    "from sklearn.tree import DecisionTreeClassifier"
   ]
  },
  {
   "cell_type": "code",
   "execution_count": 18,
   "metadata": {},
   "outputs": [],
   "source": [
    "knn_10 = KNeighborsClassifier(n_neighbors=10)\n",
    "knn = KNeighborsClassifier(n_neighbors=5)\n",
    "dtc = DecisionTreeClassifier()"
   ]
  },
  {
   "cell_type": "code",
   "execution_count": 19,
   "metadata": {},
   "outputs": [],
   "source": [
    "X_train = X_train_norm\n",
    "X_test = X_test_norm"
   ]
  },
  {
   "cell_type": "code",
   "execution_count": 20,
   "metadata": {},
   "outputs": [],
   "source": [
    "knn.fit(X_train, y_train)\n",
    "y_pred_knn = knn.predict(X_train)\n",
    "y_pred_knn_test = knn.predict(X_test)\n",
    "\n",
    "knn_10.fit(X_train, y_train)\n",
    "y_pred_knn_10 = knn_10.predict(X_train)\n",
    "y_pred_knn_10_test = knn_10.predict(X_test)"
   ]
  },
  {
   "cell_type": "code",
   "execution_count": 21,
   "metadata": {},
   "outputs": [],
   "source": [
    "from sklearn.metrics import precision_score\n",
    "score_train_knn = precision_score(y_train, y_pred_knn)\n",
    "score_test_knn = precision_score(y_test, y_pred_knn_test)"
   ]
  },
  {
   "cell_type": "code",
   "execution_count": 22,
   "metadata": {},
   "outputs": [],
   "source": [
    "score_train_knn_10 = precision_score(y_train, y_pred_knn_10)\n",
    "score_test_knn_10 = precision_score(y_test, y_pred_knn_10_test)"
   ]
  },
  {
   "cell_type": "code",
   "execution_count": 23,
   "metadata": {},
   "outputs": [
    {
     "name": "stdout",
     "output_type": "stream",
     "text": [
      "0.679324894514768\n",
      "0.5034013605442177\n",
      "0.7100591715976331\n",
      "0.5108695652173914\n"
     ]
    }
   ],
   "source": [
    "print(score_train_knn)\n",
    "print(score_test_knn)\n",
    "\n",
    "print(score_train_knn_10)\n",
    "print(score_test_knn_10)"
   ]
  },
  {
   "cell_type": "code",
   "execution_count": 24,
   "metadata": {},
   "outputs": [],
   "source": [
    "from sklearn.preprocessing import KBinsDiscretizer\n",
    "enc = KBinsDiscretizer(n_bins=5, encode='onehot')\n",
    "\n",
    "\n",
    "X_binned = enc.fit_transform(X_train)\n",
    "X_binned_test = enc.fit_transform(X_test)"
   ]
  },
  {
   "cell_type": "code",
   "execution_count": 25,
   "metadata": {},
   "outputs": [],
   "source": [
    "dtc.fit(X_binned, y_train)\n",
    "\n",
    "Y_pred_dtc = dtc.predict(X_binned)\n",
    "Y_pred_test_dtc = dtc.predict(X_binned_test)"
   ]
  },
  {
   "cell_type": "code",
   "execution_count": 26,
   "metadata": {},
   "outputs": [],
   "source": [
    "score_dtc = precision_score(Y_pred_dtc, y_train)\n",
    "score_test_dtc = precision_score(Y_pred_test_dtc, y_test)"
   ]
  },
  {
   "cell_type": "code",
   "execution_count": 27,
   "metadata": {},
   "outputs": [
    {
     "name": "stdout",
     "output_type": "stream",
     "text": [
      "0.9419795221843004\n",
      "0.4176470588235294\n"
     ]
    }
   ],
   "source": [
    "print(score_dtc)\n",
    "print(score_test_dtc)"
   ]
  },
  {
   "cell_type": "code",
   "execution_count": 28,
   "metadata": {},
   "outputs": [],
   "source": [
    "def pair_interaction_featurize(X):\n",
    "    features_multiplied = pd.DataFrame()\n",
    "    for i in X:\n",
    "        for j in X:\n",
    "            if int(j) > int(i):\n",
    "                col1 = pd.Series(X[i])\n",
    "                col2 = pd.Series(X[j])\n",
    "                col1 = col1.mul(col2)\n",
    "                features_multiplied[int(str(i) + str(j))] = col1 \n",
    "    generated_features = pd.concat([features_multiplied, X], axis=1)\n",
    "    return features_multiplied\n",
    "\n",
    "         \n",
    "X_train_interaction_pair = pair_interaction_featurize(X_train)\n",
    "X_test_intraction_pair = pair_interaction_featurize(X_test)\n",
    "\n",
    "\n",
    "# X_norm = X_norm.sample(frac=1).reset_index(drop=True)\n",
    "# X_train_with_labels_new_features = features_multiplied[0:1000]\n",
    "# X_train = X_train_with_labels.drop(['label', 6, 0], axis=1)\n",
    "\n"
   ]
  },
  {
   "cell_type": "code",
   "execution_count": null,
   "metadata": {},
   "outputs": [],
   "source": []
  },
  {
   "cell_type": "code",
   "execution_count": 29,
   "metadata": {},
   "outputs": [
    {
     "name": "stdout",
     "output_type": "stream",
     "text": [
      "22.968843716036808\n"
     ]
    }
   ],
   "source": [
    "from sklearn.cluster import KMeans\n",
    "kmeans = KMeans(n_clusters=5, random_state = 0).fit(X_train)\n",
    "Y_pred_kmeans = kmeans.predict(X_train)\n",
    "kmeans.score(X_train)\n",
    "print(kmeans.inertia_)\n",
    "#score_kmeans = precision_score(Y_pred_kmeans, y_train)\n",
    "# score_kmeans\n",
    "# Y_pred_kmeans\n"
   ]
  },
  {
   "cell_type": "code",
   "execution_count": 36,
   "metadata": {},
   "outputs": [
    {
     "data": {
      "text/plain": [
       "[(0.020094584424129824, 26),\n",
       " (0.012134092246540693, 35),\n",
       " (0.003954719458216301, 56),\n",
       " (0.0032933706281843694, 34),\n",
       " (0.0023815413489344725, 45),\n",
       " (0.0023815413489344725, 46),\n",
       " (0.002112509971280846, 14),\n",
       " (0.0017601532726104277, 36),\n",
       " (0.0014421197328533114, 16),\n",
       " (0.0012403575593682992, 25),\n",
       " (0.0010243048172150632, 6),\n",
       " (0.000816986854942893, 23),\n",
       " (0.0006759780812583688, 1),\n",
       " (0.0004791396849720825, 5),\n",
       " (0.0002488909789969268, 12),\n",
       " (0.0002424888677426129, 13),\n",
       " (0.0002424888677426129, 24),\n",
       " (9.249695748331233e-05, 3),\n",
       " (9.249695748331233e-05, 4),\n",
       " (1.1618008260300128e-05, 2),\n",
       " (1.1618008260300128e-05, 15)]"
      ]
     },
     "execution_count": 36,
     "metadata": {},
     "output_type": "execute_result"
    }
   ],
   "source": [
    "from sklearn.feature_selection import mutual_info_classif\n",
    "\n",
    "enc_mi = KBinsDiscretizer(n_bins=15, encode='onehot')\n",
    "X_binned_mi = enc_mi.fit_transform(X_train_interaction_pair)\n",
    "X_binned_test_mi = enc_mi.fit_transform(X_test_intraction_pair)\n",
    "\n",
    "mutual_info_classifier = mutual_info_classif(X_binned_mi, y_train)\n",
    "\n",
    "\n",
    "entropy_with_index = sorted([(index, el) for index, el in zip(mutual_info_classifier, X_train_interaction_pair.columns)], key=lambda x: x[0], reverse=True)\n",
    "entropy_with_index\n"
   ]
  },
  {
   "cell_type": "code",
   "execution_count": 37,
   "metadata": {},
   "outputs": [
    {
     "data": {
      "image/png": "[encoded data removed]",
      "text/plain": [
       "<Figure size 432x288 with 1 Axes>"
      ]
     },
     "metadata": {
      "needs_background": "light"
     },
     "output_type": "display_data"
    },
    {
     "data": {
      "text/plain": [
       "0.31176470588235294"
      ]
     },
     "execution_count": 37,
     "metadata": {},
     "output_type": "execute_result"
    }
   ],
   "source": [
    "# knn_10.fit(generated_features, Y_train)\n",
    "# y_pred_knn_10 = knn_10.predict(X_train)\n",
    "# y_pred_knn_10_test = knn_10.predict(X_test)\n",
    "scores = []\n",
    "for i in range(1, len(entropy_with_index)):\n",
    "    columns = [i[1] for i in entropy_with_index[0:i]]\n",
    "    knn_10.fit(X_train_interaction_pair[columns], y_train)\n",
    "    y_pred = knn_10.predict(X_test_intraction_pair[columns])\n",
    "    score = precision_score(y_pred, y_test)\n",
    "    scores.append(score)\n",
    "import matplotlib.pyplot as plt\n",
    "    \n",
    "range_n = range(1, len(entropy_with_index))    \n",
    "op = plt.plot(range_n, scores)\n",
    "plt.setp(op,'marker', 'x')\n",
    "plt.xlabel(\"Value for n\")\n",
    "plt.xticks(range_n)\n",
    "plt.ylabel(\"Score\")\n",
    "plt.show()\n",
    "max(scores)"
   ]
  },
  {
   "cell_type": "code",
   "execution_count": 38,
   "metadata": {},
   "outputs": [
    {
     "data": {
      "text/plain": [
       "0.5108695652173914"
      ]
     },
     "execution_count": 38,
     "metadata": {},
     "output_type": "execute_result"
    }
   ],
   "source": [
    "score_test_knn_10"
   ]
  },
  {
   "cell_type": "code",
   "execution_count": 33,
   "metadata": {},
   "outputs": [
    {
     "data": {
      "text/plain": [
       "[0.06470588235294118,\n",
       " 0.07058823529411765,\n",
       " 0.25882352941176473,\n",
       " 0.22941176470588234,\n",
       " 0.2411764705882353,\n",
       " 0.25882352941176473,\n",
       " 0.27647058823529413,\n",
       " 0.25882352941176473,\n",
       " 0.27058823529411763,\n",
       " 0.27058823529411763,\n",
       " 0.28823529411764703,\n",
       " 0.3058823529411765,\n",
       " 0.3,\n",
       " 0.29411764705882354,\n",
       " 0.2823529411764706,\n",
       " 0.3,\n",
       " 0.2647058823529412,\n",
       " 0.28823529411764703,\n",
       " 0.3058823529411765,\n",
       " 0.27647058823529413]"
      ]
     },
     "execution_count": 33,
     "metadata": {},
     "output_type": "execute_result"
    }
   ],
   "source": [
    "scores"
   ]
  },
  {
   "cell_type": "code",
   "execution_count": null,
   "metadata": {},
   "outputs": [],
   "source": []
  }
 ],
 "metadata": {
  "kernelspec": {
   "display_name": "Python 3",
   "language": "python",
   "name": "python3"
  },
  "language_info": {
   "codemirror_mode": {
    "name": "ipython",
    "version": 3
   },
   "file_extension": ".py",
   "mimetype": "text/x-python",
   "name": "python",
   "nbconvert_exporter": "python",
   "pygments_lexer": "ipython3",
   "version": "3.7.3"
  }
 },
 "nbformat": 4,
 "nbformat_minor": 2
}
