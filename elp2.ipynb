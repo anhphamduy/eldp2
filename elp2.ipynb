{
 "cells": [
  {
   "cell_type": "code",
<<<<<<< HEAD
   "execution_count": 1,
=======
   "execution_count": 21,
>>>>>>> 802d7cb5ee1de74ea5eab8b1b22a174e132805b1
   "metadata": {},
   "outputs": [],
   "source": [
    "import pandas as pd\n",
    "import numpy as np\n",
    "from sklearn import preprocessing\n",
    "import matplotlib.pyplot as plt\n",
    "import seaborn\n",
    "from sklearn.impute import SimpleImputer    \n",
    "from sklearn.preprocessing import StandardScaler, normalize\n",
    "from IPython.display import display\n",
    "import os\n"
   ]
  },
  {
   "cell_type": "code",
<<<<<<< HEAD
   "execution_count": 2,
=======
   "execution_count": 22,
>>>>>>> 802d7cb5ee1de74ea5eab8b1b22a174e132805b1
   "metadata": {},
   "outputs": [],
   "source": [
    "np.random.seed(448)"
   ]
  },
  {
   "cell_type": "markdown",
   "metadata": {},
   "source": [
    "## Part 1\n",
    "\n",
    "### Data linkage without blocking\n",
    "\n",
    "After testing, it was decided that manufacturer and description should not be used in linkage as this lead to too much variance in results. \n",
    "\n",
    "A jaccard index, which is used to measure the overlap of two strings, was used to compare the strings in order to get a score based on the similarity of the titles, this was used as titles/names will usually be quite similar across platforms and the jaccard index will usually lead to accurate results while measuring short titles such as the ones in these datasets.\n",
    "\n",
    "to calculate the similarity of the prices, i took the minimum value of the two and divided that by the maximum value of the two, this leads to creating a (smaller than one) score based on how much smaller the first number is from the second.\n",
    "\n",
    "The final score was decided by summing the name score and half the price score. The reason half the price score was used was due to it being a less accurate representation of similarity (multiple items can have the same/similar price) in comparison to name which will very rarely have the same/similar values.\n",
    "\n",
    "The threshold for determining the scores was done through trial and error in order to get the best balance between precision and recall. We also only accounted for the idAmazon's with the highest final scores when comparing with our truth dataset as there can only be one true match for each id, this sufficienty improved the performance of our linkage.\n",
    "\n",
    "The performance shows us precision ~ 0.915 and recall ~ 0.908. These values both appear to be very good as we have a very high rate of correct linkage between our datasets while still covering a large amount of the true values. "
   ]
  },
  {
   "cell_type": "code",
<<<<<<< HEAD
   "execution_count": 3,
=======
   "execution_count": 23,
>>>>>>> 802d7cb5ee1de74ea5eab8b1b22a174e132805b1
   "metadata": {},
   "outputs": [],
   "source": [
    "# read in all the needed files\n",
    "google_products = pd.read_csv('google_small.csv')\n",
    "amazon_products = pd.read_csv('amazon_small.csv')\n",
    "true = pd.read_csv('amazon_google_truth_small.csv').sort_values(by='idAmazon')"
   ]
  },
  {
   "cell_type": "code",
<<<<<<< HEAD
   "execution_count": 4,
=======
   "execution_count": 24,
>>>>>>> 802d7cb5ee1de74ea5eab8b1b22a174e132805b1
   "metadata": {},
   "outputs": [],
   "source": [
    "def get_jaccard_sim(str1, str2):\n",
    "    \"\"\"\n",
    "    Get the Jaccard similarity score between two strings\n",
    "    \"\"\"\n",
    "    a = set(str1.split())\n",
    "    b = set(str2.split())\n",
    "    c = a.intersection(b)\n",
    "    return float(len(c)) / (len(a) + len(b) - len(c))"
   ]
  },
  {
   "cell_type": "code",
<<<<<<< HEAD
   "execution_count": 5,
=======
   "execution_count": 25,
>>>>>>> 802d7cb5ee1de74ea5eab8b1b22a174e132805b1
   "metadata": {},
   "outputs": [],
   "source": [
    "# set a common column for merge\n",
    "google_products['key'] = 1\n",
    "amazon_products['key'] = 1"
   ]
  },
  {
   "cell_type": "code",
<<<<<<< HEAD
   "execution_count": 6,
=======
   "execution_count": 26,
>>>>>>> 802d7cb5ee1de74ea5eab8b1b22a174e132805b1
   "metadata": {},
   "outputs": [],
   "source": [
    "# join the 2 dataframes\n",
    "joined = pd.merge(google_products, amazon_products, on='key').drop('key', axis=1)\n",
    "# calculate the scores for the names/titles using the jaccard index\n",
    "joined['name_score'] =joined.apply(lambda row: get_jaccard_sim(row['name'], row['title']), axis=1)\n",
    "# calculate the scores for the price similarities\n",
    "joined['price_score'] = joined.apply(lambda row: (min(row['price_x'], row['price_y'])/max(row['price_x'], row['price_y'])), axis=1)\n",
    "# calculate the final scores with the price weighted less as there is more chance of duplicates\n",
    "joined['final_score'] = joined['name_score'] + joined['price_score']/2"
   ]
  },
  {
   "cell_type": "code",
<<<<<<< HEAD
   "execution_count": 7,
=======
   "execution_count": 27,
>>>>>>> 802d7cb5ee1de74ea5eab8b1b22a174e132805b1
   "metadata": {},
   "outputs": [],
   "source": [
    "# threshold determined through trial and error, only concerned with values above this threshold\n",
    "THRESHOLD = 0.54\n",
    "joined = joined[joined['final_score'] > THRESHOLD]\n",
    "# take only the largest score for each amazonID for comparison\n",
    "joined = joined.sort_values(by='final_score', ascending=False).drop_duplicates(['idAmazon'])\n",
    "# create new dataframes for faster calculations\n",
    "predicted = joined.loc[:, ['idAmazon', 'idGoogleBase']].sort_values(by='idAmazon')"
   ]
  },
  {
   "cell_type": "code",
<<<<<<< HEAD
   "execution_count": 8,
=======
   "execution_count": 28,
>>>>>>> 802d7cb5ee1de74ea5eab8b1b22a174e132805b1
   "metadata": {},
   "outputs": [
    {
     "data": {
      "text/html": [
       "<div>\n",
       "<style scoped>\n",
       "    .dataframe tbody tr th:only-of-type {\n",
       "        vertical-align: middle;\n",
       "    }\n",
       "\n",
       "    .dataframe tbody tr th {\n",
       "        vertical-align: top;\n",
       "    }\n",
       "\n",
       "    .dataframe thead th {\n",
       "        text-align: right;\n",
       "    }\n",
       "</style>\n",
       "<table border=\"1\" class=\"dataframe\">\n",
       "  <thead>\n",
       "    <tr style=\"text-align: right;\">\n",
       "      <th></th>\n",
       "      <th>idAmazon</th>\n",
       "      <th>idGoogleBase</th>\n",
       "    </tr>\n",
       "  </thead>\n",
       "  <tbody>\n",
       "    <tr>\n",
       "      <th>0</th>\n",
       "      <td>1931102953</td>\n",
       "      <td>http://www.google.com/base/feeds/snippets/1272...</td>\n",
       "    </tr>\n",
       "    <tr>\n",
       "      <th>1</th>\n",
       "      <td>b00002s6sc</td>\n",
       "      <td>http://www.google.com/base/feeds/snippets/1049...</td>\n",
       "    </tr>\n",
       "    <tr>\n",
       "      <th>2</th>\n",
       "      <td>b00004nhn7</td>\n",
       "      <td>http://www.google.com/base/feeds/snippets/1843...</td>\n",
       "    </tr>\n",
       "    <tr>\n",
       "      <th>3</th>\n",
       "      <td>b000051sgq</td>\n",
       "      <td>http://www.google.com/base/feeds/snippets/1758...</td>\n",
       "    </tr>\n",
       "    <tr>\n",
       "      <th>4</th>\n",
       "      <td>b000067fk7</td>\n",
       "      <td>http://www.google.com/base/feeds/snippets/3785...</td>\n",
       "    </tr>\n",
       "  </tbody>\n",
       "</table>\n",
       "</div>"
      ],
      "text/plain": [
       "     idAmazon                                       idGoogleBase\n",
       "0  1931102953  http://www.google.com/base/feeds/snippets/1272...\n",
       "1  b00002s6sc  http://www.google.com/base/feeds/snippets/1049...\n",
       "2  b00004nhn7  http://www.google.com/base/feeds/snippets/1843...\n",
       "3  b000051sgq  http://www.google.com/base/feeds/snippets/1758...\n",
       "4  b000067fk7  http://www.google.com/base/feeds/snippets/3785..."
      ]
     },
<<<<<<< HEAD
     "execution_count": 8,
=======
     "execution_count": 28,
>>>>>>> 802d7cb5ee1de74ea5eab8b1b22a174e132805b1
     "metadata": {},
     "output_type": "execute_result"
    }
   ],
   "source": [
    "# create a dataframe of tp values\n",
    "tp_values = []\n",
    "tp_df = predicted.merge(true, on=['idAmazon', 'idGoogleBase'])\n",
    "tp_df.head()"
   ]
  },
  {
   "cell_type": "code",
<<<<<<< HEAD
   "execution_count": 9,
=======
   "execution_count": 29,
>>>>>>> 802d7cb5ee1de74ea5eab8b1b22a174e132805b1
   "metadata": {},
   "outputs": [
    {
     "name": "stdout",
     "output_type": "stream",
     "text": [
      "precision = 0.9147286821705426\n",
      "recall = 0.9076923076923077\n"
     ]
    }
   ],
   "source": [
    "# calculate precision and recall using tp, fp, fn\n",
    "tp = len(tp_df)\n",
    "fp = len(predicted) - tp\n",
    "fn = len(true) - tp\n",
    "precision = tp/(tp+fp)\n",
    "recall = tp/(tp+fn)\n",
    "print(f'precision = {precision}')\n",
    "print(f'recall = {recall}')"
   ]
  },
  {
   "cell_type": "markdown",
   "metadata": {},
   "source": [
    "## Data linkage with blocking\n",
    "It was decided to use a blocking method based on price ranges. This was decided by somewhat of a trial and error process, as well as deduction, I originally attempted to block with n-grams on title but this lead to having far too many blocks and turned out to be a poor way to block these datasets. The sizes of the price blocks were determined by prior knowledge of how items are generally priced and the largest block size was determined by calling .max() on the prices of both dataframes. I also decided to not impute the 0 values of price in the amazon.csv file to anything, this is because imputing it to the mean/median would be improper as we are solely blocking on price and there is large variance in prices.\n",
    "\n",
    "This blocking method seemed to work quite well, both the PC and RR are around 80% which is quite high. These results are not as good as the results produced from the measures in the naive-linkage implemented earlier but this is to be expected as blocking is generally a less precise method as it prioritises speed and security over results. If a naive linkage method was used here, it would be very slow as there are millions of possible combinations between the datasets, using blocking significantly sped up the process.\n",
    "\n",
    "pair completeness measures the coverage of our values from within the truth dataset, with our value being ~80%, we have quite a good recall considering that blocking was used this could potentially be increased further by adding a second conjunction to the blocking scheme. Reduction ratio is a measure of the effectiveness of data reduction, here we also have a value of ~80% which means that we have a high ratio of data ingested to data matched.\n"
   ]
  },
  {
   "cell_type": "code",
<<<<<<< HEAD
   "execution_count": 10,
=======
   "execution_count": 30,
>>>>>>> 802d7cb5ee1de74ea5eab8b1b22a174e132805b1
   "metadata": {},
   "outputs": [],
   "source": [
    "# create dataframes from datasets\n",
    "google_products = pd.read_csv('google.csv')\n",
    "amazon_products = pd.read_csv('amazon.csv')\n",
    "true = pd.read_csv('amazon_google_truth.csv')\n",
    "true = true.rename(columns={'idGoogleBase':'id'})"
   ]
  },
  {
   "cell_type": "code",
<<<<<<< HEAD
   "execution_count": 11,
=======
   "execution_count": 31,
>>>>>>> 802d7cb5ee1de74ea5eab8b1b22a174e132805b1
   "metadata": {},
   "outputs": [
    {
     "data": {
      "text/plain": [
       "101515.55"
      ]
     },
<<<<<<< HEAD
     "execution_count": 11,
=======
     "execution_count": 31,
>>>>>>> 802d7cb5ee1de74ea5eab8b1b22a174e132805b1
     "metadata": {},
     "output_type": "execute_result"
    }
   ],
   "source": [
    "# preprocess price data\n",
    "# assume prices are in gbp already so no need to apply exchange rate\n",
    "google_products['price'] = google_products['price'].str.replace('gbp', '')\n",
    "amazon_products['price'] = amazon_products['price'].replace('gbp', '')\n",
    "google_products['price'] = pd.to_numeric(google_products['price'])\n",
    "amazon_products['price'] = pd.to_numeric(amazon_products['price'])\n",
    "amazon_products['price'].max()"
   ]
  },
  {
   "cell_type": "code",
<<<<<<< HEAD
   "execution_count": 12,
=======
   "execution_count": 32,
>>>>>>> 802d7cb5ee1de74ea5eab8b1b22a174e132805b1
   "metadata": {},
   "outputs": [],
   "source": [
    "# create blocks and labels for price and allocate each id to a block\n",
    "blocks = [0, 20, 50, 100, 200, 500, 1000, 2000, 5000, 10000, 100000, 1000000]\n",
    "labels = list(range(1,12))\n",
    "amazon_products['bin'] = pd.cut(amazon_products.price, bins=blocks, include_lowest=True, labels=labels)\n",
    "google_products['bin'] = pd.cut(google_products.price, bins=blocks, include_lowest=True, labels=labels)"
   ]
  },
  {
   "cell_type": "code",
<<<<<<< HEAD
   "execution_count": 13,
=======
   "execution_count": 33,
>>>>>>> 802d7cb5ee1de74ea5eab8b1b22a174e132805b1
   "metadata": {},
   "outputs": [
    {
     "data": {
      "text/html": [
       "<div>\n",
       "<style scoped>\n",
       "    .dataframe tbody tr th:only-of-type {\n",
       "        vertical-align: middle;\n",
       "    }\n",
       "\n",
       "    .dataframe tbody tr th {\n",
       "        vertical-align: top;\n",
       "    }\n",
       "\n",
       "    .dataframe thead th {\n",
       "        text-align: right;\n",
       "    }\n",
       "</style>\n",
       "<table border=\"1\" class=\"dataframe\">\n",
       "  <thead>\n",
       "    <tr style=\"text-align: right;\">\n",
       "      <th></th>\n",
       "      <th>id</th>\n",
       "      <th>idAmazon</th>\n",
       "    </tr>\n",
       "  </thead>\n",
       "  <tbody>\n",
       "    <tr>\n",
       "      <th>0</th>\n",
       "      <td>http://www.google.com/base/feeds/snippets/1056...</td>\n",
       "      <td>b000aoz7hw</td>\n",
       "    </tr>\n",
       "    <tr>\n",
       "      <th>1</th>\n",
       "      <td>http://www.google.com/base/feeds/snippets/1290...</td>\n",
       "      <td>b000hcl5sm</td>\n",
       "    </tr>\n",
       "    <tr>\n",
       "      <th>2</th>\n",
       "      <td>http://www.google.com/base/feeds/snippets/1823...</td>\n",
       "      <td>b000jx1kgq</td>\n",
       "    </tr>\n",
       "    <tr>\n",
       "      <th>3</th>\n",
       "      <td>http://www.google.com/base/feeds/snippets/1826...</td>\n",
       "      <td>b000h25yr0</td>\n",
       "    </tr>\n",
       "    <tr>\n",
       "      <th>4</th>\n",
       "      <td>http://www.google.com/base/feeds/snippets/1825...</td>\n",
       "      <td>b0009yegpc</td>\n",
       "    </tr>\n",
       "  </tbody>\n",
       "</table>\n",
       "</div>"
      ],
      "text/plain": [
       "                                                  id    idAmazon\n",
       "0  http://www.google.com/base/feeds/snippets/1056...  b000aoz7hw\n",
       "1  http://www.google.com/base/feeds/snippets/1290...  b000hcl5sm\n",
       "2  http://www.google.com/base/feeds/snippets/1823...  b000jx1kgq\n",
       "3  http://www.google.com/base/feeds/snippets/1826...  b000h25yr0\n",
       "4  http://www.google.com/base/feeds/snippets/1825...  b0009yegpc"
      ]
     },
<<<<<<< HEAD
     "execution_count": 13,
=======
     "execution_count": 33,
>>>>>>> 802d7cb5ee1de74ea5eab8b1b22a174e132805b1
     "metadata": {},
     "output_type": "execute_result"
    }
   ],
   "source": [
    "# create a common column to merge on\n",
    "google_products['key'] = 1\n",
    "amazon_products['key'] = 1\n",
    "\n",
    "matches = []\n",
    "fp = 0\n",
    "\n",
    "# find matches within the ground truth and each block\n",
    "for i in labels:\n",
    "    amazon = amazon_products.loc[amazon_products['bin'] == i]\n",
    "    google = google_products.loc[google_products['bin'] == i]\n",
    "    joined = pd.merge(google, amazon, on='key').drop('key', axis=1).loc[:, ['id', 'idAmazon']]\n",
    "    df = joined.merge(true, on=['idAmazon', 'id'])\n",
    "    fp += (len(joined) - len(df))\n",
    "    matches.append(df)\n",
    "                \n",
    "matches = pd.concat(matches)\n",
    "matches.head()"
   ]
  },
  {
   "cell_type": "code",
<<<<<<< HEAD
   "execution_count": 14,
=======
   "execution_count": 34,
>>>>>>> 802d7cb5ee1de74ea5eab8b1b22a174e132805b1
   "metadata": {},
   "outputs": [
    {
     "name": "stdout",
     "output_type": "stream",
     "text": [
      "Pair completeness = 0.7876923076923077\n",
      "Reduction ratio = 0.8019180184478734\n"
     ]
    }
   ],
   "source": [
    "# calculate PC and RR\n",
    "tp = len(matches)\n",
    "fn = len(true) - tp\n",
    "PC = tp/(tp+fn)\n",
    "n = len(amazon_products)*len(google_products)\n",
    "RR = 1-(tp+fp)/n\n",
    "print(f'Pair completeness = {PC}')\n",
    "print(f'Reduction ratio = {RR}')"
   ]
  },
  {
   "cell_type": "markdown",
   "metadata": {},
   "source": [
    "## Part 2\n",
    "\n",
    "## Part 2\n",
    "\n",
    "Since the column `Sample` is just an incremntal ID of the observation, we have not included it in the analysis. When including the column `pox` the bin width would be very small. As this is not practical when compared to the other columns (which require wider bin widths and more bins), we have excluded the column from any further analysis.\n",
    "\n",
    "### Pre-processing discussion\n",
    "From the distribution of the original dataset it is apparent that the majority of the data lies within range with a width of `0.1`. As a result, choosing median imputation would be favourable since outliers would not have as much affect with this strategy as opposed to mean imputation.\n",
    "\n",
    "### Comparing Classification Algorithms\n",
    "\n",
    "The aim is to find the classifying method that performs the best on the test data without either overfitting or underfitting on the training data.\n",
    "\n",
    "To achieve this goal we initially normalised the data by fitting the data to a standard noraml distribution. Then the results were used to train three different clissifying model:\n",
    "\n",
    "- KNN with 5 neighbours\n",
    "- KNN with 10 neighbours\n",
    "- decision tree classifier\n",
    "\n",
    "The classifier used at each stage was thr normal unmodified classifier offered by the library. This helped ensure consistency for the k_means classifiers as no other parameter but the number of neighbours was changed.\n",
    "\n",
    "\n",
    "Accuracies on training data:\n",
    "- 0.7927565392354124 for KNN with 5 neigbhours\n",
    "- 0.7756539235412475 for KNN with 10 neighbours\n",
    "- 0.8893360160965795 for decision tree classifier\n",
    "\n",
    "Accuracies on test data:\n",
    "- 0.6755102040816326 for KNN with 5 neighbours\n",
    "- 0.6938775510204082 for KNN with 10 neighbours\n",
    "- 0.6632653061224489 for decision tree classifier\n",
    "\n",
    "\n",
    "The score for the dtc obtained on the training data suggests that the classifier is overly fitted to the training data. This implies that there is a high chance of the claddifier performing exceptionally on the test data but failing to predict feasible values on test data which it was not fitted to. The consequence of this is apparent on the results demonstrated above. The decision tree classifier performed well on the training data with a score of 0.98 whereas the test data only scored 0.67 which is clearly much lower than the training score.\n",
    "\n",
    "After multiple trials, it became evident that the results for the score were in the neighberhood of 0.67 and all of the classification methods seem to have achieved the same score of 0.67. Therefore, there is no clear advantage to any of the algorithms if all the parameters are set to their default settings from the parent library.\n",
    "\n",
    "## Feature Engineering\n",
    "\n",
    "\n",
    "#### Parameters tested:\n",
    "\n",
    "n_bins: After testing various possible values for number of bins (the commented block below) the most optimal value for this attribute is 9.\n",
    "\n",
    "encode (KBins Descretizer): set to ordinal as this would give the bin that the data point most probably belongs to. This is most useful compared to the other options when using mutual information.\n",
    "\n",
    "value for the variable KMEANS_RANGE: The optimal value was found to be 3. That is, for the model to have the highest accuracy score, the original values should be assigned to two clusters, the new labels generated, and the most corrolated tables (with respect to the original labels) chosen for the knn analysis. It is speculated that a higher value fot k would simply too large for a sample with 8 different possible attrubutes. In other words a higher value of k for the kmeans procedure would generate columns that have a low entropy and reinforce the noise that already exists within the dataset through overtraining the model with data similar to the original dataset.\n",
    "\n",
    "max_depth (for dtc): After experimenting with this variable for a small range of numbers (2 to 20), we have come to the conclusion that a depth of 10 is the most optimal when seeking a high test score while trying to avoid overfitting. Without changing this value, the accuracy score that the training achieved using this model was quite close to 1.0, in fact in the range 0.98 to 1.0. With a value of 10 for max_depth, we were able to achieve an accuracy score of approximately 0.8 for the training data which is a good improvement compared to the defult value of the function.\n",
    "\n",
    "\n",
    "### Boost in accuracy score using feature generation:\n",
    "\n",
    "In both of these experiments the value for the number of neighbours was set to 9, which is the optimal value found form earlier experimentation.\n",
    "\n",
    "#### Column Multiplication Feature Generation\n",
    "\n",
    "In most optimal situations there would be a slight boost in the accuracy of the prediction after finding the most corrolated entries. To see the effect of this, we have found the knn accuracy score of the n highest-entropy columns (compared to the class label). This procedure would clearly take a longer time if the size of the data was larger. It is up to the specific context to determine if the boost is worth the downgrade in efficiency. In best cases a boost of 0.03 was observed and at times the score has even decreased. The score that the training set achieved using the optimal model was 0.7142857142857143. This is the lowest training score out of all the models considered here. This suggests that this method is prone to overfitting the training the data while resulting a good accuracy result on the testing data. This procedure would be most suitable when the number of samples and fetures considered are small and there is a good possibility of coming accross much different data compared to what is at hand.\n",
    "\n",
    "On average, the score using the multiplication method seemed to have slightly improved the accuracy of the knn analysis.\n",
    "\n",
    "\n",
    "#### KMeans Feature Generation\n",
    "The experimentation resulted in a test score value that is slightly higher than the original test score. A 4% improvement was observed. With dividing the data points to two different clusters, and then using the newly generated column for accuracy, we observed a boost of approximately 3.5% to 4% in the accuracy of the prediction model. The KMeans model outperforms the earlier discussed multiplication method in this context. This was achieved while the model scored 0.7545271629778671 on the training score. This suggests that the model is not overfitted to the newly generated features while performing better than before. This result was obtained when the 6 columns that had the highest mutual information with the original classification labels were chosen. One of these six columns was the newly generated column.\n"
   ]
  },
  {
   "cell_type": "markdown",
   "metadata": {},
   "source": [
    "## Section 1 & 2: Preprocessing and Comparing Classification Problems"
   ]
  },
  {
   "cell_type": "code",
<<<<<<< HEAD
   "execution_count": 15,
=======
   "execution_count": 80,
>>>>>>> 802d7cb5ee1de74ea5eab8b1b22a174e132805b1
   "metadata": {},
   "outputs": [],
   "source": [
    "OPTIMAL_BIN_VALUE = 9"
   ]
  },
  {
   "cell_type": "code",
<<<<<<< HEAD
   "execution_count": 16,
   "metadata": {},
=======
   "execution_count": 81,
   "metadata": {
    "scrolled": true
   },
>>>>>>> 802d7cb5ee1de74ea5eab8b1b22a174e132805b1
   "outputs": [],
   "source": [
    "yeast_data = pd.read_csv('all_yeast.csv')\n",
    "yeast_data['Class'] = yeast_data.Class.replace(to_replace=yeast_data.Class.unique(), value=[0, 1])"
   ]
  },
  {
   "cell_type": "code",
<<<<<<< HEAD
   "execution_count": 17,
   "metadata": {},
   "outputs": [],
   "source": [
    "from sklearn.impute import SimpleImputer    "
   ]
  },
  {
   "cell_type": "code",
   "execution_count": 18,
=======
   "execution_count": 82,
>>>>>>> 802d7cb5ee1de74ea5eab8b1b22a174e132805b1
   "metadata": {},
   "outputs": [],
   "source": [
    "mean_imputer = SimpleImputer(missing_values=np.nan, strategy='mean')\n",
    "median_imputer = SimpleImputer(missing_values=np.nan, strategy='median')"
   ]
  },
  {
   "cell_type": "code",
<<<<<<< HEAD
   "execution_count": 19,
=======
   "execution_count": 83,
>>>>>>> 802d7cb5ee1de74ea5eab8b1b22a174e132805b1
   "metadata": {},
   "outputs": [],
   "source": [
    "from sklearn.model_selection import train_test_split\n",
<<<<<<< HEAD
    "\n",
    "\n",
    "#splitting the data into test and train\n",
    "X_train, X_test, y_train, y_test = train_test_split(yeast_data.drop(['Class', 'pox', 'Sample'], axis=1), yeast_data['Class'], test_size=0.33)\n",
    "\n",
    "\n",
    "# fill the empty entries of the test and training set with mean and median imputation\n",
    "X_train_mean = pd.DataFrame(mean_imputer.fit_transform(X_train))\n",
    "X_train_median = pd.DataFrame(median_imputer.fit_transform(X_train))\n",
    "\n",
=======
    "# split the data into train set and test set\n",
    "X_train, X_test, y_train, y_test = train_test_split(yeast_data.drop(['Class', 'pox', 'Sample'], axis=1), yeast_data['Class'], test_size=0.33)\n",
    "\n",
    "# find the mean and median of the data\n",
    "X_train_mean = pd.DataFrame(mean_imputer.fit_transform(X_train))\n",
    "X_train_median = pd.DataFrame(median_imputer.fit_transform(X_train))\n",
>>>>>>> 802d7cb5ee1de74ea5eab8b1b22a174e132805b1
    "X_test_mean = pd.DataFrame(mean_imputer.fit_transform(X_test))\n",
    "X_test_median = pd.DataFrame(median_imputer.fit_transform(X_test))"
   ]
  },
  {
   "cell_type": "code",
<<<<<<< HEAD
   "execution_count": 20,
=======
   "execution_count": 84,
>>>>>>> 802d7cb5ee1de74ea5eab8b1b22a174e132805b1
   "metadata": {},
   "outputs": [
    {
     "data": {
      "text/html": [
       "<div>\n",
       "<style scoped>\n",
       "    .dataframe tbody tr th:only-of-type {\n",
       "        vertical-align: middle;\n",
       "    }\n",
       "\n",
       "    .dataframe tbody tr th {\n",
       "        vertical-align: top;\n",
       "    }\n",
       "\n",
       "    .dataframe thead th {\n",
       "        text-align: right;\n",
       "    }\n",
       "</style>\n",
       "<table border=\"1\" class=\"dataframe\">\n",
       "  <thead>\n",
       "    <tr style=\"text-align: right;\">\n",
       "      <th></th>\n",
       "      <th>0</th>\n",
       "      <th>1</th>\n",
       "      <th>2</th>\n",
       "      <th>3</th>\n",
       "      <th>4</th>\n",
       "      <th>5</th>\n",
       "      <th>6</th>\n",
       "    </tr>\n",
       "  </thead>\n",
       "  <tbody>\n",
       "    <tr>\n",
       "      <th>count</th>\n",
       "      <td>994.000000</td>\n",
       "      <td>994.000000</td>\n",
       "      <td>994.000000</td>\n",
       "      <td>994.000000</td>\n",
       "      <td>994.000000</td>\n",
       "      <td>994.000000</td>\n",
       "      <td>994.000000</td>\n",
       "    </tr>\n",
       "    <tr>\n",
<<<<<<< HEAD
       "      <th>mean</th>\n",
       "      <td>0.497065</td>\n",
       "      <td>0.499804</td>\n",
       "      <td>0.498758</td>\n",
       "      <td>0.263763</td>\n",
       "      <td>0.509279</td>\n",
       "      <td>0.506622</td>\n",
       "      <td>0.275350</td>\n",
       "    </tr>\n",
       "    <tr>\n",
       "      <th>std</th>\n",
       "      <td>0.132575</td>\n",
       "      <td>0.123718</td>\n",
       "      <td>0.080742</td>\n",
       "      <td>0.155979</td>\n",
       "      <td>0.109570</td>\n",
       "      <td>0.182452</td>\n",
       "      <td>0.104874</td>\n",
=======
       "      <td>mean</td>\n",
       "      <td>0.500000</td>\n",
       "      <td>0.500093</td>\n",
       "      <td>0.510273</td>\n",
       "      <td>0.260523</td>\n",
       "      <td>0.506702</td>\n",
       "      <td>0.502206</td>\n",
       "      <td>0.278705</td>\n",
       "    </tr>\n",
       "    <tr>\n",
       "      <td>std</td>\n",
       "      <td>0.133606</td>\n",
       "      <td>0.120869</td>\n",
       "      <td>0.235730</td>\n",
       "      <td>0.127172</td>\n",
       "      <td>0.103861</td>\n",
       "      <td>0.055303</td>\n",
       "      <td>0.104474</td>\n",
>>>>>>> 802d7cb5ee1de74ea5eab8b1b22a174e132805b1
       "    </tr>\n",
       "    <tr>\n",
       "      <th>min</th>\n",
       "      <td>0.110000</td>\n",
       "      <td>0.140000</td>\n",
       "      <td>0.210000</td>\n",
       "      <td>0.000000</td>\n",
       "      <td>0.500000</td>\n",
       "      <td>0.000000</td>\n",
       "      <td>0.110000</td>\n",
       "    </tr>\n",
       "    <tr>\n",
       "      <th>25%</th>\n",
       "      <td>0.410000</td>\n",
       "      <td>0.420000</td>\n",
       "      <td>0.470000</td>\n",
       "      <td>0.170000</td>\n",
       "      <td>0.500000</td>\n",
       "      <td>0.480000</td>\n",
       "      <td>0.220000</td>\n",
       "    </tr>\n",
       "    <tr>\n",
<<<<<<< HEAD
       "      <th>50%</th>\n",
       "      <td>0.497065</td>\n",
       "      <td>0.490000</td>\n",
=======
       "      <td>50%</td>\n",
>>>>>>> 802d7cb5ee1de74ea5eab8b1b22a174e132805b1
       "      <td>0.500000</td>\n",
       "      <td>0.490000</td>\n",
       "      <td>0.510273</td>\n",
       "      <td>0.240000</td>\n",
       "      <td>0.500000</td>\n",
       "      <td>0.510000</td>\n",
       "      <td>0.220000</td>\n",
       "    </tr>\n",
       "    <tr>\n",
       "      <th>75%</th>\n",
       "      <td>0.560000</td>\n",
       "      <td>0.570000</td>\n",
       "      <td>0.550000</td>\n",
       "      <td>0.300000</td>\n",
       "      <td>0.500000</td>\n",
       "      <td>0.530000</td>\n",
       "      <td>0.290000</td>\n",
       "    </tr>\n",
       "    <tr>\n",
       "      <th>max</th>\n",
       "      <td>1.000000</td>\n",
       "      <td>0.940000</td>\n",
       "      <td>7.501819</td>\n",
       "      <td>1.000000</td>\n",
       "      <td>3.500849</td>\n",
       "      <td>0.730000</td>\n",
       "      <td>1.000000</td>\n",
       "    </tr>\n",
       "  </tbody>\n",
       "</table>\n",
       "</div>"
      ],
      "text/plain": [
       "                0           1           2           3           4           5  \\\n",
       "count  994.000000  994.000000  994.000000  994.000000  994.000000  994.000000   \n",
       "mean     0.500000    0.500093    0.510273    0.260523    0.506702    0.502206   \n",
       "std      0.133606    0.120869    0.235730    0.127172    0.103861    0.055303   \n",
       "min      0.110000    0.140000    0.210000    0.000000    0.500000    0.000000   \n",
       "25%      0.410000    0.420000    0.470000    0.170000    0.500000    0.480000   \n",
       "50%      0.500000    0.490000    0.510273    0.240000    0.500000    0.510000   \n",
       "75%      0.560000    0.570000    0.550000    0.300000    0.500000    0.530000   \n",
       "max      1.000000    0.940000    7.501819    1.000000    3.500849    0.730000   \n",
       "\n",
       "                6  \n",
       "count  994.000000  \n",
       "mean     0.278705  \n",
       "std      0.104474  \n",
       "min      0.110000  \n",
       "25%      0.220000  \n",
       "50%      0.220000  \n",
       "75%      0.290000  \n",
       "max      1.000000  "
      ]
     },
<<<<<<< HEAD
     "execution_count": 20,
=======
     "execution_count": 84,
>>>>>>> 802d7cb5ee1de74ea5eab8b1b22a174e132805b1
     "metadata": {},
     "output_type": "execute_result"
    }
   ],
   "source": [
    "X_train_mean.describe()"
   ]
  },
  {
   "cell_type": "code",
<<<<<<< HEAD
   "execution_count": 21,
=======
   "execution_count": 85,
>>>>>>> 802d7cb5ee1de74ea5eab8b1b22a174e132805b1
   "metadata": {},
   "outputs": [
    {
     "data": {
      "text/html": [
       "<div>\n",
       "<style scoped>\n",
       "    .dataframe tbody tr th:only-of-type {\n",
       "        vertical-align: middle;\n",
       "    }\n",
       "\n",
       "    .dataframe tbody tr th {\n",
       "        vertical-align: top;\n",
       "    }\n",
       "\n",
       "    .dataframe thead th {\n",
       "        text-align: right;\n",
       "    }\n",
       "</style>\n",
       "<table border=\"1\" class=\"dataframe\">\n",
       "  <thead>\n",
       "    <tr style=\"text-align: right;\">\n",
       "      <th></th>\n",
       "      <th>0</th>\n",
       "      <th>1</th>\n",
       "      <th>2</th>\n",
       "      <th>3</th>\n",
       "      <th>4</th>\n",
       "      <th>5</th>\n",
       "      <th>6</th>\n",
       "    </tr>\n",
       "  </thead>\n",
       "  <tbody>\n",
       "    <tr>\n",
       "      <th>count</th>\n",
       "      <td>994.000000</td>\n",
       "      <td>994.000000</td>\n",
       "      <td>994.000000</td>\n",
       "      <td>994.000000</td>\n",
       "      <td>994.000000</td>\n",
       "      <td>994.000000</td>\n",
       "      <td>994.000000</td>\n",
       "    </tr>\n",
       "    <tr>\n",
<<<<<<< HEAD
       "      <th>mean</th>\n",
       "      <td>0.495503</td>\n",
       "      <td>0.499577</td>\n",
       "      <td>0.499708</td>\n",
       "      <td>0.259669</td>\n",
       "      <td>0.509055</td>\n",
       "      <td>0.506812</td>\n",
       "      <td>0.272565</td>\n",
       "    </tr>\n",
       "    <tr>\n",
       "      <th>std</th>\n",
       "      <td>0.132667</td>\n",
       "      <td>0.123727</td>\n",
       "      <td>0.080803</td>\n",
       "      <td>0.156499</td>\n",
       "      <td>0.109579</td>\n",
       "      <td>0.182454</td>\n",
       "      <td>0.105570</td>\n",
=======
       "      <td>mean</td>\n",
       "      <td>0.498672</td>\n",
       "      <td>0.499819</td>\n",
       "      <td>0.510253</td>\n",
       "      <td>0.256650</td>\n",
       "      <td>0.506540</td>\n",
       "      <td>0.502676</td>\n",
       "      <td>0.275634</td>\n",
       "    </tr>\n",
       "    <tr>\n",
       "      <td>std</td>\n",
       "      <td>0.133674</td>\n",
       "      <td>0.120880</td>\n",
       "      <td>0.235730</td>\n",
       "      <td>0.127729</td>\n",
       "      <td>0.103866</td>\n",
       "      <td>0.055335</td>\n",
       "      <td>0.105289</td>\n",
>>>>>>> 802d7cb5ee1de74ea5eab8b1b22a174e132805b1
       "    </tr>\n",
       "    <tr>\n",
       "      <th>min</th>\n",
       "      <td>0.110000</td>\n",
       "      <td>0.140000</td>\n",
       "      <td>0.210000</td>\n",
       "      <td>0.000000</td>\n",
       "      <td>0.500000</td>\n",
       "      <td>0.000000</td>\n",
       "      <td>0.110000</td>\n",
       "    </tr>\n",
       "    <tr>\n",
       "      <th>25%</th>\n",
       "      <td>0.410000</td>\n",
       "      <td>0.420000</td>\n",
       "      <td>0.470000</td>\n",
       "      <td>0.170000</td>\n",
       "      <td>0.500000</td>\n",
       "      <td>0.480000</td>\n",
       "      <td>0.220000</td>\n",
       "    </tr>\n",
       "    <tr>\n",
<<<<<<< HEAD
       "      <th>50%</th>\n",
       "      <td>0.480000</td>\n",
=======
       "      <td>50%</td>\n",
       "      <td>0.485000</td>\n",
>>>>>>> 802d7cb5ee1de74ea5eab8b1b22a174e132805b1
       "      <td>0.490000</td>\n",
       "      <td>0.510000</td>\n",
       "      <td>0.220000</td>\n",
       "      <td>0.500000</td>\n",
       "      <td>0.510000</td>\n",
       "      <td>0.220000</td>\n",
       "    </tr>\n",
       "    <tr>\n",
       "      <th>75%</th>\n",
       "      <td>0.560000</td>\n",
       "      <td>0.570000</td>\n",
       "      <td>0.550000</td>\n",
       "      <td>0.300000</td>\n",
       "      <td>0.500000</td>\n",
       "      <td>0.530000</td>\n",
       "      <td>0.290000</td>\n",
       "    </tr>\n",
       "    <tr>\n",
       "      <th>max</th>\n",
       "      <td>1.000000</td>\n",
       "      <td>0.940000</td>\n",
       "      <td>7.501819</td>\n",
       "      <td>1.000000</td>\n",
       "      <td>3.500849</td>\n",
       "      <td>0.730000</td>\n",
       "      <td>1.000000</td>\n",
       "    </tr>\n",
       "  </tbody>\n",
       "</table>\n",
       "</div>"
      ],
      "text/plain": [
       "                0           1           2           3           4           5  \\\n",
       "count  994.000000  994.000000  994.000000  994.000000  994.000000  994.000000   \n",
       "mean     0.498672    0.499819    0.510253    0.256650    0.506540    0.502676   \n",
       "std      0.133674    0.120880    0.235730    0.127729    0.103866    0.055335   \n",
       "min      0.110000    0.140000    0.210000    0.000000    0.500000    0.000000   \n",
       "25%      0.410000    0.420000    0.470000    0.170000    0.500000    0.480000   \n",
       "50%      0.485000    0.490000    0.510000    0.220000    0.500000    0.510000   \n",
       "75%      0.560000    0.570000    0.550000    0.300000    0.500000    0.530000   \n",
       "max      1.000000    0.940000    7.501819    1.000000    3.500849    0.730000   \n",
       "\n",
       "                6  \n",
       "count  994.000000  \n",
       "mean     0.275634  \n",
       "std      0.105289  \n",
       "min      0.110000  \n",
       "25%      0.220000  \n",
       "50%      0.220000  \n",
       "75%      0.290000  \n",
       "max      1.000000  "
      ]
     },
<<<<<<< HEAD
     "execution_count": 21,
=======
     "execution_count": 85,
>>>>>>> 802d7cb5ee1de74ea5eab8b1b22a174e132805b1
     "metadata": {},
     "output_type": "execute_result"
    }
   ],
   "source": [
    "X_train_median.describe()"
   ]
  },
  {
   "cell_type": "code",
<<<<<<< HEAD
   "execution_count": 22,
=======
   "execution_count": 86,
>>>>>>> 802d7cb5ee1de74ea5eab8b1b22a174e132805b1
   "metadata": {},
   "outputs": [],
   "source": [
    "from sklearn.preprocessing import StandardScaler, normalize\n",
    "stdscl = StandardScaler(with_mean=True, with_std=True)"
   ]
  },
  {
   "cell_type": "code",
<<<<<<< HEAD
   "execution_count": 23,
=======
   "execution_count": 87,
>>>>>>> 802d7cb5ee1de74ea5eab8b1b22a174e132805b1
   "metadata": {},
   "outputs": [],
   "source": [
    "#scale the training and testing sets once with standardization (using the range) \n",
    "# and once with normalisation (fitting under the standard normall distribution curve)\n",
    "X_train_std = pd.DataFrame(stdscl.fit_transform(X_train_median))\n",
    "X_train_norm = pd.DataFrame(normalize(X_train_median))\n",
    "\n",
    "X_test_std = pd.DataFrame(stdscl.fit_transform(X_test_median))\n",
    "X_test_norm = pd.DataFrame(normalize(X_test_median))"
   ]
  },
  {
   "cell_type": "code",
<<<<<<< HEAD
   "execution_count": 24,
=======
   "execution_count": 88,
>>>>>>> 802d7cb5ee1de74ea5eab8b1b22a174e132805b1
   "metadata": {},
   "outputs": [
    {
     "data": {
      "text/html": [
       "<div>\n",
       "<style scoped>\n",
       "    .dataframe tbody tr th:only-of-type {\n",
       "        vertical-align: middle;\n",
       "    }\n",
       "\n",
       "    .dataframe tbody tr th {\n",
       "        vertical-align: top;\n",
       "    }\n",
       "\n",
       "    .dataframe thead th {\n",
       "        text-align: right;\n",
       "    }\n",
       "</style>\n",
       "<table border=\"1\" class=\"dataframe\">\n",
       "  <thead>\n",
       "    <tr style=\"text-align: right;\">\n",
       "      <th></th>\n",
       "      <th>0</th>\n",
       "      <th>1</th>\n",
       "      <th>2</th>\n",
       "      <th>3</th>\n",
       "      <th>4</th>\n",
       "      <th>5</th>\n",
       "      <th>6</th>\n",
       "    </tr>\n",
       "  </thead>\n",
       "  <tbody>\n",
       "    <tr>\n",
       "      <th>count</th>\n",
       "      <td>9.940000e+02</td>\n",
       "      <td>9.940000e+02</td>\n",
       "      <td>9.940000e+02</td>\n",
       "      <td>9.940000e+02</td>\n",
       "      <td>9.940000e+02</td>\n",
       "      <td>9.940000e+02</td>\n",
       "      <td>9.940000e+02</td>\n",
       "    </tr>\n",
       "    <tr>\n",
<<<<<<< HEAD
       "      <th>mean</th>\n",
       "      <td>-1.992593e-16</td>\n",
       "      <td>-3.413321e-16</td>\n",
       "      <td>-6.683677e-16</td>\n",
       "      <td>-7.148317e-17</td>\n",
       "      <td>4.378344e-16</td>\n",
       "      <td>5.146788e-16</td>\n",
       "      <td>-5.128918e-16</td>\n",
=======
       "      <td>mean</td>\n",
       "      <td>-1.733467e-16</td>\n",
       "      <td>7.148317e-17</td>\n",
       "      <td>-1.983658e-16</td>\n",
       "      <td>-5.897362e-17</td>\n",
       "      <td>-1.483276e-16</td>\n",
       "      <td>5.861620e-16</td>\n",
       "      <td>-5.361238e-17</td>\n",
>>>>>>> 802d7cb5ee1de74ea5eab8b1b22a174e132805b1
       "    </tr>\n",
       "    <tr>\n",
       "      <th>std</th>\n",
       "      <td>1.000503e+00</td>\n",
       "      <td>1.000503e+00</td>\n",
       "      <td>1.000503e+00</td>\n",
       "      <td>1.000503e+00</td>\n",
       "      <td>1.000503e+00</td>\n",
       "      <td>1.000503e+00</td>\n",
       "      <td>1.000503e+00</td>\n",
       "    </tr>\n",
       "    <tr>\n",
<<<<<<< HEAD
       "      <th>min</th>\n",
       "      <td>-2.907268e+00</td>\n",
       "      <td>-2.988542e+00</td>\n",
       "      <td>-3.587171e+00</td>\n",
       "      <td>-1.660068e+00</td>\n",
       "      <td>-8.267739e-02</td>\n",
       "      <td>-2.011451e+00</td>\n",
       "      <td>-2.583151e+00</td>\n",
       "    </tr>\n",
       "    <tr>\n",
       "      <th>25%</th>\n",
       "      <td>-6.448203e-01</td>\n",
       "      <td>-6.434933e-01</td>\n",
       "      <td>-3.678479e-01</td>\n",
       "      <td>-5.732543e-01</td>\n",
       "      <td>-8.267739e-02</td>\n",
       "      <td>-1.470280e-01</td>\n",
       "      <td>-4.981716e-01</td>\n",
       "    </tr>\n",
       "    <tr>\n",
       "      <th>50%</th>\n",
       "      <td>-1.169159e-01</td>\n",
       "      <td>-7.744698e-02</td>\n",
       "      <td>1.274326e-01</td>\n",
       "      <td>-2.536031e-01</td>\n",
       "      <td>-8.267739e-02</td>\n",
       "      <td>1.747990e-02</td>\n",
       "      <td>-4.981716e-01</td>\n",
       "    </tr>\n",
       "    <tr>\n",
       "      <th>75%</th>\n",
       "      <td>4.864035e-01</td>\n",
       "      <td>5.694631e-01</td>\n",
       "      <td>6.227131e-01</td>\n",
       "      <td>2.578387e-01</td>\n",
       "      <td>-8.267739e-02</td>\n",
       "      <td>1.271518e-01</td>\n",
       "      <td>7.045910e-02</td>\n",
       "    </tr>\n",
       "    <tr>\n",
       "      <th>max</th>\n",
       "      <td>3.804660e+00</td>\n",
       "      <td>4.046605e+00</td>\n",
       "      <td>3.594396e+00</td>\n",
       "      <td>1.752365e+01</td>\n",
       "      <td>2.731627e+01</td>\n",
       "      <td>3.013041e+01</td>\n",
       "      <td>6.894028e+00</td>\n",
=======
       "      <td>min</td>\n",
       "      <td>-2.909076e+00</td>\n",
       "      <td>-2.978153e+00</td>\n",
       "      <td>-1.274358e+00</td>\n",
       "      <td>-2.010340e+00</td>\n",
       "      <td>-6.299845e-02</td>\n",
       "      <td>-9.088876e+00</td>\n",
       "      <td>-1.573921e+00</td>\n",
       "    </tr>\n",
       "    <tr>\n",
       "      <td>25%</td>\n",
       "      <td>-6.636795e-01</td>\n",
       "      <td>-6.606460e-01</td>\n",
       "      <td>-1.708463e-01</td>\n",
       "      <td>-6.787291e-01</td>\n",
       "      <td>-6.299845e-02</td>\n",
       "      <td>-4.100053e-01</td>\n",
       "      <td>-5.286555e-01</td>\n",
       "    </tr>\n",
       "    <tr>\n",
       "      <td>50%</td>\n",
       "      <td>-1.023304e-01</td>\n",
       "      <td>-8.126928e-02</td>\n",
       "      <td>-1.075243e-03</td>\n",
       "      <td>-2.870788e-01</td>\n",
       "      <td>-6.299845e-02</td>\n",
       "      <td>1.324241e-01</td>\n",
       "      <td>-5.286555e-01</td>\n",
       "    </tr>\n",
       "    <tr>\n",
       "      <td>75%</td>\n",
       "      <td>4.590186e-01</td>\n",
       "      <td>5.808755e-01</td>\n",
       "      <td>1.686958e-01</td>\n",
       "      <td>3.395615e-01</td>\n",
       "      <td>-6.299845e-02</td>\n",
       "      <td>4.940437e-01</td>\n",
       "      <td>1.365136e-01</td>\n",
       "    </tr>\n",
       "    <tr>\n",
       "      <td>max</td>\n",
       "      <td>3.752267e+00</td>\n",
       "      <td>3.643295e+00</td>\n",
       "      <td>2.967414e+01</td>\n",
       "      <td>5.822665e+00</td>\n",
       "      <td>2.884316e+01</td>\n",
       "      <td>4.110240e+00</td>\n",
       "      <td>6.883229e+00</td>\n",
>>>>>>> 802d7cb5ee1de74ea5eab8b1b22a174e132805b1
       "    </tr>\n",
       "  </tbody>\n",
       "</table>\n",
       "</div>"
      ],
      "text/plain": [
       "                  0             1             2             3             4  \\\n",
       "count  9.940000e+02  9.940000e+02  9.940000e+02  9.940000e+02  9.940000e+02   \n",
       "mean  -1.733467e-16  7.148317e-17 -1.983658e-16 -5.897362e-17 -1.483276e-16   \n",
       "std    1.000503e+00  1.000503e+00  1.000503e+00  1.000503e+00  1.000503e+00   \n",
       "min   -2.909076e+00 -2.978153e+00 -1.274358e+00 -2.010340e+00 -6.299845e-02   \n",
       "25%   -6.636795e-01 -6.606460e-01 -1.708463e-01 -6.787291e-01 -6.299845e-02   \n",
       "50%   -1.023304e-01 -8.126928e-02 -1.075243e-03 -2.870788e-01 -6.299845e-02   \n",
       "75%    4.590186e-01  5.808755e-01  1.686958e-01  3.395615e-01 -6.299845e-02   \n",
       "max    3.752267e+00  3.643295e+00  2.967414e+01  5.822665e+00  2.884316e+01   \n",
       "\n",
       "                  5             6  \n",
       "count  9.940000e+02  9.940000e+02  \n",
       "mean   5.861620e-16 -5.361238e-17  \n",
       "std    1.000503e+00  1.000503e+00  \n",
       "min   -9.088876e+00 -1.573921e+00  \n",
       "25%   -4.100053e-01 -5.286555e-01  \n",
       "50%    1.324241e-01 -5.286555e-01  \n",
       "75%    4.940437e-01  1.365136e-01  \n",
       "max    4.110240e+00  6.883229e+00  "
      ]
     },
<<<<<<< HEAD
     "execution_count": 24,
=======
     "execution_count": 88,
>>>>>>> 802d7cb5ee1de74ea5eab8b1b22a174e132805b1
     "metadata": {},
     "output_type": "execute_result"
    }
   ],
   "source": [
    "X_train_std.describe()"
   ]
  },
  {
   "cell_type": "code",
<<<<<<< HEAD
   "execution_count": 25,
=======
   "execution_count": 89,
>>>>>>> 802d7cb5ee1de74ea5eab8b1b22a174e132805b1
   "metadata": {},
   "outputs": [
    {
     "data": {
      "text/html": [
       "<div>\n",
       "<style scoped>\n",
       "    .dataframe tbody tr th:only-of-type {\n",
       "        vertical-align: middle;\n",
       "    }\n",
       "\n",
       "    .dataframe tbody tr th {\n",
       "        vertical-align: top;\n",
       "    }\n",
       "\n",
       "    .dataframe thead th {\n",
       "        text-align: right;\n",
       "    }\n",
       "</style>\n",
       "<table border=\"1\" class=\"dataframe\">\n",
       "  <thead>\n",
       "    <tr style=\"text-align: right;\">\n",
       "      <th></th>\n",
       "      <th>0</th>\n",
       "      <th>1</th>\n",
       "      <th>2</th>\n",
       "      <th>3</th>\n",
       "      <th>4</th>\n",
       "      <th>5</th>\n",
       "      <th>6</th>\n",
       "    </tr>\n",
       "  </thead>\n",
       "  <tbody>\n",
       "    <tr>\n",
       "      <th>count</th>\n",
       "      <td>994.000000</td>\n",
       "      <td>994.000000</td>\n",
       "      <td>994.000000</td>\n",
       "      <td>994.000000</td>\n",
       "      <td>994.000000</td>\n",
       "      <td>994.000000</td>\n",
       "      <td>994.000000</td>\n",
       "    </tr>\n",
       "    <tr>\n",
<<<<<<< HEAD
       "      <th>mean</th>\n",
       "      <td>0.406754</td>\n",
       "      <td>0.411189</td>\n",
       "      <td>0.416882</td>\n",
       "      <td>0.211212</td>\n",
       "      <td>0.422778</td>\n",
       "      <td>0.419086</td>\n",
       "      <td>0.226347</td>\n",
       "    </tr>\n",
       "    <tr>\n",
       "      <th>std</th>\n",
       "      <td>0.083601</td>\n",
       "      <td>0.080846</td>\n",
       "      <td>0.075656</td>\n",
       "      <td>0.098537</td>\n",
       "      <td>0.050995</td>\n",
       "      <td>0.057508</td>\n",
       "      <td>0.081494</td>\n",
=======
       "      <td>mean</td>\n",
       "      <td>0.408672</td>\n",
       "      <td>0.410853</td>\n",
       "      <td>0.419929</td>\n",
       "      <td>0.209960</td>\n",
       "      <td>0.420194</td>\n",
       "      <td>0.418493</td>\n",
       "      <td>0.228582</td>\n",
       "    </tr>\n",
       "    <tr>\n",
       "      <td>std</td>\n",
       "      <td>0.084003</td>\n",
       "      <td>0.078507</td>\n",
       "      <td>0.075246</td>\n",
       "      <td>0.094332</td>\n",
       "      <td>0.046657</td>\n",
       "      <td>0.055601</td>\n",
       "      <td>0.082499</td>\n",
>>>>>>> 802d7cb5ee1de74ea5eab8b1b22a174e132805b1
       "    </tr>\n",
       "    <tr>\n",
       "      <th>min</th>\n",
       "      <td>0.052470</td>\n",
       "      <td>0.044185</td>\n",
       "      <td>0.187786</td>\n",
       "      <td>0.000000</td>\n",
       "      <td>0.066121</td>\n",
       "      <td>0.000000</td>\n",
       "      <td>0.029093</td>\n",
       "    </tr>\n",
       "    <tr>\n",
<<<<<<< HEAD
       "      <th>25%</th>\n",
       "      <td>0.355770</td>\n",
       "      <td>0.361875</td>\n",
       "      <td>0.371220</td>\n",
       "      <td>0.145633</td>\n",
       "      <td>0.394632</td>\n",
       "      <td>0.389207</td>\n",
       "      <td>0.179835</td>\n",
       "    </tr>\n",
       "    <tr>\n",
       "      <th>50%</th>\n",
       "      <td>0.406271</td>\n",
       "      <td>0.412508</td>\n",
       "      <td>0.424963</td>\n",
       "      <td>0.184441</td>\n",
       "      <td>0.420554</td>\n",
       "      <td>0.423383</td>\n",
       "      <td>0.200083</td>\n",
       "    </tr>\n",
       "    <tr>\n",
       "      <th>75%</th>\n",
       "      <td>0.456992</td>\n",
       "      <td>0.459549</td>\n",
       "      <td>0.468125</td>\n",
       "      <td>0.247616</td>\n",
       "      <td>0.446981</td>\n",
       "      <td>0.453539</td>\n",
       "      <td>0.246813</td>\n",
       "    </tr>\n",
       "    <tr>\n",
       "      <th>max</th>\n",
       "      <td>0.686168</td>\n",
       "      <td>0.700569</td>\n",
       "      <td>0.617031</td>\n",
       "      <td>0.949385</td>\n",
=======
       "      <td>25%</td>\n",
       "      <td>0.356077</td>\n",
       "      <td>0.361941</td>\n",
       "      <td>0.376979</td>\n",
       "      <td>0.146459</td>\n",
       "      <td>0.393065</td>\n",
       "      <td>0.391029</td>\n",
       "      <td>0.180612</td>\n",
       "    </tr>\n",
       "    <tr>\n",
       "      <td>50%</td>\n",
       "      <td>0.409988</td>\n",
       "      <td>0.410942</td>\n",
       "      <td>0.427401</td>\n",
       "      <td>0.187029</td>\n",
       "      <td>0.419458</td>\n",
       "      <td>0.423471</td>\n",
       "      <td>0.199975</td>\n",
       "    </tr>\n",
       "    <tr>\n",
       "      <td>75%</td>\n",
       "      <td>0.457025</td>\n",
       "      <td>0.456000</td>\n",
       "      <td>0.469073</td>\n",
       "      <td>0.250758</td>\n",
       "      <td>0.444853</td>\n",
       "      <td>0.452314</td>\n",
       "      <td>0.251012</td>\n",
       "    </tr>\n",
       "    <tr>\n",
       "      <td>max</td>\n",
       "      <td>0.653539</td>\n",
       "      <td>0.695224</td>\n",
       "      <td>0.992055</td>\n",
       "      <td>0.666815</td>\n",
>>>>>>> 802d7cb5ee1de74ea5eab8b1b22a174e132805b1
       "      <td>0.966781</td>\n",
       "      <td>0.571965</td>\n",
       "      <td>0.665396</td>\n",
       "    </tr>\n",
       "  </tbody>\n",
       "</table>\n",
       "</div>"
      ],
      "text/plain": [
       "                0           1           2           3           4           5  \\\n",
       "count  994.000000  994.000000  994.000000  994.000000  994.000000  994.000000   \n",
       "mean     0.408672    0.410853    0.419929    0.209960    0.420194    0.418493   \n",
       "std      0.084003    0.078507    0.075246    0.094332    0.046657    0.055601   \n",
       "min      0.052470    0.044185    0.187786    0.000000    0.066121    0.000000   \n",
       "25%      0.356077    0.361941    0.376979    0.146459    0.393065    0.391029   \n",
       "50%      0.409988    0.410942    0.427401    0.187029    0.419458    0.423471   \n",
       "75%      0.457025    0.456000    0.469073    0.250758    0.444853    0.452314   \n",
       "max      0.653539    0.695224    0.992055    0.666815    0.966781    0.571965   \n",
       "\n",
       "                6  \n",
       "count  994.000000  \n",
       "mean     0.228582  \n",
       "std      0.082499  \n",
       "min      0.029093  \n",
       "25%      0.180612  \n",
       "50%      0.199975  \n",
       "75%      0.251012  \n",
       "max      0.665396  "
      ]
     },
<<<<<<< HEAD
     "execution_count": 25,
=======
     "execution_count": 89,
>>>>>>> 802d7cb5ee1de74ea5eab8b1b22a174e132805b1
     "metadata": {},
     "output_type": "execute_result"
    }
   ],
   "source": [
    "X_train_norm.describe()"
   ]
  },
  {
   "cell_type": "code",
<<<<<<< HEAD
   "execution_count": 26,
=======
   "execution_count": 90,
>>>>>>> 802d7cb5ee1de74ea5eab8b1b22a174e132805b1
   "metadata": {},
   "outputs": [],
   "source": [
    "from sklearn.neighbors import KNeighborsClassifier\n",
    "from sklearn.tree import DecisionTreeClassifier"
   ]
  },
  {
   "cell_type": "code",
<<<<<<< HEAD
   "execution_count": 27,
=======
   "execution_count": 91,
>>>>>>> 802d7cb5ee1de74ea5eab8b1b22a174e132805b1
   "metadata": {},
   "outputs": [],
   "source": [
    "# initialize the classifiers with optimal starting attributes\n",
    "knn_10 = KNeighborsClassifier(n_neighbors=10, p=2)\n",
    "knn = KNeighborsClassifier(n_neighbors=5, p=2)\n",
    "dtc = DecisionTreeClassifier(criterion = \"entropy\", max_depth = 10)"
   ]
  },
  {
   "cell_type": "code",
<<<<<<< HEAD
   "execution_count": 28,
=======
   "execution_count": 92,
>>>>>>> 802d7cb5ee1de74ea5eab8b1b22a174e132805b1
   "metadata": {},
   "outputs": [],
   "source": [
    "X_train = X_train_norm\n",
    "X_test = X_test_norm"
   ]
  },
  {
   "cell_type": "code",
<<<<<<< HEAD
   "execution_count": 29,
   "metadata": {},
   "outputs": [],
   "source": [
    "#train the knn_5 and find the score\n",
=======
   "execution_count": 93,
   "metadata": {},
   "outputs": [],
   "source": [
    "# fit knn with 5 neighbours wihtout any feature engineering \n",
>>>>>>> 802d7cb5ee1de74ea5eab8b1b22a174e132805b1
    "knn.fit(X_train, y_train)\n",
    "score_train_knn = knn.score(X_train, y_train)\n",
    "score_test_knn = knn.score(X_test, y_test)\n",
    "\n",
<<<<<<< HEAD
    "\n",
    "#train the knn_10 and find the score\n",
=======
    "# fit knn without any feature engineering\n",
>>>>>>> 802d7cb5ee1de74ea5eab8b1b22a174e132805b1
    "knn_10.fit(X_train, y_train)\n",
    "score_train_knn_10 = knn_10.score(X_train, y_train)\n",
    "score_test_knn_10 = knn_10.score(X_test, y_test)"
   ]
  },
  {
   "cell_type": "code",
<<<<<<< HEAD
   "execution_count": 30,
=======
   "execution_count": 94,
>>>>>>> 802d7cb5ee1de74ea5eab8b1b22a174e132805b1
   "metadata": {},
   "outputs": [
    {
     "name": "stdout",
     "output_type": "stream",
     "text": [
      "0.8008048289738431    training k = 5\n",
      "0.6693877551020408    test k = 5\n",
      "0.7535211267605634    training k = 10\n",
      "0.6918367346938775    test k = 10\n"
     ]
    }
   ],
   "source": [
    "print(score_train_knn, \"   training k = 5\")\n",
    "print(score_test_knn, \"   test k = 5\")\n",
    "\n",
    "\n",
    "print(score_train_knn_10, \"   training k = 10\")\n",
    "print(score_test_knn_10, \"   test k = 10\")"
   ]
  },
  {
   "cell_type": "markdown",
   "metadata": {},
   "source": [
    "### Section 2: Feature Engineering"
   ]
  },
  {
   "cell_type": "code",
<<<<<<< HEAD
   "execution_count": 31,
=======
   "execution_count": 95,
>>>>>>> 802d7cb5ee1de74ea5eab8b1b22a174e132805b1
   "metadata": {},
   "outputs": [],
   "source": [
    "from sklearn.preprocessing import KBinsDiscretizer\n",
    "#function for training a decision tree and finding the scores when fitting the model with the testing data\n",
    "def dtc_fitting(X_train, X_test, num_bins):\n",
    "    \n",
    "    #initiate the descretizer\n",
    "    enc = KBinsDiscretizer(n_bins=num_bins, encode='ordinal')\n",
    "\n",
    "    #find the binned values of the training and testing sets\n",
    "    X_binned = enc.fit_transform(X_train)\n",
    "    X_binned_test = enc.transform(X_test)\n",
    "\n",
    "    #train the decision tree\n",
    "    dtc.fit(X_binned, y_train)\n",
    "    \n",
    "    #find the training and testing scores from the decision tree\n",
    "    score_dtc = dtc.score(X_binned, y_train)\n",
    "    score_test_dtc = dtc.score(X_binned_test, y_test)\n",
    "    return score_dtc, score_test_dtc"
   ]
  },
  {
   "cell_type": "code",
<<<<<<< HEAD
   "execution_count": 32,
   "metadata": {},
   "outputs": [],
   "source": [
    "#this seciton finds the most optimal value for the number of bins for the KBins.\n",
    "\n",
    "# from collections import defaultdict as dd\n",
    "# d = dd(int)\n",
    "# for j in range (50):\n",
    "#     score = 0\n",
    "#     score_test = 0\n",
    "#     n_value = 0\n",
    "#     for i in range (2, 100):\n",
    "#         score_dtc, score_test_dtc = dtc_fitting(X_train, X_test, i)\n",
    "#         if score_test_dtc > score_test:\n",
    "#             score = score_dtc\n",
    "#             score_test = score_test_dtc\n",
    "#             n_value = i\n",
    "#     d[n_value] += 1"
   ]
  },
  {
   "cell_type": "code",
   "execution_count": 33,
=======
   "execution_count": 96,
>>>>>>> 802d7cb5ee1de74ea5eab8b1b22a174e132805b1
   "metadata": {},
   "outputs": [
    {
     "name": "stdout",
     "output_type": "stream",
     "text": [
<<<<<<< HEAD
      "best score value for the training set is:  0.8893360160965795\n",
      "best score value for the test set is:  0.6632653061224489\n"
=======
      "best score value for the training set is:  0.7203219315895373\n",
      "best score value for the test set is:  0.6979591836734694\n"
>>>>>>> 802d7cb5ee1de74ea5eab8b1b22a174e132805b1
     ]
    }
   ],
   "source": [
    "score_dtc, score_test_dtc = dtc_fitting(X_train, X_test, 9)\n",
    "print(\"best score value for the training set is: \", score_dtc)\n",
    "print(\"best score value for the test set is: \", score_test_dtc)"
   ]
  },
  {
   "cell_type": "code",
<<<<<<< HEAD
   "execution_count": 34,
=======
   "execution_count": 97,
>>>>>>> 802d7cb5ee1de74ea5eab8b1b22a174e132805b1
   "metadata": {},
   "outputs": [],
   "source": [
    "#make new columns by multiplying two columns of the original dataset\n",
    "def pair_interaction_featurize(X):\n",
    "    features_multiplied = pd.DataFrame()\n",
    "    for i in X:\n",
    "        for j in X:\n",
    "            if int(j) > int(i):\n",
    "                col1 = pd.Series(X[i])\n",
    "                col2 = pd.Series(X[j])\n",
    "                col1 = col1.mul(col2)\n",
    "                features_multiplied[int(str(i) + str(j))] = col1 \n",
    "    generated_features = pd.concat([features_multiplied, X], axis=1)\n",
    "    return features_multiplied\n",
    "\n",
    "         \n",
    "X_train_interaction_pair = pair_interaction_featurize(X_train)\n",
    "X_test_interaction_pair = pair_interaction_featurize(X_test)"
   ]
  },
  {
   "cell_type": "code",
<<<<<<< HEAD
   "execution_count": 35,
=======
   "execution_count": 98,
>>>>>>> 802d7cb5ee1de74ea5eab8b1b22a174e132805b1
   "metadata": {},
   "outputs": [],
   "source": [
    "from sklearn.feature_selection import mutual_info_classif\n",
    "\n",
<<<<<<< HEAD
    "#make a new descretizer using nine bins\n",
=======
    "# get bins\n",
>>>>>>> 802d7cb5ee1de74ea5eab8b1b22a174e132805b1
    "enc_mi = KBinsDiscretizer(n_bins = OPTIMAL_BIN_VALUE, encode = \"ordinal\")\n",
    "X_binned_mi = enc_mi.fit_transform(X_train_interaction_pair)\n",
    "X_binned_test_mi = enc_mi.transform(X_test_interaction_pair)\n",
    "\n",
    "mutual_info_classifier = mutual_info_classif(X_binned_mi, y_train)\n",
    "\n",
    "#find mutual information between each of the columns and the y labels\n",
    "entropy_with_index = sorted([(index, el) for index, el in zip(mutual_info_classifier, X_train_interaction_pair.columns)], key=lambda x: x[0], reverse=True)\n",
    "\n"
   ]
  },
  {
   "cell_type": "code",
<<<<<<< HEAD
   "execution_count": 36,
=======
   "execution_count": 99,
>>>>>>> 802d7cb5ee1de74ea5eab8b1b22a174e132805b1
   "metadata": {},
   "outputs": [],
   "source": [
    "scores_train = []\n",
    "scores_test = []\n",
    "for i in range(1, len(entropy_with_index) + 1):\n",
    "    columns = [i[1] for i in entropy_with_index[0:i]]\n",
    "    knn_10.fit(X_train_interaction_pair[columns], y_train)\n",
    "    score_train  = knn_10.score(X_train_interaction_pair[columns], y_train)\n",
    "    score_test  = knn_10.score(X_test_interaction_pair[columns], y_test)\n",
    "    scores_train.append(score_train)\n",
    "    scores_test.append(score_test)"
   ]
  },
  {
   "cell_type": "code",
<<<<<<< HEAD
   "execution_count": 37,
=======
   "execution_count": 100,
>>>>>>> 802d7cb5ee1de74ea5eab8b1b22a174e132805b1
   "metadata": {},
   "outputs": [
    {
     "name": "stdout",
     "output_type": "stream",
     "text": [
<<<<<<< HEAD
      "0.7142857142857143 test score\n",
      "0.7706237424547284 training score\n",
      "12 index for the highest knn test score\n"
=======
      "0.710204081632653 test score\n"
>>>>>>> 802d7cb5ee1de74ea5eab8b1b22a174e132805b1
     ]
    },
    {
     "data": {
<<<<<<< HEAD
      "image/png": "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\n",
=======
      "image/png": "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\n",
>>>>>>> 802d7cb5ee1de74ea5eab8b1b22a174e132805b1
      "text/plain": [
       "<Figure size 432x288 with 1 Axes>"
      ]
     },
     "metadata": {
      "needs_background": "light"
     },
     "output_type": "display_data"
    }
   ],
   "source": [
    "#find the highest testing score and the corresponding score\n",
    "range_n = range(1, len(entropy_with_index) + 1)    \n",
    "op = plt.plot(range_n, scores_test)\n",
    "plt.setp(op,'marker', 'x')\n",
    "plt.xlabel(\"the nth first high entropy columns\")\n",
    "plt.xticks(range_n)\n",
    "plt.ylabel(\"Score\")\n",
    "print(max(scores_test), \"test score\")\n",
    "print(scores_train[scores_test.index(max(scores_test))], \"training score\")\n",
    "print(scores_test.index(max(scores_test)) + 1, \"index for the highest knn test score\")\n",
    "plt.show()"
   ]
  },
  {
   "cell_type": "code",
<<<<<<< HEAD
   "execution_count": 38,
=======
   "execution_count": 108,
>>>>>>> 802d7cb5ee1de74ea5eab8b1b22a174e132805b1
   "metadata": {},
   "outputs": [],
   "source": [
    "#create new columns with the labels from fitting the data into a kmeans classifier ranging from 2 clusters up to KMEANS_RANGE-1 clusters\n",
    "def kmeans_interaction_featurize(X, X_binned):\n",
    "    \"\"\" \n",
    "    Generate interaction pairs for kmeans\n",
    "    \"\"\"\n",
    "    kmeans = []\n",
    "    KMEANS_RANGE = 3\n",
    "    generated_features_kmeans = pd.DataFrame()\n",
    "    for i in range(2, KMEANS_RANGE):\n",
    "        kmeans.append(KMeans(n_clusters=i, random_state = 0).fit(X))\n",
    "        generated_features_kmeans[int(str(1) + str(i))] = kmeans[i-2].predict(X)\n",
    "    generated_features_kmeans = pd.concat([generated_features_kmeans, X_binned], axis=1)\n",
    "    return generated_features_kmeans"
   ]
  },
  {
   "cell_type": "code",
<<<<<<< HEAD
   "execution_count": 39,
=======
   "execution_count": 102,
>>>>>>> 802d7cb5ee1de74ea5eab8b1b22a174e132805b1
   "metadata": {},
   "outputs": [],
   "source": [
    "from sklearn.cluster import KMeans\n",
    "X_binned_kmeans = enc_mi.fit_transform(X_train)\n",
    "X_binned_test_kmeans = enc_mi.transform(X_test)"
   ]
  },
  {
   "cell_type": "code",
<<<<<<< HEAD
   "execution_count": 40,
=======
   "execution_count": 103,
>>>>>>> 802d7cb5ee1de74ea5eab8b1b22a174e132805b1
   "metadata": {},
   "outputs": [],
   "source": [
    "enc_mi = KBinsDiscretizer(n_bins = OPTIMAL_BIN_VALUE, encode = \"ordinal\")\n",
    "X_binned_mi = pd.DataFrame(enc_mi.fit_transform(X_train))\n",
    "X_binned_test_mi = pd.DataFrame(enc_mi.transform(X_test))"
   ]
  },
  {
   "cell_type": "code",
<<<<<<< HEAD
   "execution_count": 41,
=======
   "execution_count": 104,
>>>>>>> 802d7cb5ee1de74ea5eab8b1b22a174e132805b1
   "metadata": {},
   "outputs": [],
   "source": [
    "X_train_kmeans = kmeans_interaction_featurize(X_train, X_binned_mi)\n",
    "X_test_kmeans = kmeans_interaction_featurize(X_test, X_binned_test_mi)"
   ]
  },
  {
   "cell_type": "code",
<<<<<<< HEAD
   "execution_count": 42,
=======
   "execution_count": 105,
>>>>>>> 802d7cb5ee1de74ea5eab8b1b22a174e132805b1
   "metadata": {},
   "outputs": [
    {
     "data": {
      "text/plain": [
<<<<<<< HEAD
       "[(0.07507816430835579, 2),\n",
       " (0.04008766292806687, 4),\n",
       " (0.02477321864008153, 5),\n",
       " (0.02064480752597997, 3),\n",
       " (0.014510418343300246, 6),\n",
       " (0.01240503605762977, 12),\n",
       " (0.0, 0),\n",
       " (0.0, 1)]"
      ]
     },
     "execution_count": 42,
=======
       "[(0.11001182781738028, 115),\n",
       " (0.08256276852702937, 19),\n",
       " (0.08192936118263794, 112),\n",
       " (0.07638077107122032, 110),\n",
       " (0.07542831858746779, 111),\n",
       " (0.07217057249798065, 114),\n",
       " (0.07195863702213989, 113),\n",
       " (0.05860256493815985, 2),\n",
       " (0.05618870579083879, 15),\n",
       " (0.051470690504022976, 18),\n",
       " (0.039746426396056744, 4),\n",
       " (0.03616731891543279, 17),\n",
       " (0.018598184492989445, 3),\n",
       " (0.018394689385766494, 13),\n",
       " (0.014345198973582551, 1),\n",
       " (0.013907822514178658, 16),\n",
       " (0.012266314172278081, 0),\n",
       " (0.009771557965323918, 12),\n",
       " (0.008449720527085702, 14),\n",
       " (0.0, 5),\n",
       " (0.0, 6)]"
      ]
     },
     "execution_count": 105,
>>>>>>> 802d7cb5ee1de74ea5eab8b1b22a174e132805b1
     "metadata": {},
     "output_type": "execute_result"
    }
   ],
   "source": [
    "from sklearn.feature_selection import mutual_info_classif\n",
<<<<<<< HEAD
=======
    "\n",
    "# get the top rows that have the highest information gain\n",
>>>>>>> 802d7cb5ee1de74ea5eab8b1b22a174e132805b1
    "mutual_info_classifier = mutual_info_classif(X_train_kmeans, y_train)\n",
    "\n",
    "#find mutual information between each of the columns and the y labels\n",
    "entropy_with_index = sorted([(index, el) for index, el in zip(mutual_info_classifier, X_train_kmeans.columns)], key=lambda x: x[0], reverse=True)\n",
    "\n",
    "entropy_with_index"
   ]
  },
  {
   "cell_type": "code",
<<<<<<< HEAD
   "execution_count": 43,
=======
   "execution_count": 106,
>>>>>>> 802d7cb5ee1de74ea5eab8b1b22a174e132805b1
   "metadata": {},
   "outputs": [],
   "source": [
    "# fit the data and store the scores for later plot\n",
    "scores_train_kmeans = []\n",
    "scores_test_kmeans = []\n",
    "# find the scores of fitting the testing set to the model\n",
    "for i in range(1, len(entropy_with_index) + 1):\n",
    "    columns = [i[1] for i in entropy_with_index[0:i]]\n",
    "    knn_10.fit(X_train_kmeans[columns], y_train)\n",
    "    score_train_kmeans  = knn_10.score(X_train_kmeans[columns], y_train)\n",
    "    score_test_kmeans  = knn_10.score(X_test_kmeans[columns], y_test)\n",
    "    scores_train_kmeans.append(score_train_kmeans)\n",
    "    scores_test_kmeans.append(score_test_kmeans)"
   ]
  },
  {
   "cell_type": "code",
<<<<<<< HEAD
   "execution_count": 44,
=======
   "execution_count": 107,
>>>>>>> 802d7cb5ee1de74ea5eab8b1b22a174e132805b1
   "metadata": {},
   "outputs": [
    {
     "name": "stdout",
     "output_type": "stream",
     "text": [
<<<<<<< HEAD
      "0.7545271629778671 training score\n",
      "0.7244897959183674 test score\n",
      "6 index for the highest knn test score\n"
=======
      "0.6775510204081633 test score\n"
>>>>>>> 802d7cb5ee1de74ea5eab8b1b22a174e132805b1
     ]
    },
    {
     "data": {
<<<<<<< HEAD
      "image/png": "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\n",
=======
      "image/png": "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\n",
>>>>>>> 802d7cb5ee1de74ea5eab8b1b22a174e132805b1
      "text/plain": [
       "<Figure size 432x288 with 1 Axes>"
      ]
     },
     "metadata": {
      "needs_background": "light"
     },
     "output_type": "display_data"
    }
   ],
   "source": [
    "import matplotlib.pyplot as plt\n",
    "range_n = range(1, len(entropy_with_index) + 1)    \n",
    "op = plt.plot(range_n, scores_test_kmeans)\n",
    "plt.setp(op,'marker', 'x')\n",
    "plt.xlabel(\"the nth first high entropy columns\")\n",
    "plt.xticks(range_n)\n",
    "plt.ylabel(\"Score\")\n",
    "print(scores_train_kmeans[scores_train_kmeans.index(max(scores_train_kmeans))], \"training score\")\n",
    "print(max(scores_test_kmeans), \"test score\")\n",
    "print(scores_test_kmeans.index(max(scores_test_kmeans)) + 1, \"index for the highest knn test score\")\n",
    "plt.show()"
   ]
  },
  {
   "cell_type": "code",
<<<<<<< HEAD
   "execution_count": 45,
=======
   "execution_count": 64,
>>>>>>> 802d7cb5ee1de74ea5eab8b1b22a174e132805b1
   "metadata": {},
   "outputs": [
    {
     "name": "stdout",
     "output_type": "stream",
     "text": [
      "0.6755102040816326  noraml knn 5\n",
      "0.6938775510204082  noraml knn 10\n",
      "0.7142857142857143  feature multiplied\n",
      "0.7244897959183674  feature kmeans\n"
     ]
    }
   ],
   "source": [
    "#test scores comparison\n",
    "print(score_test_knn, \" noraml knn 5\")\n",
    "print(score_test_knn_10, \" noraml knn 10\")\n",
    "print(max(scores_test), \" feature multiplied\")\n",
    "print(max(scores_test_kmeans), \" feature kmeans\")"
   ]
  },
  {
   "cell_type": "code",
   "execution_count": null,
   "metadata": {},
   "outputs": [],
   "source": []
  },
  {
   "cell_type": "code",
   "execution_count": null,
   "metadata": {},
   "outputs": [],
   "source": []
  }
 ],
 "metadata": {
  "kernelspec": {
   "display_name": "Python 3",
   "language": "python",
   "name": "python3"
  },
  "language_info": {
   "codemirror_mode": {
    "name": "ipython",
    "version": 3
   },
   "file_extension": ".py",
   "mimetype": "text/x-python",
   "name": "python",
   "nbconvert_exporter": "python",
   "pygments_lexer": "ipython3",
   "version": "3.7.3"
  }
 },
 "nbformat": 4,
 "nbformat_minor": 2
}
