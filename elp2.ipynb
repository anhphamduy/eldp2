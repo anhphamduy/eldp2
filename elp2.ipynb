{
 "cells": [
  {
   "cell_type": "code",
   "execution_count": 1,
   "metadata": {},
   "outputs": [],
   "source": [
    "import pandas as pd\n",
    "from constants import *\n",
    "from helpers import normalise_number_data, normalise_word_data\n",
    "import numpy as np\n",
    "from sklearn import preprocessing"
   ]
  },
  {
   "cell_type": "code",
   "execution_count": 2,
   "metadata": {},
   "outputs": [],
   "source": [
    "google_products = pd.read_csv(GOOGLE_SMALL_PATH)\n",
    "amazon_products = pd.read_csv(AMAZON_SMALL_PATH)"
   ]
  },
  {
   "cell_type": "code",
   "execution_count": 3,
   "metadata": {},
   "outputs": [],
   "source": [
    "google_products['price'] = normalise_number_data(google_products['price'])\n",
    "amazon_products['price'] = normalise_number_data(amazon_products['price'])"
   ]
  },
  {
   "cell_type": "code",
   "execution_count": 10,
   "metadata": {},
   "outputs": [],
   "source": [
    "google_products[['name']]\n",
    "google_word_columns = ['name', 'description', 'manufacturer']\n",
    "amazon_word_columns = ['title', 'description', 'manufacturer']"
   ]
  },
  {
   "cell_type": "code",
   "execution_count": 12,
   "metadata": {},
   "outputs": [
    {
     "data": {
      "text/html": [
       "<div>\n",
       "<style scoped>\n",
       "    .dataframe tbody tr th:only-of-type {\n",
       "        vertical-align: middle;\n",
       "    }\n",
       "\n",
       "    .dataframe tbody tr th {\n",
       "        vertical-align: top;\n",
       "    }\n",
       "\n",
       "    .dataframe thead th {\n",
       "        text-align: right;\n",
       "    }\n",
       "</style>\n",
       "<table border=\"1\" class=\"dataframe\">\n",
       "  <thead>\n",
       "    <tr style=\"text-align: right;\">\n",
       "      <th></th>\n",
       "      <th>name</th>\n",
       "      <th>description</th>\n",
       "      <th>manufacturer</th>\n",
       "    </tr>\n",
       "  </thead>\n",
       "  <tbody>\n",
       "    <tr>\n",
       "      <td>0</td>\n",
       "      <td>encore software 10599 - encore registry mechan...</td>\n",
       "      <td>encore software 10599 : pc tools registry mech...</td>\n",
       "      <td>NaN</td>\n",
       "    </tr>\n",
       "    <tr>\n",
       "      <td>1</td>\n",
       "      <td>adobe indesign cs3 for mac upgrade from pagemaker</td>\n",
       "      <td>system requirements powerpc g4 or g5 or intel ...</td>\n",
       "      <td>NaN</td>\n",
       "    </tr>\n",
       "    <tr>\n",
       "      <td>2</td>\n",
       "      <td>encore software 10568 - encore hoyle puzzle &amp; ...</td>\n",
       "      <td>encore software 10568 : with old classics and ...</td>\n",
       "      <td>NaN</td>\n",
       "    </tr>\n",
       "    <tr>\n",
       "      <td>3</td>\n",
       "      <td>school zone interactive multiplication &amp; divis...</td>\n",
       "      <td>multiplication &amp; division introduces mutliplic...</td>\n",
       "      <td>NaN</td>\n",
       "    </tr>\n",
       "    <tr>\n",
       "      <td>4</td>\n",
       "      <td>apple software m9953z/a remote desktop 2.2 10 ...</td>\n",
       "      <td>the 10-client version allows one administrator...</td>\n",
       "      <td>apple software</td>\n",
       "    </tr>\n",
       "    <tr>\n",
       "      <td>...</td>\n",
       "      <td>...</td>\n",
       "      <td>...</td>\n",
       "      <td>...</td>\n",
       "    </tr>\n",
       "    <tr>\n",
       "      <td>145</td>\n",
       "      <td>the printshop pro publisher v22 deluxe dvd-rom</td>\n",
       "      <td>overview create professional projects with all...</td>\n",
       "      <td>NaN</td>\n",
       "    </tr>\n",
       "    <tr>\n",
       "      <td>146</td>\n",
       "      <td>webroot software 65210 spy sweeper 3 pc</td>\n",
       "      <td>spy sweeper 4.5 with the most advanced blockin...</td>\n",
       "      <td>webroot software</td>\n",
       "    </tr>\n",
       "    <tr>\n",
       "      <td>147</td>\n",
       "      <td>microsoft b21-00806 ae mappoint 2006 cd</td>\n",
       "      <td>ae mappoint 2006 cd</td>\n",
       "      <td>NaN</td>\n",
       "    </tr>\n",
       "    <tr>\n",
       "      <td>148</td>\n",
       "      <td>emedia music corp my guitar</td>\n",
       "      <td>NaN</td>\n",
       "      <td>NaN</td>\n",
       "    </tr>\n",
       "    <tr>\n",
       "      <td>149</td>\n",
       "      <td>dreamcatcher interactive sentinel: descendants...</td>\n",
       "      <td>the tastan civilization succumbed to extinctio...</td>\n",
       "      <td>NaN</td>\n",
       "    </tr>\n",
       "  </tbody>\n",
       "</table>\n",
       "<p>150 rows × 3 columns</p>\n",
       "</div>"
      ],
      "text/plain": [
       "                                                  name  \\\n",
       "0    encore software 10599 - encore registry mechan...   \n",
       "1    adobe indesign cs3 for mac upgrade from pagemaker   \n",
       "2    encore software 10568 - encore hoyle puzzle & ...   \n",
       "3    school zone interactive multiplication & divis...   \n",
       "4    apple software m9953z/a remote desktop 2.2 10 ...   \n",
       "..                                                 ...   \n",
       "145     the printshop pro publisher v22 deluxe dvd-rom   \n",
       "146            webroot software 65210 spy sweeper 3 pc   \n",
       "147            microsoft b21-00806 ae mappoint 2006 cd   \n",
       "148                        emedia music corp my guitar   \n",
       "149  dreamcatcher interactive sentinel: descendants...   \n",
       "\n",
       "                                           description      manufacturer  \n",
       "0    encore software 10599 : pc tools registry mech...               NaN  \n",
       "1    system requirements powerpc g4 or g5 or intel ...               NaN  \n",
       "2    encore software 10568 : with old classics and ...               NaN  \n",
       "3    multiplication & division introduces mutliplic...               NaN  \n",
       "4    the 10-client version allows one administrator...    apple software  \n",
       "..                                                 ...               ...  \n",
       "145  overview create professional projects with all...               NaN  \n",
       "146  spy sweeper 4.5 with the most advanced blockin...  webroot software  \n",
       "147                                ae mappoint 2006 cd               NaN  \n",
       "148                                                NaN               NaN  \n",
       "149  the tastan civilization succumbed to extinctio...               NaN  \n",
       "\n",
       "[150 rows x 3 columns]"
      ]
     },
     "execution_count": 12,
     "metadata": {},
     "output_type": "execute_result"
    }
   ],
   "source": [
    "google_products[google_word_columns]"
   ]
  },
  {
   "cell_type": "code",
   "execution_count": null,
   "metadata": {},
   "outputs": [],
   "source": []
  }
 ],
 "metadata": {
  "kernelspec": {
   "display_name": "Python 3",
   "language": "python",
   "name": "python3"
  },
  "language_info": {
   "codemirror_mode": {
    "name": "ipython",
    "version": 3
   },
   "file_extension": ".py",
   "mimetype": "text/x-python",
   "name": "python",
   "nbconvert_exporter": "python",
   "pygments_lexer": "ipython3",
   "version": "3.6.8"
  }
 },
 "nbformat": 4,
 "nbformat_minor": 2
}
