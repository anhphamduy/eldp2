{
 "cells": [
  {
   "cell_type": "code",
   "execution_count": 1,
   "metadata": {},
   "outputs": [],
   "source": [
    "import pandas as pd\n",
    "from constants import *\n",
    "from helpers import normalise_number_data, normalise_word_data\n",
    "import numpy as np\n",
    "from sklearn import preprocessing\n",
    "import matplotlib.pyplot as plt\n",
    "import seaborn"
   ]
  },
  {
   "cell_type": "code",
   "execution_count": 2,
   "metadata": {},
   "outputs": [],
   "source": [
    "np.random.seed(524321)"
   ]
  },
  {
   "cell_type": "code",
   "execution_count": 3,
   "metadata": {},
   "outputs": [],
   "source": [
    "google_products = pd.read_csv(GOOGLE_SMALL_PATH)\n",
    "amazon_products = pd.read_csv(AMAZON_SMALL_PATH)"
   ]
  },
  {
   "cell_type": "code",
   "execution_count": 4,
   "metadata": {},
   "outputs": [],
   "source": [
    "google_products['price'] = normalise_number_data(google_products['price'])\n",
    "amazon_products['price'] = normalise_number_data(amazon_products['price'])"
   ]
  },
  {
   "cell_type": "code",
   "execution_count": 5,
   "metadata": {},
   "outputs": [],
   "source": [
    "google_products[['name']]\n",
    "google_word_columns = ['name', 'description', 'manufacturer']\n",
    "amazon_word_columns = ['title', 'description', 'manufacturer']"
   ]
  },
  {
   "cell_type": "code",
   "execution_count": 6,
   "metadata": {},
   "outputs": [],
   "source": [
    "google_products[google_word_columns] = normalise_word_data(google_products[google_word_columns].astype(str))\n",
    "amazon_products[amazon_word_columns] = normalise_word_data(amazon_products[amazon_word_columns].astype(str))"
   ]
  },
  {
   "cell_type": "markdown",
   "metadata": {},
   "source": [
    "## Part 2\n",
    "\n",
    "Since the column `Sample` is just an incremntal ID of the observation, we have not included it in the analysis. When including the column `pox` the bin width would be very small. As this is not practical when compared to the other columns (which require wider bin widths and more bins), we have excluded the column from any further analysis.\n",
    "\n",
    "### Pre-processing discussion\n",
    "From the distribution of the original dataset it is apparent that the majority of the data lies within range with a width of `0.1`. As a result, choosing median imputation would be favourable since outliers would not have as much affect with this strategy as opposed to mean imputation.\n",
    "\n",
    "### Comparing Classification Algorithms\n",
    "\n",
    "The aim is to find the classifying method that performs the best on the test data without either overfitting or underfitting on the training data.\n",
    "\n",
    "To achieve this goal we initially normalised the data by fitting the data to a standard noraml distribution. Then the results were used to train three different clissifying model:\n",
    "\n",
    "- KNN with 5 neighbours\n",
    "- KNN with 10 neighbours\n",
    "- decision tree classifier\n",
    "\n",
    "The classifier used at each stage was thr normal unmodified classifier offered by the library. This helped ensure consistency for the k_means classifiers as no other parameter but the number of neighbours was changed.\n",
    "\n",
    "Accuracies on training data:\n",
    "- 0.8098591549295775 for KNN with 5 neigbhours\n",
    "- 0.772635814889336 for KNN with 10 neighbours\n",
    "- 0.9849094567404426 for decision tree classifier\n",
    "\n",
    "Accuracies on test data:\n",
    "- 0.6816326530612244 for KNN with 5 neighbours\n",
    "- 0.6693877551020408 for KNN with 10 neighbours\n",
    "- 0.6714285714285714 for decision tree classifier\n",
    "\n",
    "\n",
    "The score for the dtc obtained on the training data suggests that the classifier is overly fitted to the training data. This implies that there is a high chance of the claddifier performing exceptionally on the test data but failing to predict feasible values on test data which it was not fitted to. The consequence of this is apparent on the results demonstrated above. The decision tree classifier performed well on the training data with a score of 0.98 whereas the test data only scored 0.67 which is clearly much lower than the training score.\n",
    "\n",
    "After multiple trials, it became evident that the results for the score were in the neighberhood of 0.67 and all of the classification methods seem to have achieved the same score of 0.67. Therefore, there is no clear advantage to any of the algorithms if all the parameters are set to their default settings from the parent library.\n",
    "\n",
    "## Feature Engineering\n",
    "\n",
    "\n"
   ]
  },
  {
   "cell_type": "code",
   "execution_count": 36,
   "metadata": {},
   "outputs": [],
   "source": [
    "yeast_data = pd.read_csv(YEAST_PATH)\n",
    "yeast_data['Class'] = yeast_data.Class.replace(to_replace=yeast_data.Class.unique(), value=[0, 1])"
   ]
  },
  {
   "cell_type": "code",
   "execution_count": 8,
   "metadata": {},
   "outputs": [],
   "source": [
    "from sklearn.impute import SimpleImputer    "
   ]
  },
  {
   "cell_type": "code",
   "execution_count": 9,
   "metadata": {},
   "outputs": [],
   "source": [
    "mean_imputer = SimpleImputer(missing_values=np.nan, strategy='mean')\n",
    "median_imputer = SimpleImputer(missing_values=np.nan, strategy='median')"
   ]
  },
  {
   "cell_type": "code",
   "execution_count": 10,
   "metadata": {},
   "outputs": [],
   "source": [
    "from sklearn.model_selection import train_test_split\n",
    "X_train, X_test, y_train, y_test = train_test_split(yeast_data.drop(['Class', 'pox', 'Sample'], axis=1), yeast_data['Class'], test_size=0.33)\n",
    "X_train_mean = pd.DataFrame(mean_imputer.fit_transform(X_train))\n",
    "X_train_median = pd.DataFrame(median_imputer.fit_transform(X_train))\n",
    "\n",
    "\n",
    "X_test_mean = pd.DataFrame(mean_imputer.fit_transform(X_test))\n",
    "X_test_median = pd.DataFrame(median_imputer.fit_transform(X_test))\n",
    "\n",
    "#Y = yeast_data['Class']"
   ]
  },
  {
   "cell_type": "code",
   "execution_count": 11,
   "metadata": {},
   "outputs": [
    {
     "data": {
      "text/html": [
       "<div>\n",
       "<style scoped>\n",
       "    .dataframe tbody tr th:only-of-type {\n",
       "        vertical-align: middle;\n",
       "    }\n",
       "\n",
       "    .dataframe tbody tr th {\n",
       "        vertical-align: top;\n",
       "    }\n",
       "\n",
       "    .dataframe thead th {\n",
       "        text-align: right;\n",
       "    }\n",
       "</style>\n",
       "<table border=\"1\" class=\"dataframe\">\n",
       "  <thead>\n",
       "    <tr style=\"text-align: right;\">\n",
       "      <th></th>\n",
       "      <th>0</th>\n",
       "      <th>1</th>\n",
       "      <th>2</th>\n",
       "      <th>3</th>\n",
       "      <th>4</th>\n",
       "      <th>5</th>\n",
       "      <th>6</th>\n",
       "    </tr>\n",
       "  </thead>\n",
       "  <tbody>\n",
       "    <tr>\n",
       "      <th>count</th>\n",
       "      <td>994.000000</td>\n",
       "      <td>994.000000</td>\n",
       "      <td>994.000000</td>\n",
       "      <td>994.000000</td>\n",
       "      <td>994.000000</td>\n",
       "      <td>994.000000</td>\n",
       "      <td>994.000000</td>\n",
       "    </tr>\n",
       "    <tr>\n",
       "      <th>mean</th>\n",
       "      <td>0.496754</td>\n",
       "      <td>0.495944</td>\n",
       "      <td>0.499978</td>\n",
       "      <td>0.262856</td>\n",
       "      <td>0.508274</td>\n",
       "      <td>0.504836</td>\n",
       "      <td>0.282707</td>\n",
       "    </tr>\n",
       "    <tr>\n",
       "      <th>std</th>\n",
       "      <td>0.131334</td>\n",
       "      <td>0.122079</td>\n",
       "      <td>0.085026</td>\n",
       "      <td>0.135795</td>\n",
       "      <td>0.107329</td>\n",
       "      <td>0.183955</td>\n",
       "      <td>0.171251</td>\n",
       "    </tr>\n",
       "    <tr>\n",
       "      <th>min</th>\n",
       "      <td>0.110000</td>\n",
       "      <td>0.130000</td>\n",
       "      <td>0.210000</td>\n",
       "      <td>0.000000</td>\n",
       "      <td>0.500000</td>\n",
       "      <td>0.000000</td>\n",
       "      <td>0.000000</td>\n",
       "    </tr>\n",
       "    <tr>\n",
       "      <th>25%</th>\n",
       "      <td>0.410000</td>\n",
       "      <td>0.420000</td>\n",
       "      <td>0.460000</td>\n",
       "      <td>0.170000</td>\n",
       "      <td>0.500000</td>\n",
       "      <td>0.480000</td>\n",
       "      <td>0.220000</td>\n",
       "    </tr>\n",
       "    <tr>\n",
       "      <th>50%</th>\n",
       "      <td>0.496754</td>\n",
       "      <td>0.490000</td>\n",
       "      <td>0.500000</td>\n",
       "      <td>0.230000</td>\n",
       "      <td>0.500000</td>\n",
       "      <td>0.504836</td>\n",
       "      <td>0.220000</td>\n",
       "    </tr>\n",
       "    <tr>\n",
       "      <th>75%</th>\n",
       "      <td>0.560000</td>\n",
       "      <td>0.570000</td>\n",
       "      <td>0.550000</td>\n",
       "      <td>0.300000</td>\n",
       "      <td>0.500000</td>\n",
       "      <td>0.530000</td>\n",
       "      <td>0.300000</td>\n",
       "    </tr>\n",
       "    <tr>\n",
       "      <th>max</th>\n",
       "      <td>1.000000</td>\n",
       "      <td>1.000000</td>\n",
       "      <td>1.000000</td>\n",
       "      <td>1.000000</td>\n",
       "      <td>3.500849</td>\n",
       "      <td>6.001456</td>\n",
       "      <td>4.501092</td>\n",
       "    </tr>\n",
       "  </tbody>\n",
       "</table>\n",
       "</div>"
      ],
      "text/plain": [
       "                0           1           2           3           4           5  \\\n",
       "count  994.000000  994.000000  994.000000  994.000000  994.000000  994.000000   \n",
       "mean     0.496754    0.495944    0.499978    0.262856    0.508274    0.504836   \n",
       "std      0.131334    0.122079    0.085026    0.135795    0.107329    0.183955   \n",
       "min      0.110000    0.130000    0.210000    0.000000    0.500000    0.000000   \n",
       "25%      0.410000    0.420000    0.460000    0.170000    0.500000    0.480000   \n",
       "50%      0.496754    0.490000    0.500000    0.230000    0.500000    0.504836   \n",
       "75%      0.560000    0.570000    0.550000    0.300000    0.500000    0.530000   \n",
       "max      1.000000    1.000000    1.000000    1.000000    3.500849    6.001456   \n",
       "\n",
       "                6  \n",
       "count  994.000000  \n",
       "mean     0.282707  \n",
       "std      0.171251  \n",
       "min      0.000000  \n",
       "25%      0.220000  \n",
       "50%      0.220000  \n",
       "75%      0.300000  \n",
       "max      4.501092  "
      ]
     },
     "execution_count": 11,
     "metadata": {},
     "output_type": "execute_result"
    }
   ],
   "source": [
    "X_train_mean.describe()"
   ]
  },
  {
   "cell_type": "code",
   "execution_count": 12,
   "metadata": {},
   "outputs": [
    {
     "data": {
      "text/html": [
       "<div>\n",
       "<style scoped>\n",
       "    .dataframe tbody tr th:only-of-type {\n",
       "        vertical-align: middle;\n",
       "    }\n",
       "\n",
       "    .dataframe tbody tr th {\n",
       "        vertical-align: top;\n",
       "    }\n",
       "\n",
       "    .dataframe thead th {\n",
       "        text-align: right;\n",
       "    }\n",
       "</style>\n",
       "<table border=\"1\" class=\"dataframe\">\n",
       "  <thead>\n",
       "    <tr style=\"text-align: right;\">\n",
       "      <th></th>\n",
       "      <th>0</th>\n",
       "      <th>1</th>\n",
       "      <th>2</th>\n",
       "      <th>3</th>\n",
       "      <th>4</th>\n",
       "      <th>5</th>\n",
       "      <th>6</th>\n",
       "    </tr>\n",
       "  </thead>\n",
       "  <tbody>\n",
       "    <tr>\n",
       "      <th>count</th>\n",
       "      <td>994.000000</td>\n",
       "      <td>994.000000</td>\n",
       "      <td>994.000000</td>\n",
       "      <td>994.000000</td>\n",
       "      <td>994.000000</td>\n",
       "      <td>994.000000</td>\n",
       "      <td>994.000000</td>\n",
       "    </tr>\n",
       "    <tr>\n",
       "      <th>mean</th>\n",
       "      <td>0.495372</td>\n",
       "      <td>0.495543</td>\n",
       "      <td>0.500795</td>\n",
       "      <td>0.259406</td>\n",
       "      <td>0.508049</td>\n",
       "      <td>0.505142</td>\n",
       "      <td>0.279679</td>\n",
       "    </tr>\n",
       "    <tr>\n",
       "      <th>std</th>\n",
       "      <td>0.131415</td>\n",
       "      <td>0.122105</td>\n",
       "      <td>0.085070</td>\n",
       "      <td>0.136295</td>\n",
       "      <td>0.107338</td>\n",
       "      <td>0.183959</td>\n",
       "      <td>0.171779</td>\n",
       "    </tr>\n",
       "    <tr>\n",
       "      <th>min</th>\n",
       "      <td>0.110000</td>\n",
       "      <td>0.130000</td>\n",
       "      <td>0.210000</td>\n",
       "      <td>0.000000</td>\n",
       "      <td>0.500000</td>\n",
       "      <td>0.000000</td>\n",
       "      <td>0.000000</td>\n",
       "    </tr>\n",
       "    <tr>\n",
       "      <th>25%</th>\n",
       "      <td>0.410000</td>\n",
       "      <td>0.420000</td>\n",
       "      <td>0.460000</td>\n",
       "      <td>0.170000</td>\n",
       "      <td>0.500000</td>\n",
       "      <td>0.480000</td>\n",
       "      <td>0.220000</td>\n",
       "    </tr>\n",
       "    <tr>\n",
       "      <th>50%</th>\n",
       "      <td>0.480000</td>\n",
       "      <td>0.480000</td>\n",
       "      <td>0.510000</td>\n",
       "      <td>0.220000</td>\n",
       "      <td>0.500000</td>\n",
       "      <td>0.510000</td>\n",
       "      <td>0.220000</td>\n",
       "    </tr>\n",
       "    <tr>\n",
       "      <th>75%</th>\n",
       "      <td>0.560000</td>\n",
       "      <td>0.570000</td>\n",
       "      <td>0.550000</td>\n",
       "      <td>0.300000</td>\n",
       "      <td>0.500000</td>\n",
       "      <td>0.530000</td>\n",
       "      <td>0.300000</td>\n",
       "    </tr>\n",
       "    <tr>\n",
       "      <th>max</th>\n",
       "      <td>1.000000</td>\n",
       "      <td>1.000000</td>\n",
       "      <td>1.000000</td>\n",
       "      <td>1.000000</td>\n",
       "      <td>3.500849</td>\n",
       "      <td>6.001456</td>\n",
       "      <td>4.501092</td>\n",
       "    </tr>\n",
       "  </tbody>\n",
       "</table>\n",
       "</div>"
      ],
      "text/plain": [
       "                0           1           2           3           4           5  \\\n",
       "count  994.000000  994.000000  994.000000  994.000000  994.000000  994.000000   \n",
       "mean     0.495372    0.495543    0.500795    0.259406    0.508049    0.505142   \n",
       "std      0.131415    0.122105    0.085070    0.136295    0.107338    0.183959   \n",
       "min      0.110000    0.130000    0.210000    0.000000    0.500000    0.000000   \n",
       "25%      0.410000    0.420000    0.460000    0.170000    0.500000    0.480000   \n",
       "50%      0.480000    0.480000    0.510000    0.220000    0.500000    0.510000   \n",
       "75%      0.560000    0.570000    0.550000    0.300000    0.500000    0.530000   \n",
       "max      1.000000    1.000000    1.000000    1.000000    3.500849    6.001456   \n",
       "\n",
       "                6  \n",
       "count  994.000000  \n",
       "mean     0.279679  \n",
       "std      0.171779  \n",
       "min      0.000000  \n",
       "25%      0.220000  \n",
       "50%      0.220000  \n",
       "75%      0.300000  \n",
       "max      4.501092  "
      ]
     },
     "execution_count": 12,
     "metadata": {},
     "output_type": "execute_result"
    }
   ],
   "source": [
    "X_train_median.describe()"
   ]
  },
  {
   "cell_type": "code",
   "execution_count": 13,
   "metadata": {},
   "outputs": [],
   "source": [
    "from sklearn.preprocessing import StandardScaler, normalize\n",
    "stdscl = StandardScaler(with_mean=True, with_std=True)"
   ]
  },
  {
   "cell_type": "code",
   "execution_count": 14,
   "metadata": {},
   "outputs": [],
   "source": [
    "X_train_std = pd.DataFrame(stdscl.fit_transform(X_train_median))\n",
    "X_train_norm = pd.DataFrame(normalize(X_train_median))\n",
    "\n",
    "X_test_std = pd.DataFrame(stdscl.fit_transform(X_test_median))\n",
    "X_test_norm = pd.DataFrame(normalize(X_test_median))"
   ]
  },
  {
   "cell_type": "code",
   "execution_count": 15,
   "metadata": {},
   "outputs": [
    {
     "data": {
      "text/html": [
       "<div>\n",
       "<style scoped>\n",
       "    .dataframe tbody tr th:only-of-type {\n",
       "        vertical-align: middle;\n",
       "    }\n",
       "\n",
       "    .dataframe tbody tr th {\n",
       "        vertical-align: top;\n",
       "    }\n",
       "\n",
       "    .dataframe thead th {\n",
       "        text-align: right;\n",
       "    }\n",
       "</style>\n",
       "<table border=\"1\" class=\"dataframe\">\n",
       "  <thead>\n",
       "    <tr style=\"text-align: right;\">\n",
       "      <th></th>\n",
       "      <th>0</th>\n",
       "      <th>1</th>\n",
       "      <th>2</th>\n",
       "      <th>3</th>\n",
       "      <th>4</th>\n",
       "      <th>5</th>\n",
       "      <th>6</th>\n",
       "    </tr>\n",
       "  </thead>\n",
       "  <tbody>\n",
       "    <tr>\n",
       "      <th>count</th>\n",
       "      <td>9.940000e+02</td>\n",
       "      <td>9.940000e+02</td>\n",
       "      <td>9.940000e+02</td>\n",
       "      <td>9.940000e+02</td>\n",
       "      <td>9.940000e+02</td>\n",
       "      <td>9.940000e+02</td>\n",
       "      <td>9.940000e+02</td>\n",
       "    </tr>\n",
       "    <tr>\n",
       "      <th>mean</th>\n",
       "      <td>-1.143731e-16</td>\n",
       "      <td>-5.254013e-16</td>\n",
       "      <td>1.007913e-15</td>\n",
       "      <td>-7.148317e-18</td>\n",
       "      <td>1.340309e-17</td>\n",
       "      <td>1.787079e-17</td>\n",
       "      <td>7.863149e-17</td>\n",
       "    </tr>\n",
       "    <tr>\n",
       "      <th>std</th>\n",
       "      <td>1.000503e+00</td>\n",
       "      <td>1.000503e+00</td>\n",
       "      <td>1.000503e+00</td>\n",
       "      <td>1.000503e+00</td>\n",
       "      <td>1.000503e+00</td>\n",
       "      <td>1.000503e+00</td>\n",
       "      <td>1.000503e+00</td>\n",
       "    </tr>\n",
       "    <tr>\n",
       "      <th>min</th>\n",
       "      <td>-2.933951e+00</td>\n",
       "      <td>-2.995198e+00</td>\n",
       "      <td>-3.420015e+00</td>\n",
       "      <td>-1.904227e+00</td>\n",
       "      <td>-7.502684e-02</td>\n",
       "      <td>-2.747333e+00</td>\n",
       "      <td>-1.628958e+00</td>\n",
       "    </tr>\n",
       "    <tr>\n",
       "      <th>25%</th>\n",
       "      <td>-6.499636e-01</td>\n",
       "      <td>-6.189883e-01</td>\n",
       "      <td>-4.797841e-01</td>\n",
       "      <td>-6.563066e-01</td>\n",
       "      <td>-7.502684e-02</td>\n",
       "      <td>-1.367422e-01</td>\n",
       "      <td>-3.475941e-01</td>\n",
       "    </tr>\n",
       "    <tr>\n",
       "      <th>50%</th>\n",
       "      <td>-1.170333e-01</td>\n",
       "      <td>-1.273588e-01</td>\n",
       "      <td>1.082620e-01</td>\n",
       "      <td>-2.892712e-01</td>\n",
       "      <td>-7.502684e-02</td>\n",
       "      <td>2.641967e-02</td>\n",
       "      <td>-3.475941e-01</td>\n",
       "    </tr>\n",
       "    <tr>\n",
       "      <th>75%</th>\n",
       "      <td>4.920299e-01</td>\n",
       "      <td>6.100855e-01</td>\n",
       "      <td>5.786989e-01</td>\n",
       "      <td>2.979855e-01</td>\n",
       "      <td>-7.502684e-02</td>\n",
       "      <td>1.351943e-01</td>\n",
       "      <td>1.183562e-01</td>\n",
       "    </tr>\n",
       "    <tr>\n",
       "      <th>max</th>\n",
       "      <td>3.841878e+00</td>\n",
       "      <td>4.133430e+00</td>\n",
       "      <td>5.871114e+00</td>\n",
       "      <td>5.436481e+00</td>\n",
       "      <td>2.789618e+01</td>\n",
       "      <td>2.989297e+01</td>\n",
       "      <td>2.458711e+01</td>\n",
       "    </tr>\n",
       "  </tbody>\n",
       "</table>\n",
       "</div>"
      ],
      "text/plain": [
       "                  0             1             2             3             4  \\\n",
       "count  9.940000e+02  9.940000e+02  9.940000e+02  9.940000e+02  9.940000e+02   \n",
       "mean  -1.143731e-16 -5.254013e-16  1.007913e-15 -7.148317e-18  1.340309e-17   \n",
       "std    1.000503e+00  1.000503e+00  1.000503e+00  1.000503e+00  1.000503e+00   \n",
       "min   -2.933951e+00 -2.995198e+00 -3.420015e+00 -1.904227e+00 -7.502684e-02   \n",
       "25%   -6.499636e-01 -6.189883e-01 -4.797841e-01 -6.563066e-01 -7.502684e-02   \n",
       "50%   -1.170333e-01 -1.273588e-01  1.082620e-01 -2.892712e-01 -7.502684e-02   \n",
       "75%    4.920299e-01  6.100855e-01  5.786989e-01  2.979855e-01 -7.502684e-02   \n",
       "max    3.841878e+00  4.133430e+00  5.871114e+00  5.436481e+00  2.789618e+01   \n",
       "\n",
       "                  5             6  \n",
       "count  9.940000e+02  9.940000e+02  \n",
       "mean   1.787079e-17  7.863149e-17  \n",
       "std    1.000503e+00  1.000503e+00  \n",
       "min   -2.747333e+00 -1.628958e+00  \n",
       "25%   -1.367422e-01 -3.475941e-01  \n",
       "50%    2.641967e-02 -3.475941e-01  \n",
       "75%    1.351943e-01  1.183562e-01  \n",
       "max    2.989297e+01  2.458711e+01  "
      ]
     },
     "execution_count": 15,
     "metadata": {},
     "output_type": "execute_result"
    }
   ],
   "source": [
    "X_train_std.describe()"
   ]
  },
  {
   "cell_type": "code",
   "execution_count": 16,
   "metadata": {},
   "outputs": [
    {
     "data": {
      "text/html": [
       "<div>\n",
       "<style scoped>\n",
       "    .dataframe tbody tr th:only-of-type {\n",
       "        vertical-align: middle;\n",
       "    }\n",
       "\n",
       "    .dataframe tbody tr th {\n",
       "        vertical-align: top;\n",
       "    }\n",
       "\n",
       "    .dataframe thead th {\n",
       "        text-align: right;\n",
       "    }\n",
       "</style>\n",
       "<table border=\"1\" class=\"dataframe\">\n",
       "  <thead>\n",
       "    <tr style=\"text-align: right;\">\n",
       "      <th></th>\n",
       "      <th>0</th>\n",
       "      <th>1</th>\n",
       "      <th>2</th>\n",
       "      <th>3</th>\n",
       "      <th>4</th>\n",
       "      <th>5</th>\n",
       "      <th>6</th>\n",
       "    </tr>\n",
       "  </thead>\n",
       "  <tbody>\n",
       "    <tr>\n",
       "      <th>count</th>\n",
       "      <td>994.000000</td>\n",
       "      <td>994.000000</td>\n",
       "      <td>994.000000</td>\n",
       "      <td>994.000000</td>\n",
       "      <td>994.000000</td>\n",
       "      <td>994.000000</td>\n",
       "      <td>994.000000</td>\n",
       "    </tr>\n",
       "    <tr>\n",
       "      <th>mean</th>\n",
       "      <td>0.406848</td>\n",
       "      <td>0.408395</td>\n",
       "      <td>0.417271</td>\n",
       "      <td>0.212003</td>\n",
       "      <td>0.422065</td>\n",
       "      <td>0.417614</td>\n",
       "      <td>0.229606</td>\n",
       "    </tr>\n",
       "    <tr>\n",
       "      <th>std</th>\n",
       "      <td>0.084098</td>\n",
       "      <td>0.082189</td>\n",
       "      <td>0.076726</td>\n",
       "      <td>0.099143</td>\n",
       "      <td>0.051295</td>\n",
       "      <td>0.060741</td>\n",
       "      <td>0.086880</td>\n",
       "    </tr>\n",
       "    <tr>\n",
       "      <th>min</th>\n",
       "      <td>0.052470</td>\n",
       "      <td>0.044185</td>\n",
       "      <td>0.095172</td>\n",
       "      <td>0.000000</td>\n",
       "      <td>0.082045</td>\n",
       "      <td>0.000000</td>\n",
       "      <td>0.000000</td>\n",
       "    </tr>\n",
       "    <tr>\n",
       "      <th>25%</th>\n",
       "      <td>0.353515</td>\n",
       "      <td>0.358260</td>\n",
       "      <td>0.371180</td>\n",
       "      <td>0.145230</td>\n",
       "      <td>0.395575</td>\n",
       "      <td>0.390407</td>\n",
       "      <td>0.180328</td>\n",
       "    </tr>\n",
       "    <tr>\n",
       "      <th>50%</th>\n",
       "      <td>0.408093</td>\n",
       "      <td>0.410041</td>\n",
       "      <td>0.426579</td>\n",
       "      <td>0.186693</td>\n",
       "      <td>0.420763</td>\n",
       "      <td>0.422914</td>\n",
       "      <td>0.201132</td>\n",
       "    </tr>\n",
       "    <tr>\n",
       "      <th>75%</th>\n",
       "      <td>0.457873</td>\n",
       "      <td>0.459554</td>\n",
       "      <td>0.468744</td>\n",
       "      <td>0.252458</td>\n",
       "      <td>0.446513</td>\n",
       "      <td>0.451624</td>\n",
       "      <td>0.251100</td>\n",
       "    </tr>\n",
       "    <tr>\n",
       "      <th>max</th>\n",
       "      <td>0.686168</td>\n",
       "      <td>0.700569</td>\n",
       "      <td>0.694444</td>\n",
       "      <td>0.666815</td>\n",
       "      <td>0.966781</td>\n",
       "      <td>0.984776</td>\n",
       "      <td>0.971999</td>\n",
       "    </tr>\n",
       "  </tbody>\n",
       "</table>\n",
       "</div>"
      ],
      "text/plain": [
       "                0           1           2           3           4           5  \\\n",
       "count  994.000000  994.000000  994.000000  994.000000  994.000000  994.000000   \n",
       "mean     0.406848    0.408395    0.417271    0.212003    0.422065    0.417614   \n",
       "std      0.084098    0.082189    0.076726    0.099143    0.051295    0.060741   \n",
       "min      0.052470    0.044185    0.095172    0.000000    0.082045    0.000000   \n",
       "25%      0.353515    0.358260    0.371180    0.145230    0.395575    0.390407   \n",
       "50%      0.408093    0.410041    0.426579    0.186693    0.420763    0.422914   \n",
       "75%      0.457873    0.459554    0.468744    0.252458    0.446513    0.451624   \n",
       "max      0.686168    0.700569    0.694444    0.666815    0.966781    0.984776   \n",
       "\n",
       "                6  \n",
       "count  994.000000  \n",
       "mean     0.229606  \n",
       "std      0.086880  \n",
       "min      0.000000  \n",
       "25%      0.180328  \n",
       "50%      0.201132  \n",
       "75%      0.251100  \n",
       "max      0.971999  "
      ]
     },
     "execution_count": 16,
     "metadata": {},
     "output_type": "execute_result"
    }
   ],
   "source": [
    "X_train_norm.describe()"
   ]
  },
  {
   "cell_type": "code",
   "execution_count": 17,
   "metadata": {},
   "outputs": [],
   "source": [
    "from sklearn.neighbors import KNeighborsClassifier\n",
    "from sklearn.tree import DecisionTreeClassifier"
   ]
  },
  {
   "cell_type": "code",
   "execution_count": 18,
   "metadata": {},
   "outputs": [],
   "source": [
    "knn_10 = KNeighborsClassifier(n_neighbors=10)\n",
    "knn = KNeighborsClassifier(n_neighbors=5)\n",
    "dtc = DecisionTreeClassifier()"
   ]
  },
  {
   "cell_type": "code",
   "execution_count": 19,
   "metadata": {},
   "outputs": [],
   "source": [
    "X_train = X_train_norm\n",
    "X_test = X_test_norm"
   ]
  },
  {
   "cell_type": "code",
   "execution_count": 20,
   "metadata": {},
   "outputs": [],
   "source": [
    "knn.fit(X_train, y_train)\n",
    "score_train_knn = knn.score(X_train, y_train)\n",
    "score_test_knn = knn.score(X_test, y_test)\n",
    "\n",
    "\n",
    "\n",
    "knn_10.fit(X_train, y_train)\n",
    "score_train_knn_10 = knn_10.score(X_train, y_train)\n",
    "score_test_knn_10 = knn_10.score(X_test, y_test)"
   ]
  },
  {
   "cell_type": "code",
   "execution_count": 21,
   "metadata": {},
   "outputs": [
    {
     "name": "stdout",
     "output_type": "stream",
     "text": [
      "0.8098591549295775    training k = 5\n",
      "0.6816326530612244    test k = 5\n",
      "0.772635814889336    training k = 10\n",
      "0.6693877551020408    test k = 10\n"
     ]
    }
   ],
   "source": [
    "print(score_train_knn, \"   training k = 5\")\n",
    "print(score_test_knn, \"   test k = 5\")\n",
    "\n",
    "\n",
    "print(score_train_knn_10, \"   training k = 10\")\n",
    "print(score_test_knn_10, \"   test k = 10\")\n"
   ]
  },
  {
   "cell_type": "code",
   "execution_count": 22,
   "metadata": {},
   "outputs": [],
   "source": [
    "from sklearn.preprocessing import KBinsDiscretizer\n",
    "enc = KBinsDiscretizer(n_bins=5, encode='ordinal')\n",
    "\n",
    "\n",
    "X_binned = enc.fit_transform(X_train)\n",
    "X_binned_test = enc.fit_transform(X_test)"
   ]
  },
  {
   "cell_type": "code",
   "execution_count": 23,
   "metadata": {},
   "outputs": [],
   "source": [
    "dtc.fit(X_binned, y_train)\n",
    "score_dtc = dtc.score(X_binned, y_train)\n",
    "score_test_dtc = dtc.score(X_binned_test, y_test)"
   ]
  },
  {
   "cell_type": "code",
   "execution_count": 24,
   "metadata": {},
   "outputs": [
    {
     "name": "stdout",
     "output_type": "stream",
     "text": [
      "0.9798792756539235    training dtc\n",
      "0.6551020408163265    test dtc\n"
     ]
    }
   ],
   "source": [
    "print(score_dtc, \"   training dtc\")\n",
    "print(score_test_dtc, \"   test dtc\")\n"
   ]
  },
  {
   "cell_type": "code",
   "execution_count": 25,
   "metadata": {},
   "outputs": [],
   "source": [
    "def pair_interaction_featurize(X):\n",
    "    features_multiplied = pd.DataFrame()\n",
    "    for i in X:\n",
    "        for j in X:\n",
    "            if int(j) > int(i):\n",
    "                col1 = pd.Series(X[i])\n",
    "                col2 = pd.Series(X[j])\n",
    "                col1 = col1.mul(col2)\n",
    "                features_multiplied[int(str(i) + str(j))] = col1 \n",
    "    generated_features = pd.concat([features_multiplied, X], axis=1)\n",
    "    return features_multiplied\n",
    "\n",
    "         \n",
    "X_train_interaction_pair = pair_interaction_featurize(X_train)\n",
    "X_test_interaction_pair = pair_interaction_featurize(X_test)"
   ]
  },
  {
   "cell_type": "code",
   "execution_count": 77,
   "metadata": {},
   "outputs": [],
   "source": [
    "from sklearn.feature_selection import mutual_info_classif\n",
    "\n",
    "enc_mi = KBinsDiscretizer(n_bins = 5, encode = \"ordinal\")\n",
    "X_binned_mi = enc_mi.fit_transform(X_train_interaction_pair)\n",
    "X_binned_test_mi = enc_mi.fit_transform(X_test_interaction_pair)\n",
    "\n",
    "mutual_info_classifier = mutual_info_classif(X_binned_mi, y_train)\n",
    "\n",
    "\n",
    "entropy_with_index = sorted([(index, el) for index, el in zip(mutual_info_classifier, X_train_interaction_pair.columns)], key=lambda x: x[0], reverse=True)\n"
   ]
  },
  {
   "cell_type": "code",
   "execution_count": 75,
   "metadata": {},
   "outputs": [],
   "source": [
    "scores_train = []\n",
    "scores_test = []\n",
    "for i in range(1, len(entropy_with_index)):\n",
    "    columns = [i[1] for i in entropy_with_index[0:i]]\n",
    "    knn.fit(X_train_interaction_pair[columns], y_train)\n",
    "    score_train  = knn.score(X_train_interaction_pair[columns], y_train)\n",
    "    score_test  = knn.score(X_test_interaction_pair[columns], y_test)\n",
    "    scores_train.append(score_train)\n",
    "    scores_test.append(score_test)"
   ]
  },
  {
   "cell_type": "code",
   "execution_count": 76,
   "metadata": {},
   "outputs": [
    {
     "name": "stdout",
     "output_type": "stream",
     "text": [
      "0.8189134808853119 training score\n",
      "0.6836734693877551 test score\n"
     ]
    },
    {
     "data": {
      "image/png": "[encoded data removed]",
      "text/plain": [
       "<Figure size 432x288 with 1 Axes>"
      ]
     },
     "metadata": {
      "needs_background": "light"
     },
     "output_type": "display_data"
    }
   ],
   "source": [
    "range_n = range(1, len(entropy_with_index))    \n",
    "op = plt.plot(range_n, scores_train)\n",
    "plt.setp(op,'marker', 'x')\n",
    "plt.xlabel(\"Value for n\")\n",
    "plt.xticks(range_n)\n",
    "plt.ylabel(\"Score\")\n",
    "print(max(scores_train), \"training score\")\n",
    "print(max(scores_test), \"test score\")\n",
    "plt.show()"
   ]
  },
  {
   "cell_type": "code",
   "execution_count": 29,
   "metadata": {},
   "outputs": [],
   "source": [
    "def kmeans_interaction_featurize(X, X_binned):\n",
    "    kmeans = []\n",
    "    KMEANS_RANGE = 16\n",
    "    generated_features_kmeans = pd.DataFrame()\n",
    "    for i in range(2, KMEANS_RANGE):\n",
    "        kmeans.append(KMeans(n_clusters=i, random_state = 0).fit(X))\n",
    "        generated_features_kmeans[int(str(1) + str(i))] = kmeans[i-2].predict(X)\n",
    "    generated_features_kmeans = pd.concat([generated_features_kmeans, X_binned], axis=1)\n",
    "    return generated_features_kmeans"
   ]
  },
  {
   "cell_type": "code",
   "execution_count": 30,
   "metadata": {},
   "outputs": [],
   "source": [
    "from sklearn.cluster import KMeans\n",
    "X_binned_kmeans = enc_mi.fit_transform(X_train)\n",
    "X_binned_test_kmeans = enc_mi.fit_transform(X_test)"
   ]
  },
  {
   "cell_type": "code",
   "execution_count": 31,
   "metadata": {},
   "outputs": [],
   "source": [
    "enc_mi = KBinsDiscretizer(n_bins=15, encode = \"ordinal\")\n",
    "X_binned_mi = pd.DataFrame(enc_mi.fit_transform(X_train))\n",
    "X_binned_test_mi = pd.DataFrame(enc_mi.fit_transform(X_test))"
   ]
  },
  {
   "cell_type": "code",
   "execution_count": 32,
   "metadata": {},
   "outputs": [],
   "source": [
    "X_train_kmeans = kmeans_interaction_featurize(X_train, X_binned_mi)\n",
    "X_test_kmeans = kmeans_interaction_featurize(X_test, X_binned_test_mi)"
   ]
  },
  {
   "cell_type": "code",
   "execution_count": 33,
   "metadata": {},
   "outputs": [
    {
     "data": {
      "text/plain": [
       "[(0.08596589644671826, 114),\n",
       " (0.07800205842732244, 17),\n",
       " (0.06963796280376355, 16),\n",
       " (0.06771314423597197, 2),\n",
       " (0.06264923697628433, 18),\n",
       " (0.06191127509351824, 115),\n",
       " (0.060408552588411935, 110),\n",
       " (0.05727532373967881, 111),\n",
       " (0.05246286922124055, 113),\n",
       " (0.04782976036168707, 15),\n",
       " (0.043436706105424605, 19),\n",
       " (0.038044992405553923, 112),\n",
       " (0.033679240915725384, 14),\n",
       " (0.02572160485003039, 3),\n",
       " (0.01330517405647802, 0),\n",
       " (0.012969431362598094, 6),\n",
       " (0.008305717745434649, 1),\n",
       " (0.0034714568663778422, 4),\n",
       " (0.0, 12),\n",
       " (0.0, 13),\n",
       " (0.0, 5)]"
      ]
     },
     "execution_count": 33,
     "metadata": {},
     "output_type": "execute_result"
    }
   ],
   "source": [
    "from sklearn.feature_selection import mutual_info_classif\n",
    "\n",
    "mutual_info_classifier = mutual_info_classif(X_train_kmeans, y_train)\n",
    "entropy_with_index = sorted([(index, el) for index, el in zip(mutual_info_classifier, X_train_kmeans.columns)], key=lambda x: x[0], reverse=True)\n",
    "\n",
    "entropy_with_index"
   ]
  },
  {
   "cell_type": "code",
   "execution_count": 34,
   "metadata": {},
   "outputs": [],
   "source": [
    "scores_train_kmeans = []\n",
    "scores_test_kmeans = []\n",
    "for i in range(1, len(entropy_with_index)):\n",
    "    columns = [i[1] for i in entropy_with_index[0:i]]\n",
    "    knn.fit(X_train_kmeans[columns], y_train)\n",
    "    score_train_kmeans  = knn.score(X_train_kmeans[columns], y_train)\n",
    "    score_test_kmeans  = knn.score(X_test_kmeans[columns], y_test)\n",
    "    scores_train_kmeans.append(score_train_kmeans)\n",
    "    scores_test_kmeans.append(score_test_kmeans)"
   ]
  },
  {
   "cell_type": "code",
   "execution_count": 35,
   "metadata": {},
   "outputs": [
    {
     "name": "stdout",
     "output_type": "stream",
     "text": [
      "0.8028169014084507 training score\n",
      "0.6693877551020408 test score\n"
     ]
    },
    {
     "data": {
      "image/png": "[encoded data removed]",
      "text/plain": [
       "<Figure size 432x288 with 1 Axes>"
      ]
     },
     "metadata": {
      "needs_background": "light"
     },
     "output_type": "display_data"
    }
   ],
   "source": [
    "import matplotlib.pyplot as plt\n",
    "range_n = range(1, len(entropy_with_index))    \n",
    "op = plt.plot(range_n, scores_train_kmeans)\n",
    "plt.setp(op,'marker', 'x')\n",
    "plt.xlabel(\"Value for n\")\n",
    "plt.xticks(range_n)\n",
    "plt.ylabel(\"Score\")\n",
    "print(max(scores_train_kmeans), \"training score\")\n",
    "print(max(scores_test_kmeans), \"test score\")\n",
    "plt.show()"
   ]
  },
  {
   "cell_type": "code",
   "execution_count": null,
   "metadata": {},
   "outputs": [],
   "source": []
  }
 ],
 "metadata": {
  "kernelspec": {
   "display_name": "Python 3",
   "language": "python",
   "name": "python3"
  },
  "language_info": {
   "codemirror_mode": {
    "name": "ipython",
    "version": 3
   },
   "file_extension": ".py",
   "mimetype": "text/x-python",
   "name": "python",
   "nbconvert_exporter": "python",
   "pygments_lexer": "ipython3",
   "version": "3.7.3"
  }
 },
 "nbformat": 4,
 "nbformat_minor": 2
}
